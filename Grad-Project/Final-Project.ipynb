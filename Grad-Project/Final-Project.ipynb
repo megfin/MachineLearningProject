{
 "cells": [
  {
   "cell_type": "markdown",
   "metadata": {},
   "source": [
    "# Models to Combat Class Imbalance and Predict Pneumonia"
   ]
  },
  {
   "cell_type": "code",
   "execution_count": 98,
   "metadata": {},
   "outputs": [],
   "source": [
    "import PIL\n",
    "from PIL import Image\n",
    "from PIL import ImageOps\n",
    "from skimage import color\n",
    "from skimage import io, transform\n",
    "import pandas as pd\n",
    "import os\n",
    "import matplotlib.pyplot as plt\n",
    "import numpy as np\n",
    "import torch\n",
    "import torch.nn as nn\n",
    "import torch.nn.functional as F\n",
    "from torch.utils.data import Dataset, TensorDataset\n",
    "import re\n",
    "from sklearn.metrics import confusion_matrix\n",
    "import torchvision.transforms as transforms\n",
    "import plotly.graph_objects as go"
   ]
  },
  {
   "cell_type": "code",
   "execution_count": 3,
   "metadata": {},
   "outputs": [
    {
     "name": "stdout",
     "output_type": "stream",
     "text": [
      "Done\n",
      "Done\n",
      "Done\n",
      "Done\n",
      "Done\n",
      "Done\n",
      "Done\n",
      "Done\n"
     ]
    }
   ],
   "source": [
    "#function to check file names since pneumonia dataset is composed of viral and bacterial pneumonia\n",
    "def separate_pneumonia(file_list):\n",
    "    bacteria_list = []\n",
    "    virus_list = []\n",
    "    #regular expressions to search for word in file name\n",
    "    bacteria = re.compile(r\"bacteria\")\n",
    "    virus = re.compile(r\"virus\")\n",
    "    for file in file_list:\n",
    "        if bacteria.search(file):\n",
    "            bacteria_list.append(file)\n",
    "        elif virus.search(file):\n",
    "            virus_list.append(file)\n",
    "    return bacteria_list,virus_list\n",
    "    \n",
    "#define the paths for all training, testing, and validation data, both normal and pneumonia images\n",
    "\n",
    "test_normal_path = r\"C:\\Users\\Megan Finley\\Documents\\Fall2019\\CSCI547_MachineLearning\\Grad-Project\\Data\\chest_xray\\test\\NORMAL\\\\\"\n",
    "test_pneumonia_path = r\"C:\\Users\\Megan Finley\\Documents\\Fall2019\\CSCI547_MachineLearning\\Grad-Project\\Data\\chest_xray\\test\\PNEUMONIA\\\\\"\n",
    "\n",
    "test_files_normal= os.listdir(test_normal_path)\n",
    "test_files_pneumonia = os.listdir(test_pneumonia_path)\n",
    "test_files_pneumonia_bacteria, test_files_pneumonia_virus = separate_pneumonia(test_files_pneumonia)\n",
    "\n",
    "train_normal_path = r\"C:\\Users\\Megan Finley\\Documents\\Fall2019\\CSCI547_MachineLearning\\Grad-Project\\Data\\chest_xray\\train\\NORMAL\\\\\"\n",
    "train_pneumonia_path = r\"C:\\Users\\Megan Finley\\Documents\\Fall2019\\CSCI547_MachineLearning\\Grad-Project\\Data\\chest_xray\\train\\PNEUMONIA\\\\\"\n",
    "\n",
    "train_files_normal = os.listdir(train_normal_path)\n",
    "train_files_pneumonia = os.listdir(train_pneumonia_path)\n",
    "train_files_pneumonia_bacteria, train_files_pneumonia_virus = separate_pneumonia(train_files_pneumonia)\n",
    "\n",
    "\n",
    "val_normal_path = r\"C:\\Users\\Megan Finley\\Documents\\Fall2019\\CSCI547_MachineLearning\\Grad-Project\\Data\\chest_xray\\val\\NORMAL\\\\\"\n",
    "val_pneumonia_path = r\"C:\\Users\\Megan Finley\\Documents\\Fall2019\\CSCI547_MachineLearning\\Grad-Project\\Data\\chest_xray\\val\\PNEUMONIA\\\\\"\n",
    "\n",
    "val_files_normal = os.listdir(val_normal_path)\n",
    "val_files_pneumonia = os.listdir(val_pneumonia_path)\n",
    "\n",
    "#initialize lists where array of converted image will be stored. Lists for normal and pneumonia will be combined later\n",
    "\n",
    "#consider initializing as an array\n",
    "test_normal=[]\n",
    "test_pneumonia_bacteria = []\n",
    "test_pneumonia_virus = []\n",
    "\n",
    "train_normal = []\n",
    "train_pneumonia_bacteria = []\n",
    "train_pneumonia_virus = []\n",
    "\n",
    "val_normal = []\n",
    "val_pneumonia = []\n",
    "\n",
    "#new height and width for images since all images are different sizes \n",
    "new_width  = 50\n",
    "new_height = 50\n",
    "inputs = new_width*new_height\n",
    "N = 2\n",
    "\n",
    "def read_in_image(path, file_list, new_width, new_height,flattened = False):\n",
    "    image_list = []\n",
    "    for image in file_list:\n",
    "        size = (new_width,new_height)\n",
    "        image = color.rgb2gray(io.imread(path + image))\n",
    "        image = transform.resize(image, size, mode='constant')\n",
    "        if flattened:\n",
    "            image = image.flatten()\n",
    "        image_list.append(image)\n",
    "    return image_list\n",
    "\n",
    "test_normal = read_in_image(test_normal_path,test_files_normal,new_width,new_height) \n",
    "print('Done')\n",
    "test_pneumonia_bacteria = read_in_image(test_pneumonia_path,test_files_pneumonia_bacteria,new_width,new_height)\n",
    "print('Done')\n",
    "test_pneumonia_virus = read_in_image(test_pneumonia_path,test_files_pneumonia_virus,new_width,new_height)\n",
    "print('Done')\n",
    "\n",
    "train_normal = read_in_image(train_normal_path,train_files_normal,new_width,new_height) \n",
    "print('Done')\n",
    "train_pneumonia_bacteria = read_in_image(train_pneumonia_path,train_files_pneumonia_bacteria,new_width,new_height)\n",
    "print('Done')\n",
    "train_pneumonia_virus = read_in_image(train_pneumonia_path,train_files_pneumonia_virus,new_width,new_height)\n",
    "print('Done')\n",
    "\n",
    "val_normal = read_in_image(val_normal_path,val_files_normal,new_width,new_height) \n",
    "print('Done')\n",
    "val_pneumonia = read_in_image(val_pneumonia_path,val_files_pneumonia,new_width,new_height)\n",
    "print('Done')"
   ]
  },
  {
   "cell_type": "markdown",
   "metadata": {},
   "source": [
    "**Make Labels and Lists of the Data**"
   ]
  },
  {
   "cell_type": "code",
   "execution_count": 134,
   "metadata": {},
   "outputs": [],
   "source": [
    "#consolidate lists and create y labels: 0 for normal 1 for pneumonia or 0 for normal, 1 for bacteria and 2 for virus\n",
    "#length of lists for making y labels\n",
    "tb = len(test_pneumonia_bacteria)\n",
    "tv = len(test_pneumonia_virus)\n",
    "tn = len(test_normal)\n",
    "trb = len(train_pneumonia_bacteria)\n",
    "trv = len(train_pneumonia_virus)\n",
    "trn = len(train_normal)\n",
    "\n",
    "x_test = []\n",
    "x_test.extend(test_normal)\n",
    "x_test.extend(test_pneumonia_bacteria) \n",
    "x_test.extend(test_pneumonia_virus)\n",
    "x_test = np.array(x_test)\n",
    "\n",
    "#initialize lists for various y_test data\n",
    "y_test_2class = []\n",
    "y_test_3class = []\n",
    "\n",
    "y_test_normal = [0]*tn\n",
    "y_test_pneumonia_bacteria = [1]*tb\n",
    "y_test_pneumonia_virus = [2]*tv\n",
    "y_test_pneumonia2 = [1]*(tv+tb)\n",
    "\n",
    "#y_test if we treat data with 2 classes\n",
    "y_test_2class.extend(y_test_normal)\n",
    "y_test_2class.extend(y_test_pneumonia2)\n",
    "y_test_2class = np.array(y_test_2class)\n",
    "\n",
    "#y_test if we treat data with 3 classes\n",
    "y_test_3class.extend(y_test_normal)\n",
    "y_test_3class.extend(y_test_pneumonia_bacteria)\n",
    "y_test_3class.extend(y_test_pneumonia_virus)\n",
    "y_test_3class = np.array(y_test_3class)\n",
    "\n",
    "x_train = []\n",
    "x_train.extend(train_normal)\n",
    "x_train.extend(train_pneumonia_bacteria) #len of training set:5216\n",
    "x_train.extend(train_pneumonia_virus)\n",
    "x_train = np.array(x_train)\n",
    "\n",
    "#initailize lists for y_train data\n",
    "y_train_2class = []\n",
    "y_train_3class = []\n",
    "\n",
    "y_train_normal = [0]*trn\n",
    "y_train_pneumonia_bacteria = [1]*trb\n",
    "y_train_pneumonia_virus = [2]*trv\n",
    "y_train_pneumonia2 = [1]*(trb+trv)\n",
    "\n",
    "#y_train if we have 2 classes\n",
    "y_train_2class.extend(y_train_normal)\n",
    "y_train_2class.extend(y_train_pneumonia2)\n",
    "y_train_2class = np.array(y_train_2class)\n",
    "\n",
    "#y_train if we have 3 classes\n",
    "y_train_3class.extend(y_train_normal)\n",
    "y_train_3class.extend(y_train_pneumonia_bacteria)\n",
    "y_train_3class.extend(y_train_pneumonia_virus)\n",
    "y_train_3class = np.array(y_train_3class)\n",
    "\n",
    "x_val = []\n",
    "x_val.extend(val_normal)\n",
    "x_val.extend(val_pneumonia)\n",
    "x_val = np.array(x_val)\n",
    "\n",
    "y_val = []\n",
    "y_val_normal = [0]*len(val_normal)\n",
    "y_val_pneumonia = [1]*len(val_pneumonia)\n",
    "y_val.extend(y_val_normal)\n",
    "y_val.extend(y_val_pneumonia)\n",
    "y_val = np.array(y_val)"
   ]
  },
  {
   "cell_type": "code",
   "execution_count": 135,
   "metadata": {},
   "outputs": [],
   "source": [
    "#cast data to tensors and reshape data for cnn, cnn expects channels, we only have 1\n",
    "x_train = torch.from_numpy(x_train)\n",
    "x_test = torch.from_numpy(x_test)\n",
    "y_train_2class = torch.from_numpy(y_train_2class)\n",
    "y_train_3class = torch.from_numpy(y_train_3class)\n",
    "y_test_2class = torch.from_numpy(y_test_2class) \n",
    "y_test_3class = torch.from_numpy(y_test_3class) \n",
    "x_val = torch.from_numpy(x_val)\n",
    "y_val = torch.from_numpy(y_val)\n",
    "\n",
    "x_train = x_train.to(torch.float32)\n",
    "x_train_2d = x_train.reshape(-1,1,50,50)#need channels for cnn\n",
    "x_train_1d = x_train.reshape(-1,1,2500)\n",
    "x_test = x_test.to(torch.float32)\n",
    "x_test_2d = x_test.reshape(-1,1,50,50)#need channels for cnn\n",
    "x_test_1d = x_test.reshape(-1,1,2500)\n",
    "y_train_2class = y_train_2class.to(torch.long)\n",
    "y_train_3class = y_train_3class.to(torch.long)\n",
    "y_test_2class = y_test_2class.to(torch.long)\n",
    "y_test_3class = y_test_3class.to(torch.long)"
   ]
  },
  {
   "cell_type": "markdown",
   "metadata": {},
   "source": [
    "**Scaled Data**"
   ]
  },
  {
   "cell_type": "code",
   "execution_count": 105,
   "metadata": {},
   "outputs": [
    {
     "data": {
      "image/png": "[encoded data removed]",
      "text/plain": [
       "<Figure size 432x288 with 1 Axes>"
      ]
     },
     "metadata": {
      "needs_background": "light"
     },
     "output_type": "display_data"
    },
    {
     "data": {
      "image/png": "[encoded data removed]",
      "text/plain": [
       "<Figure size 432x288 with 1 Axes>"
      ]
     },
     "metadata": {
      "needs_background": "light"
     },
     "output_type": "display_data"
    },
    {
     "data": {
      "image/png": "[encoded data removed]",
      "text/plain": [
       "<Figure size 432x288 with 1 Axes>"
      ]
     },
     "metadata": {
      "needs_background": "light"
     },
     "output_type": "display_data"
    },
    {
     "data": {
      "image/png": "[encoded data removed]",
      "text/plain": [
       "<Figure size 432x288 with 1 Axes>"
      ]
     },
     "metadata": {
      "needs_background": "light"
     },
     "output_type": "display_data"
    }
   ],
   "source": [
    "#what the images look like scaled down\n",
    "plt.imshow(test_normal[100].reshape(50,50))\n",
    "plt.show()\n",
    "plt.imshow(test_pneumonia_bacteria[100].reshape(50,50))\n",
    "plt.show()\n",
    "plt.imshow(train_normal[100].reshape(50,50))\n",
    "plt.show()\n",
    "plt.imshow(train_pneumonia_virus[100].reshape(50,50))\n",
    "plt.show()\n"
   ]
  },
  {
   "cell_type": "markdown",
   "metadata": {},
   "source": [
    "# 1D Convolutional Neural Networks for 2 and 3 Class Data"
   ]
  },
  {
   "cell_type": "code",
   "execution_count": 200,
   "metadata": {},
   "outputs": [],
   "source": [
    "#data for 2 and 3 class\n",
    "training_data_2class = TensorDataset(x_train_1d,y_train_2class)\n",
    "test_data_2class = TensorDataset(x_test_1d,y_test_2class)\n",
    "training_data_3class = TensorDataset(x_train_1d,y_train_3class)\n",
    "test_data_3class = TensorDataset(x_test_1d,y_test_3class)\n",
    "\n",
    "batch_size = 64\n",
    "train_loader_2class = torch.utils.data.DataLoader(dataset=training_data_2class,\n",
    "                                           batch_size=batch_size, \n",
    "                                           shuffle=True)\n",
    "\n",
    "batch_size = 64\n",
    "test_loader_2class = torch.utils.data.DataLoader(dataset=test_data_2class,\n",
    "                                           batch_size=batch_size, \n",
    "                                           shuffle=False)\n",
    "batch_size = 64\n",
    "train_loader_3class = torch.utils.data.DataLoader(dataset=training_data_3class,\n",
    "                                           batch_size=batch_size, \n",
    "                                           shuffle=True)\n",
    "\n",
    "batch_size = 64\n",
    "test_loader_3class = torch.utils.data.DataLoader(dataset=test_data_3class,\n",
    "                                           batch_size=batch_size, \n",
    "                                           shuffle=False)"
   ]
  },
  {
   "cell_type": "markdown",
   "metadata": {},
   "source": [
    "**CNN Using Only Dropout for 2 Class**"
   ]
  },
  {
   "cell_type": "code",
   "execution_count": 162,
   "metadata": {},
   "outputs": [],
   "source": [
    "class Net(nn.Module):\n",
    "    def __init__(self):\n",
    "        \"\"\"\n",
    "        This method is where you'll want to instantiate parameters and functions.\n",
    "        Here, we instantiate 2 1D convolution layers and 2 max pooling layers\n",
    "        \"\"\"\n",
    "        super(Net,self).__init__()\n",
    "        self.conv1= nn.Conv1d(in_channels=1, out_channels=16, kernel_size=3, padding=1) #takes 3 input and outputs 16 \n",
    "        #features, kernel width of 3 takes moving average, padding adds zeros to the boundary\n",
    "        self.pool1 = nn.MaxPool1d(kernel_size=2, stride=2) #2x2 kernel skips two pixels everytime\n",
    "\n",
    "        self.conv2 = nn.Conv1d(in_channels=16, out_channels=64, kernel_size=3, padding=1)#takes 16 inputs (outputs \n",
    "        #from previous layer) outputs 64 features\n",
    "        self.pool2 = nn.MaxPool1d(kernel_size=2, stride=2)\n",
    "\n",
    "\n",
    "        self.l1 = nn.Linear(40000,128) #128 size of hidden layers\n",
    "        self.l2 = nn.Linear(128,64)\n",
    "        self.l3 = nn.Linear(64,2) # number of classes\n",
    "\n",
    "        self.dropout_1 = nn.Dropout(p=0.2)\n",
    "        self.dropout_2 = nn.Dropout(p=0.5)\n",
    "        self.dropout_3 = nn.Dropout(p=0.2)\n",
    "\n",
    "    def forward(self,x):\n",
    "        \"\"\"\n",
    "        This method runs the feedforward neural network.  \n",
    "        \"\"\"\n",
    "        \n",
    "        # Apply convolution\n",
    "        a1 = self.conv1(x)\n",
    "        \n",
    "        # Apply activation function\n",
    "        z1 = torch.relu(a1)\n",
    "        \n",
    "        # Apply max pooling\n",
    "        z1 = self.pool1(z1)\n",
    "                \n",
    "        a2 = self.conv2(z1)\n",
    "        z2 = torch.relu(a2)\n",
    "        z2 = self.pool2(z2)      \n",
    "             \n",
    "        \n",
    "        # Flatten the array we created 40000 new features\n",
    "        z_flat = self.dropout_1(torch.reshape(z2,(-1,40000)))\n",
    "        \n",
    "        # Apply linear transformation\n",
    "        a3 = self.l1(z_flat)\n",
    "        z3 = self.dropout_2(torch.relu(a3)) #applying dropout\n",
    "        \n",
    "        a4 = self.l2(a3)\n",
    "        z4 = self.dropout_3(torch.relu(a4))\n",
    "        \n",
    "        a5 = self.l3(z4)\n",
    "        \n",
    "        return a5"
   ]
  },
  {
   "cell_type": "code",
   "execution_count": 163,
   "metadata": {},
   "outputs": [
    {
     "name": "stdout",
     "output_type": "stream",
     "text": [
      "0 0.23375889658927917 94.09509202453988 80.76923076923077\n",
      "1 0.02899259515106678 95.82055214723927 79.00641025641026\n",
      "2 0.196255624294281 96.52990797546012 74.19871794871794\n",
      "3 0.20480027794837952 96.79831288343559 75.0\n",
      "4 0.043313074856996536 97.71855828220859 77.56410256410257\n",
      "5 0.10896435379981995 97.2967791411043 73.87820512820512\n",
      "6 0.07650396227836609 97.795245398773 75.96153846153847\n",
      "7 0.016804752871394157 98.10199386503068 75.16025641025641\n",
      "8 0.008602779358625412 98.37039877300613 75.96153846153847\n",
      "9 0.030338479205965996 98.52377300613497 76.6025641025641\n",
      "10 0.06316010653972626 98.73466257668711 78.2051282051282\n",
      "11 0.010932722128927708 99.0989263803681 77.88461538461539\n",
      "12 0.013965708203613758 98.71549079754601 72.11538461538461\n",
      "13 0.020256120711565018 99.21395705521472 75.0\n",
      "14 0.06900846213102341 99.44401840490798 77.40384615384616\n",
      "15 0.033697888255119324 99.1180981595092 73.87820512820512\n",
      "16 0.005060783587396145 98.52377300613497 72.59615384615384\n",
      "17 0.008431880734860897 99.71242331288343 76.6025641025641\n",
      "18 0.003624174976721406 99.59739263803681 74.67948717948718\n",
      "19 0.004378105979412794 99.67407975460122 76.12179487179488\n",
      "20 0.007206698879599571 99.48236196319019 79.96794871794872\n",
      "21 0.00024047524493653327 99.86579754601227 77.24358974358974\n",
      "22 0.0028240487445145845 99.76993865030674 75.48076923076923\n",
      "23 0.0023826214019209146 99.82745398773007 78.0448717948718\n",
      "24 0.00018803706916514784 98.46625766871166 81.73076923076923\n",
      "25 0.040860626846551895 99.5590490797546 75.0\n",
      "26 0.0004675386007875204 99.61656441717791 75.32051282051282\n",
      "27 0.013671550899744034 99.86579754601227 77.88461538461539\n",
      "28 0.010143842548131943 99.94248466257669 78.2051282051282\n",
      "29 0.00010278181434841827 99.96165644171779 79.32692307692308\n",
      "30 0.0008241006289608777 99.90414110429448 73.07692307692308\n",
      "31 0.0042594438418745995 99.9808282208589 74.19871794871794\n",
      "32 0.0071183559484779835 99.92331288343559 78.36538461538461\n",
      "33 0.0019935143645852804 99.9808282208589 77.08333333333333\n",
      "34 0.03278748318552971 100.0 78.0448717948718\n",
      "35 0.00015361634723376483 100.0 74.35897435897436\n",
      "36 2.6916683054878376e-05 100.0 78.84615384615384\n",
      "37 0.00036889949114993215 99.96165644171779 75.48076923076923\n",
      "38 0.001975793857127428 99.48236196319019 74.35897435897436\n",
      "39 0.1763976365327835 99.92331288343559 76.12179487179488\n",
      "40 0.0031548922415822744 99.9808282208589 78.68589743589743\n",
      "41 0.000342713639838621 99.96165644171779 75.48076923076923\n",
      "42 0.007566880434751511 99.69325153374233 79.8076923076923\n",
      "43 0.06230678781867027 99.92331288343559 78.0448717948718\n",
      "44 0.00019873221754096448 99.96165644171779 80.60897435897436\n",
      "45 0.00010491353168617934 100.0 75.48076923076923\n",
      "46 4.25031839768053e-06 99.9808282208589 76.4423076923077\n",
      "47 0.00011194025137228891 99.96165644171779 80.12820512820512\n",
      "48 6.444734594879264e-07 100.0 74.83974358974359\n",
      "49 0.018620258197188377 100.0 79.16666666666667\n"
     ]
    }
   ],
   "source": [
    "#below will train a model and compare accuracies for data for 2 class data\n",
    "model_2class = Net()\n",
    "criterion = torch.nn.CrossEntropyLoss(reduction='mean')\n",
    "\n",
    "optimizer = torch.optim.Adam(model_2class.parameters())\n",
    "\n",
    "train_accs_2class = []\n",
    "test_accs_2class = []\n",
    "\n",
    "epochs = 50\n",
    "# Loop over the data\n",
    "for epoch in range(epochs):\n",
    "    model_2class.train()\n",
    "    # Loop over each subset of data\n",
    "    for d,t in train_loader_2class:\n",
    "        # Zero out the optimizer's gradient buffer\n",
    "        optimizer.zero_grad()        \n",
    "        # Make a prediction based on the model\n",
    "        outputs = model_2class(d)        \n",
    "        # Compute the loss\n",
    "        loss = criterion(outputs,t)      \n",
    "        # Use backpropagation to compute the derivative of the loss with respect to the parameters\n",
    "        loss.backward()   \n",
    "        # Use the derivative information to update the parameters\n",
    "        optimizer.step()\n",
    "        \n",
    "    model_2class.eval()\n",
    "    total_2class=0.\n",
    "    correct_2class=0.\n",
    "    # Loop over all the test examples and accumulate the number of correct results in each batch\n",
    "    for d,t in test_loader_2class:\n",
    "        outputs = model_2class(d)\n",
    "        _, predicted = torch.max(outputs.data,1)\n",
    "        total_2class += float(t.size(0))\n",
    "        correct_2class += float((predicted==t).sum())\n",
    "    total_train_2class = 0\n",
    "    correct_train_2class = 0\n",
    "    for d,t in train_loader_2class:\n",
    "        outputs = model_2class(d)\n",
    "        _, predicted = torch.max(outputs.data,1)\n",
    "        total_train_2class += float(t.size(0))\n",
    "        correct_train_2class += float((predicted==t).sum())\n",
    "    \n",
    "    # Print the epoch, the training loss, and the test set accuracy.\n",
    "    train_accs_2class.append(100.*correct_train_2class/total_train_2class)\n",
    "    test_accs_2class.append(100.*correct_2class/total_2class)\n",
    "    \n",
    "    print(epoch,loss.item(),train_accs_2class[-1],test_accs_2class[-1])\n"
   ]
  },
  {
   "cell_type": "markdown",
   "metadata": {},
   "source": [
    "**CNN Using Only Dropout for 3 Class**"
   ]
  },
  {
   "cell_type": "code",
   "execution_count": 164,
   "metadata": {},
   "outputs": [],
   "source": [
    "#same as model above, now we have 3 outputs instead of 2\n",
    "class Net(nn.Module):\n",
    "    def __init__(self):\n",
    "        super(Net,self).__init__()\n",
    "        self.conv1= nn.Conv1d(in_channels=1, out_channels=16, kernel_size=3, padding=1)\n",
    "        self.pool1 = nn.MaxPool1d(kernel_size=2, stride=2) #2x2 kernel skips two pixels everytime\n",
    "\n",
    "        self.conv2 = nn.Conv1d(in_channels=16, out_channels=64, kernel_size=3, padding=1)\n",
    "        self.pool2 = nn.MaxPool1d(kernel_size=2, stride=2)\n",
    "\n",
    "\n",
    "        self.l1 = nn.Linear(40000,128) #128 size of hidden layers\n",
    "        self.l2 = nn.Linear(128,64)\n",
    "        self.l3 = nn.Linear(64,3) # number of classes\n",
    "\n",
    "        self.dropout_1 = nn.Dropout(p=0.2)\n",
    "        self.dropout_2 = nn.Dropout(p=0.5)\n",
    "        self.dropout_3 = nn.Dropout(p=0.2)\n",
    "\n",
    "    def forward(self,x):\n",
    "       \n",
    "        a1 = self.conv1(x)\n",
    "        \n",
    "        z1 = torch.relu(a1)\n",
    "        \n",
    "        z1 = self.pool1(z1)\n",
    "                \n",
    "        a2 = self.conv2(z1)\n",
    "        z2 = torch.relu(a2)\n",
    "        z2 = self.pool2(z2)  \n",
    "             \n",
    "        \n",
    "        z_flat = self.dropout_1(torch.reshape(z2,(-1,40000)))\n",
    "        \n",
    "        a3 = self.l1(z_flat)\n",
    "        z3 = self.dropout_2(torch.relu(a3))\n",
    "        \n",
    "        a4 = self.l2(a3)\n",
    "        z4 = self.dropout_3(torch.relu(a4))\n",
    "        \n",
    "        a5 = self.l3(z4)\n",
    "        \n",
    "        return a5"
   ]
  },
  {
   "cell_type": "code",
   "execution_count": 165,
   "metadata": {},
   "outputs": [
    {
     "name": "stdout",
     "output_type": "stream",
     "text": [
      "0 0.5701451897621155 74.82745398773007 77.08333333333333\n",
      "1 0.6044983267784119 74.65490797546012 61.37820512820513\n",
      "2 0.6048632264137268 76.95552147239263 66.50641025641026\n",
      "3 0.5064146518707275 75.4792944785276 76.12179487179488\n",
      "4 0.4492485821247101 78.1441717791411 69.07051282051282\n",
      "5 0.34143325686454773 79.54371165644172 72.43589743589743\n",
      "6 0.524314284324646 80.98159509202453 69.39102564102564\n",
      "7 0.37264686822891235 81.17331288343559 67.78846153846153\n",
      "8 0.32770705223083496 82.32361963190183 67.46794871794872\n",
      "9 0.41434669494628906 81.74846625766871 64.90384615384616\n",
      "10 0.5138119459152222 83.18634969325153 74.35897435897436\n",
      "11 0.4333680272102356 83.9340490797546 73.5576923076923\n",
      "12 0.31556054949760437 85.54447852760737 68.42948717948718\n",
      "13 0.61856609582901 85.83205521472392 69.71153846153847\n",
      "14 0.29961180686950684 85.60199386503068 73.07692307692308\n",
      "15 0.36907434463500977 87.11656441717791 66.18589743589743\n",
      "16 0.23690387606620789 88.09432515337423 70.67307692307692\n",
      "17 0.22862248122692108 90.77837423312883 71.15384615384616\n",
      "18 0.3312244117259979 90.39493865030674 63.14102564102564\n",
      "19 0.15732508897781372 91.46855828220859 72.11538461538461\n",
      "20 0.2795988917350769 92.8489263803681 70.1923076923077\n",
      "21 0.2327551394701004 92.69555214723927 69.55128205128206\n",
      "22 0.16652412712574005 93.3282208588957 61.85897435897436\n",
      "23 0.15522335469722748 95.72469325153374 67.62820512820512\n",
      "24 0.3039230406284332 96.83665644171779 68.91025641025641\n",
      "25 0.17296525835990906 97.08588957055214 68.75\n",
      "26 0.3278074264526367 94.36349693251533 67.1474358974359\n",
      "27 0.18768838047981262 98.37039877300613 63.94230769230769\n",
      "28 0.08943740278482437 97.16257668711657 66.02564102564102\n",
      "29 0.09685879200696945 98.1978527607362 65.38461538461539\n",
      "30 0.03797972947359085 98.77300613496932 66.02564102564102\n",
      "31 0.08279450982809067 96.12730061349693 67.3076923076923\n",
      "32 0.0762019008398056 98.38957055214723 61.53846153846154\n",
      "33 0.0740903690457344 99.29064417177914 68.91025641025641\n",
      "34 0.01939612440764904 98.29371165644172 69.71153846153847\n",
      "35 0.01932811550796032 99.23312883435582 66.18589743589743\n",
      "36 0.04714980348944664 99.5782208588957 68.26923076923077\n",
      "37 0.21542061865329742 99.27147239263803 58.17307692307692\n",
      "38 0.037212710827589035 99.38650306748467 69.71153846153847\n",
      "39 0.022235676646232605 98.06365030674847 63.46153846153846\n",
      "40 0.008374394848942757 99.5398773006135 63.62179487179487\n",
      "41 0.011133436113595963 98.84969325153374 69.23076923076923\n",
      "42 0.012931653298437595 99.44401840490798 73.07692307692308\n",
      "43 0.007611896842718124 99.5590490797546 68.10897435897436\n",
      "44 0.22403238713741302 99.71242331288343 68.58974358974359\n",
      "45 0.07003232836723328 99.48236196319019 67.1474358974359\n",
      "46 0.08186578750610352 99.92331288343559 66.82692307692308\n",
      "47 0.0036138519644737244 99.96165644171779 68.75\n",
      "48 0.09419964253902435 99.94248466257669 68.42948717948718\n",
      "49 0.015187514014542103 99.88496932515338 70.03205128205128\n"
     ]
    }
   ],
   "source": [
    "#model to train for 3 class data\n",
    "model_3class = Net()\n",
    "criterion = torch.nn.CrossEntropyLoss(reduction='mean')\n",
    "\n",
    "optimizer = torch.optim.Adam(model_3class.parameters())\n",
    "\n",
    "train_accs_3class = []\n",
    "test_accs_3class = []\n",
    "\n",
    "epochs = 50\n",
    "for epoch in range(epochs):\n",
    "    model_3class.train()\n",
    "    \n",
    "    for d,t in train_loader_3class:\n",
    "        optimizer.zero_grad()        \n",
    "        outputs = model_3class(d)        \n",
    "        loss = criterion(outputs,t)\n",
    "        loss.backward()        \n",
    "        optimizer.step()\n",
    "        \n",
    "    model_3class.eval()\n",
    "    total_3class=0.\n",
    "    correct_3class=0.\n",
    "    for d,t in test_loader_3class:\n",
    "        outputs = model_3class(d)\n",
    "        _, predicted = torch.max(outputs.data,1)\n",
    "        total_3class += float(t.size(0))\n",
    "        correct_3class += float((predicted==t).sum())\n",
    "    total_train_3class = 0\n",
    "    correct_train_3class = 0\n",
    "    for d,t in train_loader_3class:\n",
    "        outputs = model_3class(d)\n",
    "        _, predicted = torch.max(outputs.data,1)\n",
    "        total_train_3class += float(t.size(0))\n",
    "        correct_train_3class += float((predicted==t).sum())\n",
    "    train_accs_3class.append(100.*correct_train_3class/total_train_3class)\n",
    "    test_accs_3class.append(100.*correct_3class/total_3class)\n",
    "    \n",
    "    print(epoch,loss.item(),train_accs_3class[-1],test_accs_3class[-1])\n"
   ]
  },
  {
   "cell_type": "markdown",
   "metadata": {},
   "source": [
    "**Evaluation of Models and Summary Stats**"
   ]
  },
  {
   "cell_type": "code",
   "execution_count": 171,
   "metadata": {},
   "outputs": [
    {
     "name": "stdout",
     "output_type": "stream",
     "text": [
      "precision: [0.97272727 0.75291829]\n",
      "recall: [0.45726496 0.99230769]\n",
      "[[107   3]\n",
      " [127 387]]\n",
      "precision: [0.97169811 0.76190476 0.49107143]\n",
      "recall: [0.44017094 0.92561983 0.74324324]\n",
      "[[103   3   0]\n",
      " [ 32 224  38]\n",
      " [ 99  15 110]]\n"
     ]
    },
    {
     "data": {
      "application/vnd.plotly.v1+json": {
       "config": {
        "plotlyServerURL": "https://plot.ly"
       },
       "data": [
        {
         "mode": "lines+markers",
         "name": "Training",
         "type": "scatter",
         "x": [
          0,
          1,
          2,
          3,
          4,
          5,
          6,
          7,
          8,
          9,
          10,
          11,
          12,
          13,
          14,
          15,
          16,
          17,
          18,
          19,
          20,
          21,
          22,
          23,
          24,
          25,
          26,
          27,
          28,
          29,
          30,
          31,
          32,
          33,
          34,
          35,
          36,
          37,
          38,
          39,
          40,
          41,
          42,
          43,
          44,
          45,
          46,
          47,
          48,
          49
         ],
         "y": [
          94.09509202453988,
          95.82055214723927,
          96.52990797546012,
          96.79831288343559,
          97.71855828220859,
          97.2967791411043,
          97.795245398773,
          98.10199386503068,
          98.37039877300613,
          98.52377300613497,
          98.73466257668711,
          99.0989263803681,
          98.71549079754601,
          99.21395705521472,
          99.44401840490798,
          99.1180981595092,
          98.52377300613497,
          99.71242331288343,
          99.59739263803681,
          99.67407975460122,
          99.48236196319019,
          99.86579754601227,
          99.76993865030674,
          99.82745398773007,
          98.46625766871166,
          99.5590490797546,
          99.61656441717791,
          99.86579754601227,
          99.94248466257669,
          99.96165644171779,
          99.90414110429448,
          99.9808282208589,
          99.92331288343559,
          99.9808282208589,
          100,
          100,
          100,
          99.96165644171779,
          99.48236196319019,
          99.92331288343559,
          99.9808282208589,
          99.96165644171779,
          99.69325153374233,
          99.92331288343559,
          99.96165644171779,
          100,
          99.9808282208589,
          99.96165644171779,
          100,
          100
         ]
        },
        {
         "mode": "lines+markers",
         "name": "Testing",
         "type": "scatter",
         "x": [
          0,
          1,
          2,
          3,
          4,
          5,
          6,
          7,
          8,
          9,
          10,
          11,
          12,
          13,
          14,
          15,
          16,
          17,
          18,
          19,
          20,
          21,
          22,
          23,
          24,
          25,
          26,
          27,
          28,
          29,
          30,
          31,
          32,
          33,
          34,
          35,
          36,
          37,
          38,
          39,
          40,
          41,
          42,
          43,
          44,
          45,
          46,
          47,
          48,
          49
         ],
         "y": [
          80.76923076923077,
          79.00641025641026,
          74.19871794871794,
          75,
          77.56410256410257,
          73.87820512820512,
          75.96153846153847,
          75.16025641025641,
          75.96153846153847,
          76.6025641025641,
          78.2051282051282,
          77.88461538461539,
          72.11538461538461,
          75,
          77.40384615384616,
          73.87820512820512,
          72.59615384615384,
          76.6025641025641,
          74.67948717948718,
          76.12179487179488,
          79.96794871794872,
          77.24358974358974,
          75.48076923076923,
          78.0448717948718,
          81.73076923076923,
          75,
          75.32051282051282,
          77.88461538461539,
          78.2051282051282,
          79.32692307692308,
          73.07692307692308,
          74.19871794871794,
          78.36538461538461,
          77.08333333333333,
          78.0448717948718,
          74.35897435897436,
          78.84615384615384,
          75.48076923076923,
          74.35897435897436,
          76.12179487179488,
          78.68589743589743,
          75.48076923076923,
          79.8076923076923,
          78.0448717948718,
          80.60897435897436,
          75.48076923076923,
          76.4423076923077,
          80.12820512820512,
          74.83974358974359,
          79.16666666666667
         ]
        }
       ],
       "layout": {
        "template": {
         "data": {
          "bar": [
           {
            "error_x": {
             "color": "#2a3f5f"
            },
            "error_y": {
             "color": "#2a3f5f"
            },
            "marker": {
             "line": {
              "color": "#E5ECF6",
              "width": 0.5
             }
            },
            "type": "bar"
           }
          ],
          "barpolar": [
           {
            "marker": {
             "line": {
              "color": "#E5ECF6",
              "width": 0.5
             }
            },
            "type": "barpolar"
           }
          ],
          "carpet": [
           {
            "aaxis": {
             "endlinecolor": "#2a3f5f",
             "gridcolor": "white",
             "linecolor": "white",
             "minorgridcolor": "white",
             "startlinecolor": "#2a3f5f"
            },
            "baxis": {
             "endlinecolor": "#2a3f5f",
             "gridcolor": "white",
             "linecolor": "white",
             "minorgridcolor": "white",
             "startlinecolor": "#2a3f5f"
            },
            "type": "carpet"
           }
          ],
          "choropleth": [
           {
            "colorbar": {
             "outlinewidth": 0,
             "ticks": ""
            },
            "type": "choropleth"
           }
          ],
          "contour": [
           {
            "colorbar": {
             "outlinewidth": 0,
             "ticks": ""
            },
            "colorscale": [
             [
              0,
              "#0d0887"
             ],
             [
              0.1111111111111111,
              "#46039f"
             ],
             [
              0.2222222222222222,
              "#7201a8"
             ],
             [
              0.3333333333333333,
              "#9c179e"
             ],
             [
              0.4444444444444444,
              "#bd3786"
             ],
             [
              0.5555555555555556,
              "#d8576b"
             ],
             [
              0.6666666666666666,
              "#ed7953"
             ],
             [
              0.7777777777777778,
              "#fb9f3a"
             ],
             [
              0.8888888888888888,
              "#fdca26"
             ],
             [
              1,
              "#f0f921"
             ]
            ],
            "type": "contour"
           }
          ],
          "contourcarpet": [
           {
            "colorbar": {
             "outlinewidth": 0,
             "ticks": ""
            },
            "type": "contourcarpet"
           }
          ],
          "heatmap": [
           {
            "colorbar": {
             "outlinewidth": 0,
             "ticks": ""
            },
            "colorscale": [
             [
              0,
              "#0d0887"
             ],
             [
              0.1111111111111111,
              "#46039f"
             ],
             [
              0.2222222222222222,
              "#7201a8"
             ],
             [
              0.3333333333333333,
              "#9c179e"
             ],
             [
              0.4444444444444444,
              "#bd3786"
             ],
             [
              0.5555555555555556,
              "#d8576b"
             ],
             [
              0.6666666666666666,
              "#ed7953"
             ],
             [
              0.7777777777777778,
              "#fb9f3a"
             ],
             [
              0.8888888888888888,
              "#fdca26"
             ],
             [
              1,
              "#f0f921"
             ]
            ],
            "type": "heatmap"
           }
          ],
          "heatmapgl": [
           {
            "colorbar": {
             "outlinewidth": 0,
             "ticks": ""
            },
            "colorscale": [
             [
              0,
              "#0d0887"
             ],
             [
              0.1111111111111111,
              "#46039f"
             ],
             [
              0.2222222222222222,
              "#7201a8"
             ],
             [
              0.3333333333333333,
              "#9c179e"
             ],
             [
              0.4444444444444444,
              "#bd3786"
             ],
             [
              0.5555555555555556,
              "#d8576b"
             ],
             [
              0.6666666666666666,
              "#ed7953"
             ],
             [
              0.7777777777777778,
              "#fb9f3a"
             ],
             [
              0.8888888888888888,
              "#fdca26"
             ],
             [
              1,
              "#f0f921"
             ]
            ],
            "type": "heatmapgl"
           }
          ],
          "histogram": [
           {
            "marker": {
             "colorbar": {
              "outlinewidth": 0,
              "ticks": ""
             }
            },
            "type": "histogram"
           }
          ],
          "histogram2d": [
           {
            "colorbar": {
             "outlinewidth": 0,
             "ticks": ""
            },
            "colorscale": [
             [
              0,
              "#0d0887"
             ],
             [
              0.1111111111111111,
              "#46039f"
             ],
             [
              0.2222222222222222,
              "#7201a8"
             ],
             [
              0.3333333333333333,
              "#9c179e"
             ],
             [
              0.4444444444444444,
              "#bd3786"
             ],
             [
              0.5555555555555556,
              "#d8576b"
             ],
             [
              0.6666666666666666,
              "#ed7953"
             ],
             [
              0.7777777777777778,
              "#fb9f3a"
             ],
             [
              0.8888888888888888,
              "#fdca26"
             ],
             [
              1,
              "#f0f921"
             ]
            ],
            "type": "histogram2d"
           }
          ],
          "histogram2dcontour": [
           {
            "colorbar": {
             "outlinewidth": 0,
             "ticks": ""
            },
            "colorscale": [
             [
              0,
              "#0d0887"
             ],
             [
              0.1111111111111111,
              "#46039f"
             ],
             [
              0.2222222222222222,
              "#7201a8"
             ],
             [
              0.3333333333333333,
              "#9c179e"
             ],
             [
              0.4444444444444444,
              "#bd3786"
             ],
             [
              0.5555555555555556,
              "#d8576b"
             ],
             [
              0.6666666666666666,
              "#ed7953"
             ],
             [
              0.7777777777777778,
              "#fb9f3a"
             ],
             [
              0.8888888888888888,
              "#fdca26"
             ],
             [
              1,
              "#f0f921"
             ]
            ],
            "type": "histogram2dcontour"
           }
          ],
          "mesh3d": [
           {
            "colorbar": {
             "outlinewidth": 0,
             "ticks": ""
            },
            "type": "mesh3d"
           }
          ],
          "parcoords": [
           {
            "line": {
             "colorbar": {
              "outlinewidth": 0,
              "ticks": ""
             }
            },
            "type": "parcoords"
           }
          ],
          "pie": [
           {
            "automargin": true,
            "type": "pie"
           }
          ],
          "scatter": [
           {
            "marker": {
             "colorbar": {
              "outlinewidth": 0,
              "ticks": ""
             }
            },
            "type": "scatter"
           }
          ],
          "scatter3d": [
           {
            "line": {
             "colorbar": {
              "outlinewidth": 0,
              "ticks": ""
             }
            },
            "marker": {
             "colorbar": {
              "outlinewidth": 0,
              "ticks": ""
             }
            },
            "type": "scatter3d"
           }
          ],
          "scattercarpet": [
           {
            "marker": {
             "colorbar": {
              "outlinewidth": 0,
              "ticks": ""
             }
            },
            "type": "scattercarpet"
           }
          ],
          "scattergeo": [
           {
            "marker": {
             "colorbar": {
              "outlinewidth": 0,
              "ticks": ""
             }
            },
            "type": "scattergeo"
           }
          ],
          "scattergl": [
           {
            "marker": {
             "colorbar": {
              "outlinewidth": 0,
              "ticks": ""
             }
            },
            "type": "scattergl"
           }
          ],
          "scattermapbox": [
           {
            "marker": {
             "colorbar": {
              "outlinewidth": 0,
              "ticks": ""
             }
            },
            "type": "scattermapbox"
           }
          ],
          "scatterpolar": [
           {
            "marker": {
             "colorbar": {
              "outlinewidth": 0,
              "ticks": ""
             }
            },
            "type": "scatterpolar"
           }
          ],
          "scatterpolargl": [
           {
            "marker": {
             "colorbar": {
              "outlinewidth": 0,
              "ticks": ""
             }
            },
            "type": "scatterpolargl"
           }
          ],
          "scatterternary": [
           {
            "marker": {
             "colorbar": {
              "outlinewidth": 0,
              "ticks": ""
             }
            },
            "type": "scatterternary"
           }
          ],
          "surface": [
           {
            "colorbar": {
             "outlinewidth": 0,
             "ticks": ""
            },
            "colorscale": [
             [
              0,
              "#0d0887"
             ],
             [
              0.1111111111111111,
              "#46039f"
             ],
             [
              0.2222222222222222,
              "#7201a8"
             ],
             [
              0.3333333333333333,
              "#9c179e"
             ],
             [
              0.4444444444444444,
              "#bd3786"
             ],
             [
              0.5555555555555556,
              "#d8576b"
             ],
             [
              0.6666666666666666,
              "#ed7953"
             ],
             [
              0.7777777777777778,
              "#fb9f3a"
             ],
             [
              0.8888888888888888,
              "#fdca26"
             ],
             [
              1,
              "#f0f921"
             ]
            ],
            "type": "surface"
           }
          ],
          "table": [
           {
            "cells": {
             "fill": {
              "color": "#EBF0F8"
             },
             "line": {
              "color": "white"
             }
            },
            "header": {
             "fill": {
              "color": "#C8D4E3"
             },
             "line": {
              "color": "white"
             }
            },
            "type": "table"
           }
          ]
         },
         "layout": {
          "annotationdefaults": {
           "arrowcolor": "#2a3f5f",
           "arrowhead": 0,
           "arrowwidth": 1
          },
          "coloraxis": {
           "colorbar": {
            "outlinewidth": 0,
            "ticks": ""
           }
          },
          "colorscale": {
           "diverging": [
            [
             0,
             "#8e0152"
            ],
            [
             0.1,
             "#c51b7d"
            ],
            [
             0.2,
             "#de77ae"
            ],
            [
             0.3,
             "#f1b6da"
            ],
            [
             0.4,
             "#fde0ef"
            ],
            [
             0.5,
             "#f7f7f7"
            ],
            [
             0.6,
             "#e6f5d0"
            ],
            [
             0.7,
             "#b8e186"
            ],
            [
             0.8,
             "#7fbc41"
            ],
            [
             0.9,
             "#4d9221"
            ],
            [
             1,
             "#276419"
            ]
           ],
           "sequential": [
            [
             0,
             "#0d0887"
            ],
            [
             0.1111111111111111,
             "#46039f"
            ],
            [
             0.2222222222222222,
             "#7201a8"
            ],
            [
             0.3333333333333333,
             "#9c179e"
            ],
            [
             0.4444444444444444,
             "#bd3786"
            ],
            [
             0.5555555555555556,
             "#d8576b"
            ],
            [
             0.6666666666666666,
             "#ed7953"
            ],
            [
             0.7777777777777778,
             "#fb9f3a"
            ],
            [
             0.8888888888888888,
             "#fdca26"
            ],
            [
             1,
             "#f0f921"
            ]
           ],
           "sequentialminus": [
            [
             0,
             "#0d0887"
            ],
            [
             0.1111111111111111,
             "#46039f"
            ],
            [
             0.2222222222222222,
             "#7201a8"
            ],
            [
             0.3333333333333333,
             "#9c179e"
            ],
            [
             0.4444444444444444,
             "#bd3786"
            ],
            [
             0.5555555555555556,
             "#d8576b"
            ],
            [
             0.6666666666666666,
             "#ed7953"
            ],
            [
             0.7777777777777778,
             "#fb9f3a"
            ],
            [
             0.8888888888888888,
             "#fdca26"
            ],
            [
             1,
             "#f0f921"
            ]
           ]
          },
          "colorway": [
           "#636efa",
           "#EF553B",
           "#00cc96",
           "#ab63fa",
           "#FFA15A",
           "#19d3f3",
           "#FF6692",
           "#B6E880",
           "#FF97FF",
           "#FECB52"
          ],
          "font": {
           "color": "#2a3f5f"
          },
          "geo": {
           "bgcolor": "white",
           "lakecolor": "white",
           "landcolor": "#E5ECF6",
           "showlakes": true,
           "showland": true,
           "subunitcolor": "white"
          },
          "hoverlabel": {
           "align": "left"
          },
          "hovermode": "closest",
          "mapbox": {
           "style": "light"
          },
          "paper_bgcolor": "white",
          "plot_bgcolor": "#E5ECF6",
          "polar": {
           "angularaxis": {
            "gridcolor": "white",
            "linecolor": "white",
            "ticks": ""
           },
           "bgcolor": "#E5ECF6",
           "radialaxis": {
            "gridcolor": "white",
            "linecolor": "white",
            "ticks": ""
           }
          },
          "scene": {
           "xaxis": {
            "backgroundcolor": "#E5ECF6",
            "gridcolor": "white",
            "gridwidth": 2,
            "linecolor": "white",
            "showbackground": true,
            "ticks": "",
            "zerolinecolor": "white"
           },
           "yaxis": {
            "backgroundcolor": "#E5ECF6",
            "gridcolor": "white",
            "gridwidth": 2,
            "linecolor": "white",
            "showbackground": true,
            "ticks": "",
            "zerolinecolor": "white"
           },
           "zaxis": {
            "backgroundcolor": "#E5ECF6",
            "gridcolor": "white",
            "gridwidth": 2,
            "linecolor": "white",
            "showbackground": true,
            "ticks": "",
            "zerolinecolor": "white"
           }
          },
          "shapedefaults": {
           "line": {
            "color": "#2a3f5f"
           }
          },
          "ternary": {
           "aaxis": {
            "gridcolor": "white",
            "linecolor": "white",
            "ticks": ""
           },
           "baxis": {
            "gridcolor": "white",
            "linecolor": "white",
            "ticks": ""
           },
           "bgcolor": "#E5ECF6",
           "caxis": {
            "gridcolor": "white",
            "linecolor": "white",
            "ticks": ""
           }
          },
          "title": {
           "x": 0.05
          },
          "xaxis": {
           "automargin": true,
           "gridcolor": "white",
           "linecolor": "white",
           "ticks": "",
           "title": {
            "standoff": 15
           },
           "zerolinecolor": "white",
           "zerolinewidth": 2
          },
          "yaxis": {
           "automargin": true,
           "gridcolor": "white",
           "linecolor": "white",
           "ticks": "",
           "title": {
            "standoff": 15
           },
           "zerolinecolor": "white",
           "zerolinewidth": 2
          }
         }
        },
        "title": {
         "text": "Accuracy Rates for 2 Class Pneumonia Classification"
        },
        "xaxis": {
         "title": {
          "text": "Epoch"
         }
        },
        "yaxis": {
         "title": {
          "text": "Accuracy Rate"
         }
        }
       }
      },
      "text/html": [
       "<div>\n",
       "        \n",
       "        \n",
       "            <div id=\"19387afe-1311-4eff-b3d4-109a75fe8d14\" class=\"plotly-graph-div\" style=\"height:525px; width:100%;\"></div>\n",
       "            <script type=\"text/javascript\">\n",
       "                require([\"plotly\"], function(Plotly) {\n",
       "                    window.PLOTLYENV=window.PLOTLYENV || {};\n",
       "                    \n",
       "                if (document.getElementById(\"19387afe-1311-4eff-b3d4-109a75fe8d14\")) {\n",
       "                    Plotly.newPlot(\n",
       "                        '19387afe-1311-4eff-b3d4-109a75fe8d14',\n",
       "                        [{\"mode\": \"lines+markers\", \"name\": \"Training\", \"type\": \"scatter\", \"x\": [0, 1, 2, 3, 4, 5, 6, 7, 8, 9, 10, 11, 12, 13, 14, 15, 16, 17, 18, 19, 20, 21, 22, 23, 24, 25, 26, 27, 28, 29, 30, 31, 32, 33, 34, 35, 36, 37, 38, 39, 40, 41, 42, 43, 44, 45, 46, 47, 48, 49], \"y\": [94.09509202453988, 95.82055214723927, 96.52990797546012, 96.79831288343559, 97.71855828220859, 97.2967791411043, 97.795245398773, 98.10199386503068, 98.37039877300613, 98.52377300613497, 98.73466257668711, 99.0989263803681, 98.71549079754601, 99.21395705521472, 99.44401840490798, 99.1180981595092, 98.52377300613497, 99.71242331288343, 99.59739263803681, 99.67407975460122, 99.48236196319019, 99.86579754601227, 99.76993865030674, 99.82745398773007, 98.46625766871166, 99.5590490797546, 99.61656441717791, 99.86579754601227, 99.94248466257669, 99.96165644171779, 99.90414110429448, 99.9808282208589, 99.92331288343559, 99.9808282208589, 100.0, 100.0, 100.0, 99.96165644171779, 99.48236196319019, 99.92331288343559, 99.9808282208589, 99.96165644171779, 99.69325153374233, 99.92331288343559, 99.96165644171779, 100.0, 99.9808282208589, 99.96165644171779, 100.0, 100.0]}, {\"mode\": \"lines+markers\", \"name\": \"Testing\", \"type\": \"scatter\", \"x\": [0, 1, 2, 3, 4, 5, 6, 7, 8, 9, 10, 11, 12, 13, 14, 15, 16, 17, 18, 19, 20, 21, 22, 23, 24, 25, 26, 27, 28, 29, 30, 31, 32, 33, 34, 35, 36, 37, 38, 39, 40, 41, 42, 43, 44, 45, 46, 47, 48, 49], \"y\": [80.76923076923077, 79.00641025641026, 74.19871794871794, 75.0, 77.56410256410257, 73.87820512820512, 75.96153846153847, 75.16025641025641, 75.96153846153847, 76.6025641025641, 78.2051282051282, 77.88461538461539, 72.11538461538461, 75.0, 77.40384615384616, 73.87820512820512, 72.59615384615384, 76.6025641025641, 74.67948717948718, 76.12179487179488, 79.96794871794872, 77.24358974358974, 75.48076923076923, 78.0448717948718, 81.73076923076923, 75.0, 75.32051282051282, 77.88461538461539, 78.2051282051282, 79.32692307692308, 73.07692307692308, 74.19871794871794, 78.36538461538461, 77.08333333333333, 78.0448717948718, 74.35897435897436, 78.84615384615384, 75.48076923076923, 74.35897435897436, 76.12179487179488, 78.68589743589743, 75.48076923076923, 79.8076923076923, 78.0448717948718, 80.60897435897436, 75.48076923076923, 76.4423076923077, 80.12820512820512, 74.83974358974359, 79.16666666666667]}],\n",
       "                        {\"template\": {\"data\": {\"bar\": [{\"error_x\": {\"color\": \"#2a3f5f\"}, \"error_y\": {\"color\": \"#2a3f5f\"}, \"marker\": {\"line\": {\"color\": \"#E5ECF6\", \"width\": 0.5}}, \"type\": \"bar\"}], \"barpolar\": [{\"marker\": {\"line\": {\"color\": \"#E5ECF6\", \"width\": 0.5}}, \"type\": \"barpolar\"}], \"carpet\": [{\"aaxis\": {\"endlinecolor\": \"#2a3f5f\", \"gridcolor\": \"white\", \"linecolor\": \"white\", \"minorgridcolor\": \"white\", \"startlinecolor\": \"#2a3f5f\"}, \"baxis\": {\"endlinecolor\": \"#2a3f5f\", \"gridcolor\": \"white\", \"linecolor\": \"white\", \"minorgridcolor\": \"white\", \"startlinecolor\": \"#2a3f5f\"}, \"type\": \"carpet\"}], \"choropleth\": [{\"colorbar\": {\"outlinewidth\": 0, \"ticks\": \"\"}, \"type\": \"choropleth\"}], \"contour\": [{\"colorbar\": {\"outlinewidth\": 0, \"ticks\": \"\"}, \"colorscale\": [[0.0, \"#0d0887\"], [0.1111111111111111, \"#46039f\"], [0.2222222222222222, \"#7201a8\"], [0.3333333333333333, \"#9c179e\"], [0.4444444444444444, \"#bd3786\"], [0.5555555555555556, \"#d8576b\"], [0.6666666666666666, \"#ed7953\"], [0.7777777777777778, \"#fb9f3a\"], [0.8888888888888888, \"#fdca26\"], [1.0, \"#f0f921\"]], \"type\": \"contour\"}], \"contourcarpet\": [{\"colorbar\": {\"outlinewidth\": 0, \"ticks\": \"\"}, \"type\": \"contourcarpet\"}], \"heatmap\": [{\"colorbar\": {\"outlinewidth\": 0, \"ticks\": \"\"}, \"colorscale\": [[0.0, \"#0d0887\"], [0.1111111111111111, \"#46039f\"], [0.2222222222222222, \"#7201a8\"], [0.3333333333333333, \"#9c179e\"], [0.4444444444444444, \"#bd3786\"], [0.5555555555555556, \"#d8576b\"], [0.6666666666666666, \"#ed7953\"], [0.7777777777777778, \"#fb9f3a\"], [0.8888888888888888, \"#fdca26\"], [1.0, \"#f0f921\"]], \"type\": \"heatmap\"}], \"heatmapgl\": [{\"colorbar\": {\"outlinewidth\": 0, \"ticks\": \"\"}, \"colorscale\": [[0.0, \"#0d0887\"], [0.1111111111111111, \"#46039f\"], [0.2222222222222222, \"#7201a8\"], [0.3333333333333333, \"#9c179e\"], [0.4444444444444444, \"#bd3786\"], [0.5555555555555556, \"#d8576b\"], [0.6666666666666666, \"#ed7953\"], [0.7777777777777778, \"#fb9f3a\"], [0.8888888888888888, \"#fdca26\"], [1.0, \"#f0f921\"]], \"type\": \"heatmapgl\"}], \"histogram\": [{\"marker\": {\"colorbar\": {\"outlinewidth\": 0, \"ticks\": \"\"}}, \"type\": \"histogram\"}], \"histogram2d\": [{\"colorbar\": {\"outlinewidth\": 0, \"ticks\": \"\"}, \"colorscale\": [[0.0, \"#0d0887\"], [0.1111111111111111, \"#46039f\"], [0.2222222222222222, \"#7201a8\"], [0.3333333333333333, \"#9c179e\"], [0.4444444444444444, \"#bd3786\"], [0.5555555555555556, \"#d8576b\"], [0.6666666666666666, \"#ed7953\"], [0.7777777777777778, \"#fb9f3a\"], [0.8888888888888888, \"#fdca26\"], [1.0, \"#f0f921\"]], \"type\": \"histogram2d\"}], \"histogram2dcontour\": [{\"colorbar\": {\"outlinewidth\": 0, \"ticks\": \"\"}, \"colorscale\": [[0.0, \"#0d0887\"], [0.1111111111111111, \"#46039f\"], [0.2222222222222222, \"#7201a8\"], [0.3333333333333333, \"#9c179e\"], [0.4444444444444444, \"#bd3786\"], [0.5555555555555556, \"#d8576b\"], [0.6666666666666666, \"#ed7953\"], [0.7777777777777778, \"#fb9f3a\"], [0.8888888888888888, \"#fdca26\"], [1.0, \"#f0f921\"]], \"type\": \"histogram2dcontour\"}], \"mesh3d\": [{\"colorbar\": {\"outlinewidth\": 0, \"ticks\": \"\"}, \"type\": \"mesh3d\"}], \"parcoords\": [{\"line\": {\"colorbar\": {\"outlinewidth\": 0, \"ticks\": \"\"}}, \"type\": \"parcoords\"}], \"pie\": [{\"automargin\": true, \"type\": \"pie\"}], \"scatter\": [{\"marker\": {\"colorbar\": {\"outlinewidth\": 0, \"ticks\": \"\"}}, \"type\": \"scatter\"}], \"scatter3d\": [{\"line\": {\"colorbar\": {\"outlinewidth\": 0, \"ticks\": \"\"}}, \"marker\": {\"colorbar\": {\"outlinewidth\": 0, \"ticks\": \"\"}}, \"type\": \"scatter3d\"}], \"scattercarpet\": [{\"marker\": {\"colorbar\": {\"outlinewidth\": 0, \"ticks\": \"\"}}, \"type\": \"scattercarpet\"}], \"scattergeo\": [{\"marker\": {\"colorbar\": {\"outlinewidth\": 0, \"ticks\": \"\"}}, \"type\": \"scattergeo\"}], \"scattergl\": [{\"marker\": {\"colorbar\": {\"outlinewidth\": 0, \"ticks\": \"\"}}, \"type\": \"scattergl\"}], \"scattermapbox\": [{\"marker\": {\"colorbar\": {\"outlinewidth\": 0, \"ticks\": \"\"}}, \"type\": \"scattermapbox\"}], \"scatterpolar\": [{\"marker\": {\"colorbar\": {\"outlinewidth\": 0, \"ticks\": \"\"}}, \"type\": \"scatterpolar\"}], \"scatterpolargl\": [{\"marker\": {\"colorbar\": {\"outlinewidth\": 0, \"ticks\": \"\"}}, \"type\": \"scatterpolargl\"}], \"scatterternary\": [{\"marker\": {\"colorbar\": {\"outlinewidth\": 0, \"ticks\": \"\"}}, \"type\": \"scatterternary\"}], \"surface\": [{\"colorbar\": {\"outlinewidth\": 0, \"ticks\": \"\"}, \"colorscale\": [[0.0, \"#0d0887\"], [0.1111111111111111, \"#46039f\"], [0.2222222222222222, \"#7201a8\"], [0.3333333333333333, \"#9c179e\"], [0.4444444444444444, \"#bd3786\"], [0.5555555555555556, \"#d8576b\"], [0.6666666666666666, \"#ed7953\"], [0.7777777777777778, \"#fb9f3a\"], [0.8888888888888888, \"#fdca26\"], [1.0, \"#f0f921\"]], \"type\": \"surface\"}], \"table\": [{\"cells\": {\"fill\": {\"color\": \"#EBF0F8\"}, \"line\": {\"color\": \"white\"}}, \"header\": {\"fill\": {\"color\": \"#C8D4E3\"}, \"line\": {\"color\": \"white\"}}, \"type\": \"table\"}]}, \"layout\": {\"annotationdefaults\": {\"arrowcolor\": \"#2a3f5f\", \"arrowhead\": 0, \"arrowwidth\": 1}, \"coloraxis\": {\"colorbar\": {\"outlinewidth\": 0, \"ticks\": \"\"}}, \"colorscale\": {\"diverging\": [[0, \"#8e0152\"], [0.1, \"#c51b7d\"], [0.2, \"#de77ae\"], [0.3, \"#f1b6da\"], [0.4, \"#fde0ef\"], [0.5, \"#f7f7f7\"], [0.6, \"#e6f5d0\"], [0.7, \"#b8e186\"], [0.8, \"#7fbc41\"], [0.9, \"#4d9221\"], [1, \"#276419\"]], \"sequential\": [[0.0, \"#0d0887\"], [0.1111111111111111, \"#46039f\"], [0.2222222222222222, \"#7201a8\"], [0.3333333333333333, \"#9c179e\"], [0.4444444444444444, \"#bd3786\"], [0.5555555555555556, \"#d8576b\"], [0.6666666666666666, \"#ed7953\"], [0.7777777777777778, \"#fb9f3a\"], [0.8888888888888888, \"#fdca26\"], [1.0, \"#f0f921\"]], \"sequentialminus\": [[0.0, \"#0d0887\"], [0.1111111111111111, \"#46039f\"], [0.2222222222222222, \"#7201a8\"], [0.3333333333333333, \"#9c179e\"], [0.4444444444444444, \"#bd3786\"], [0.5555555555555556, \"#d8576b\"], [0.6666666666666666, \"#ed7953\"], [0.7777777777777778, \"#fb9f3a\"], [0.8888888888888888, \"#fdca26\"], [1.0, \"#f0f921\"]]}, \"colorway\": [\"#636efa\", \"#EF553B\", \"#00cc96\", \"#ab63fa\", \"#FFA15A\", \"#19d3f3\", \"#FF6692\", \"#B6E880\", \"#FF97FF\", \"#FECB52\"], \"font\": {\"color\": \"#2a3f5f\"}, \"geo\": {\"bgcolor\": \"white\", \"lakecolor\": \"white\", \"landcolor\": \"#E5ECF6\", \"showlakes\": true, \"showland\": true, \"subunitcolor\": \"white\"}, \"hoverlabel\": {\"align\": \"left\"}, \"hovermode\": \"closest\", \"mapbox\": {\"style\": \"light\"}, \"paper_bgcolor\": \"white\", \"plot_bgcolor\": \"#E5ECF6\", \"polar\": {\"angularaxis\": {\"gridcolor\": \"white\", \"linecolor\": \"white\", \"ticks\": \"\"}, \"bgcolor\": \"#E5ECF6\", \"radialaxis\": {\"gridcolor\": \"white\", \"linecolor\": \"white\", \"ticks\": \"\"}}, \"scene\": {\"xaxis\": {\"backgroundcolor\": \"#E5ECF6\", \"gridcolor\": \"white\", \"gridwidth\": 2, \"linecolor\": \"white\", \"showbackground\": true, \"ticks\": \"\", \"zerolinecolor\": \"white\"}, \"yaxis\": {\"backgroundcolor\": \"#E5ECF6\", \"gridcolor\": \"white\", \"gridwidth\": 2, \"linecolor\": \"white\", \"showbackground\": true, \"ticks\": \"\", \"zerolinecolor\": \"white\"}, \"zaxis\": {\"backgroundcolor\": \"#E5ECF6\", \"gridcolor\": \"white\", \"gridwidth\": 2, \"linecolor\": \"white\", \"showbackground\": true, \"ticks\": \"\", \"zerolinecolor\": \"white\"}}, \"shapedefaults\": {\"line\": {\"color\": \"#2a3f5f\"}}, \"ternary\": {\"aaxis\": {\"gridcolor\": \"white\", \"linecolor\": \"white\", \"ticks\": \"\"}, \"baxis\": {\"gridcolor\": \"white\", \"linecolor\": \"white\", \"ticks\": \"\"}, \"bgcolor\": \"#E5ECF6\", \"caxis\": {\"gridcolor\": \"white\", \"linecolor\": \"white\", \"ticks\": \"\"}}, \"title\": {\"x\": 0.05}, \"xaxis\": {\"automargin\": true, \"gridcolor\": \"white\", \"linecolor\": \"white\", \"ticks\": \"\", \"title\": {\"standoff\": 15}, \"zerolinecolor\": \"white\", \"zerolinewidth\": 2}, \"yaxis\": {\"automargin\": true, \"gridcolor\": \"white\", \"linecolor\": \"white\", \"ticks\": \"\", \"title\": {\"standoff\": 15}, \"zerolinecolor\": \"white\", \"zerolinewidth\": 2}}}, \"title\": {\"text\": \"Accuracy Rates for 2 Class Pneumonia Classification\"}, \"xaxis\": {\"title\": {\"text\": \"Epoch\"}}, \"yaxis\": {\"title\": {\"text\": \"Accuracy Rate\"}}},\n",
       "                        {\"responsive\": true}\n",
       "                    ).then(function(){\n",
       "                            \n",
       "var gd = document.getElementById('19387afe-1311-4eff-b3d4-109a75fe8d14');\n",
       "var x = new MutationObserver(function (mutations, observer) {{\n",
       "        var display = window.getComputedStyle(gd).display;\n",
       "        if (!display || display === 'none') {{\n",
       "            console.log([gd, 'removed!']);\n",
       "            Plotly.purge(gd);\n",
       "            observer.disconnect();\n",
       "        }}\n",
       "}});\n",
       "\n",
       "// Listen for the removal of the full notebook cells\n",
       "var notebookContainer = gd.closest('#notebook-container');\n",
       "if (notebookContainer) {{\n",
       "    x.observe(notebookContainer, {childList: true});\n",
       "}}\n",
       "\n",
       "// Listen for the clearing of the current output cell\n",
       "var outputEl = gd.closest('.output');\n",
       "if (outputEl) {{\n",
       "    x.observe(outputEl, {childList: true});\n",
       "}}\n",
       "\n",
       "                        })\n",
       "                };\n",
       "                });\n",
       "            </script>\n",
       "        </div>"
      ]
     },
     "metadata": {},
     "output_type": "display_data"
    },
    {
     "data": {
      "application/vnd.plotly.v1+json": {
       "config": {
        "plotlyServerURL": "https://plot.ly"
       },
       "data": [
        {
         "mode": "lines+markers",
         "name": "Training",
         "type": "scatter",
         "x": [
          0,
          1,
          2,
          3,
          4,
          5,
          6,
          7,
          8,
          9,
          10,
          11,
          12,
          13,
          14,
          15,
          16,
          17,
          18,
          19,
          20,
          21,
          22,
          23,
          24,
          25,
          26,
          27,
          28,
          29,
          30,
          31,
          32,
          33,
          34,
          35,
          36,
          37,
          38,
          39,
          40,
          41,
          42,
          43,
          44,
          45,
          46,
          47,
          48,
          49
         ],
         "y": [
          74.82745398773007,
          74.65490797546012,
          76.95552147239263,
          75.4792944785276,
          78.1441717791411,
          79.54371165644172,
          80.98159509202453,
          81.17331288343559,
          82.32361963190183,
          81.74846625766871,
          83.18634969325153,
          83.9340490797546,
          85.54447852760737,
          85.83205521472392,
          85.60199386503068,
          87.11656441717791,
          88.09432515337423,
          90.77837423312883,
          90.39493865030674,
          91.46855828220859,
          92.8489263803681,
          92.69555214723927,
          93.3282208588957,
          95.72469325153374,
          96.83665644171779,
          97.08588957055214,
          94.36349693251533,
          98.37039877300613,
          97.16257668711657,
          98.1978527607362,
          98.77300613496932,
          96.12730061349693,
          98.38957055214723,
          99.29064417177914,
          98.29371165644172,
          99.23312883435582,
          99.5782208588957,
          99.27147239263803,
          99.38650306748467,
          98.06365030674847,
          99.5398773006135,
          98.84969325153374,
          99.44401840490798,
          99.5590490797546,
          99.71242331288343,
          99.48236196319019,
          99.92331288343559,
          99.96165644171779,
          99.94248466257669,
          99.88496932515338
         ]
        },
        {
         "mode": "lines+markers",
         "name": "Testing",
         "type": "scatter",
         "x": [
          0,
          1,
          2,
          3,
          4,
          5,
          6,
          7,
          8,
          9,
          10,
          11,
          12,
          13,
          14,
          15,
          16,
          17,
          18,
          19,
          20,
          21,
          22,
          23,
          24,
          25,
          26,
          27,
          28,
          29,
          30,
          31,
          32,
          33,
          34,
          35,
          36,
          37,
          38,
          39,
          40,
          41,
          42,
          43,
          44,
          45,
          46,
          47,
          48,
          49
         ],
         "y": [
          77.08333333333333,
          61.37820512820513,
          66.50641025641026,
          76.12179487179488,
          69.07051282051282,
          72.43589743589743,
          69.39102564102564,
          67.78846153846153,
          67.46794871794872,
          64.90384615384616,
          74.35897435897436,
          73.5576923076923,
          68.42948717948718,
          69.71153846153847,
          73.07692307692308,
          66.18589743589743,
          70.67307692307692,
          71.15384615384616,
          63.14102564102564,
          72.11538461538461,
          70.1923076923077,
          69.55128205128206,
          61.85897435897436,
          67.62820512820512,
          68.91025641025641,
          68.75,
          67.1474358974359,
          63.94230769230769,
          66.02564102564102,
          65.38461538461539,
          66.02564102564102,
          67.3076923076923,
          61.53846153846154,
          68.91025641025641,
          69.71153846153847,
          66.18589743589743,
          68.26923076923077,
          58.17307692307692,
          69.71153846153847,
          63.46153846153846,
          63.62179487179487,
          69.23076923076923,
          73.07692307692308,
          68.10897435897436,
          68.58974358974359,
          67.1474358974359,
          66.82692307692308,
          68.75,
          68.42948717948718,
          70.03205128205128
         ]
        }
       ],
       "layout": {
        "template": {
         "data": {
          "bar": [
           {
            "error_x": {
             "color": "#2a3f5f"
            },
            "error_y": {
             "color": "#2a3f5f"
            },
            "marker": {
             "line": {
              "color": "#E5ECF6",
              "width": 0.5
             }
            },
            "type": "bar"
           }
          ],
          "barpolar": [
           {
            "marker": {
             "line": {
              "color": "#E5ECF6",
              "width": 0.5
             }
            },
            "type": "barpolar"
           }
          ],
          "carpet": [
           {
            "aaxis": {
             "endlinecolor": "#2a3f5f",
             "gridcolor": "white",
             "linecolor": "white",
             "minorgridcolor": "white",
             "startlinecolor": "#2a3f5f"
            },
            "baxis": {
             "endlinecolor": "#2a3f5f",
             "gridcolor": "white",
             "linecolor": "white",
             "minorgridcolor": "white",
             "startlinecolor": "#2a3f5f"
            },
            "type": "carpet"
           }
          ],
          "choropleth": [
           {
            "colorbar": {
             "outlinewidth": 0,
             "ticks": ""
            },
            "type": "choropleth"
           }
          ],
          "contour": [
           {
            "colorbar": {
             "outlinewidth": 0,
             "ticks": ""
            },
            "colorscale": [
             [
              0,
              "#0d0887"
             ],
             [
              0.1111111111111111,
              "#46039f"
             ],
             [
              0.2222222222222222,
              "#7201a8"
             ],
             [
              0.3333333333333333,
              "#9c179e"
             ],
             [
              0.4444444444444444,
              "#bd3786"
             ],
             [
              0.5555555555555556,
              "#d8576b"
             ],
             [
              0.6666666666666666,
              "#ed7953"
             ],
             [
              0.7777777777777778,
              "#fb9f3a"
             ],
             [
              0.8888888888888888,
              "#fdca26"
             ],
             [
              1,
              "#f0f921"
             ]
            ],
            "type": "contour"
           }
          ],
          "contourcarpet": [
           {
            "colorbar": {
             "outlinewidth": 0,
             "ticks": ""
            },
            "type": "contourcarpet"
           }
          ],
          "heatmap": [
           {
            "colorbar": {
             "outlinewidth": 0,
             "ticks": ""
            },
            "colorscale": [
             [
              0,
              "#0d0887"
             ],
             [
              0.1111111111111111,
              "#46039f"
             ],
             [
              0.2222222222222222,
              "#7201a8"
             ],
             [
              0.3333333333333333,
              "#9c179e"
             ],
             [
              0.4444444444444444,
              "#bd3786"
             ],
             [
              0.5555555555555556,
              "#d8576b"
             ],
             [
              0.6666666666666666,
              "#ed7953"
             ],
             [
              0.7777777777777778,
              "#fb9f3a"
             ],
             [
              0.8888888888888888,
              "#fdca26"
             ],
             [
              1,
              "#f0f921"
             ]
            ],
            "type": "heatmap"
           }
          ],
          "heatmapgl": [
           {
            "colorbar": {
             "outlinewidth": 0,
             "ticks": ""
            },
            "colorscale": [
             [
              0,
              "#0d0887"
             ],
             [
              0.1111111111111111,
              "#46039f"
             ],
             [
              0.2222222222222222,
              "#7201a8"
             ],
             [
              0.3333333333333333,
              "#9c179e"
             ],
             [
              0.4444444444444444,
              "#bd3786"
             ],
             [
              0.5555555555555556,
              "#d8576b"
             ],
             [
              0.6666666666666666,
              "#ed7953"
             ],
             [
              0.7777777777777778,
              "#fb9f3a"
             ],
             [
              0.8888888888888888,
              "#fdca26"
             ],
             [
              1,
              "#f0f921"
             ]
            ],
            "type": "heatmapgl"
           }
          ],
          "histogram": [
           {
            "marker": {
             "colorbar": {
              "outlinewidth": 0,
              "ticks": ""
             }
            },
            "type": "histogram"
           }
          ],
          "histogram2d": [
           {
            "colorbar": {
             "outlinewidth": 0,
             "ticks": ""
            },
            "colorscale": [
             [
              0,
              "#0d0887"
             ],
             [
              0.1111111111111111,
              "#46039f"
             ],
             [
              0.2222222222222222,
              "#7201a8"
             ],
             [
              0.3333333333333333,
              "#9c179e"
             ],
             [
              0.4444444444444444,
              "#bd3786"
             ],
             [
              0.5555555555555556,
              "#d8576b"
             ],
             [
              0.6666666666666666,
              "#ed7953"
             ],
             [
              0.7777777777777778,
              "#fb9f3a"
             ],
             [
              0.8888888888888888,
              "#fdca26"
             ],
             [
              1,
              "#f0f921"
             ]
            ],
            "type": "histogram2d"
           }
          ],
          "histogram2dcontour": [
           {
            "colorbar": {
             "outlinewidth": 0,
             "ticks": ""
            },
            "colorscale": [
             [
              0,
              "#0d0887"
             ],
             [
              0.1111111111111111,
              "#46039f"
             ],
             [
              0.2222222222222222,
              "#7201a8"
             ],
             [
              0.3333333333333333,
              "#9c179e"
             ],
             [
              0.4444444444444444,
              "#bd3786"
             ],
             [
              0.5555555555555556,
              "#d8576b"
             ],
             [
              0.6666666666666666,
              "#ed7953"
             ],
             [
              0.7777777777777778,
              "#fb9f3a"
             ],
             [
              0.8888888888888888,
              "#fdca26"
             ],
             [
              1,
              "#f0f921"
             ]
            ],
            "type": "histogram2dcontour"
           }
          ],
          "mesh3d": [
           {
            "colorbar": {
             "outlinewidth": 0,
             "ticks": ""
            },
            "type": "mesh3d"
           }
          ],
          "parcoords": [
           {
            "line": {
             "colorbar": {
              "outlinewidth": 0,
              "ticks": ""
             }
            },
            "type": "parcoords"
           }
          ],
          "pie": [
           {
            "automargin": true,
            "type": "pie"
           }
          ],
          "scatter": [
           {
            "marker": {
             "colorbar": {
              "outlinewidth": 0,
              "ticks": ""
             }
            },
            "type": "scatter"
           }
          ],
          "scatter3d": [
           {
            "line": {
             "colorbar": {
              "outlinewidth": 0,
              "ticks": ""
             }
            },
            "marker": {
             "colorbar": {
              "outlinewidth": 0,
              "ticks": ""
             }
            },
            "type": "scatter3d"
           }
          ],
          "scattercarpet": [
           {
            "marker": {
             "colorbar": {
              "outlinewidth": 0,
              "ticks": ""
             }
            },
            "type": "scattercarpet"
           }
          ],
          "scattergeo": [
           {
            "marker": {
             "colorbar": {
              "outlinewidth": 0,
              "ticks": ""
             }
            },
            "type": "scattergeo"
           }
          ],
          "scattergl": [
           {
            "marker": {
             "colorbar": {
              "outlinewidth": 0,
              "ticks": ""
             }
            },
            "type": "scattergl"
           }
          ],
          "scattermapbox": [
           {
            "marker": {
             "colorbar": {
              "outlinewidth": 0,
              "ticks": ""
             }
            },
            "type": "scattermapbox"
           }
          ],
          "scatterpolar": [
           {
            "marker": {
             "colorbar": {
              "outlinewidth": 0,
              "ticks": ""
             }
            },
            "type": "scatterpolar"
           }
          ],
          "scatterpolargl": [
           {
            "marker": {
             "colorbar": {
              "outlinewidth": 0,
              "ticks": ""
             }
            },
            "type": "scatterpolargl"
           }
          ],
          "scatterternary": [
           {
            "marker": {
             "colorbar": {
              "outlinewidth": 0,
              "ticks": ""
             }
            },
            "type": "scatterternary"
           }
          ],
          "surface": [
           {
            "colorbar": {
             "outlinewidth": 0,
             "ticks": ""
            },
            "colorscale": [
             [
              0,
              "#0d0887"
             ],
             [
              0.1111111111111111,
              "#46039f"
             ],
             [
              0.2222222222222222,
              "#7201a8"
             ],
             [
              0.3333333333333333,
              "#9c179e"
             ],
             [
              0.4444444444444444,
              "#bd3786"
             ],
             [
              0.5555555555555556,
              "#d8576b"
             ],
             [
              0.6666666666666666,
              "#ed7953"
             ],
             [
              0.7777777777777778,
              "#fb9f3a"
             ],
             [
              0.8888888888888888,
              "#fdca26"
             ],
             [
              1,
              "#f0f921"
             ]
            ],
            "type": "surface"
           }
          ],
          "table": [
           {
            "cells": {
             "fill": {
              "color": "#EBF0F8"
             },
             "line": {
              "color": "white"
             }
            },
            "header": {
             "fill": {
              "color": "#C8D4E3"
             },
             "line": {
              "color": "white"
             }
            },
            "type": "table"
           }
          ]
         },
         "layout": {
          "annotationdefaults": {
           "arrowcolor": "#2a3f5f",
           "arrowhead": 0,
           "arrowwidth": 1
          },
          "coloraxis": {
           "colorbar": {
            "outlinewidth": 0,
            "ticks": ""
           }
          },
          "colorscale": {
           "diverging": [
            [
             0,
             "#8e0152"
            ],
            [
             0.1,
             "#c51b7d"
            ],
            [
             0.2,
             "#de77ae"
            ],
            [
             0.3,
             "#f1b6da"
            ],
            [
             0.4,
             "#fde0ef"
            ],
            [
             0.5,
             "#f7f7f7"
            ],
            [
             0.6,
             "#e6f5d0"
            ],
            [
             0.7,
             "#b8e186"
            ],
            [
             0.8,
             "#7fbc41"
            ],
            [
             0.9,
             "#4d9221"
            ],
            [
             1,
             "#276419"
            ]
           ],
           "sequential": [
            [
             0,
             "#0d0887"
            ],
            [
             0.1111111111111111,
             "#46039f"
            ],
            [
             0.2222222222222222,
             "#7201a8"
            ],
            [
             0.3333333333333333,
             "#9c179e"
            ],
            [
             0.4444444444444444,
             "#bd3786"
            ],
            [
             0.5555555555555556,
             "#d8576b"
            ],
            [
             0.6666666666666666,
             "#ed7953"
            ],
            [
             0.7777777777777778,
             "#fb9f3a"
            ],
            [
             0.8888888888888888,
             "#fdca26"
            ],
            [
             1,
             "#f0f921"
            ]
           ],
           "sequentialminus": [
            [
             0,
             "#0d0887"
            ],
            [
             0.1111111111111111,
             "#46039f"
            ],
            [
             0.2222222222222222,
             "#7201a8"
            ],
            [
             0.3333333333333333,
             "#9c179e"
            ],
            [
             0.4444444444444444,
             "#bd3786"
            ],
            [
             0.5555555555555556,
             "#d8576b"
            ],
            [
             0.6666666666666666,
             "#ed7953"
            ],
            [
             0.7777777777777778,
             "#fb9f3a"
            ],
            [
             0.8888888888888888,
             "#fdca26"
            ],
            [
             1,
             "#f0f921"
            ]
           ]
          },
          "colorway": [
           "#636efa",
           "#EF553B",
           "#00cc96",
           "#ab63fa",
           "#FFA15A",
           "#19d3f3",
           "#FF6692",
           "#B6E880",
           "#FF97FF",
           "#FECB52"
          ],
          "font": {
           "color": "#2a3f5f"
          },
          "geo": {
           "bgcolor": "white",
           "lakecolor": "white",
           "landcolor": "#E5ECF6",
           "showlakes": true,
           "showland": true,
           "subunitcolor": "white"
          },
          "hoverlabel": {
           "align": "left"
          },
          "hovermode": "closest",
          "mapbox": {
           "style": "light"
          },
          "paper_bgcolor": "white",
          "plot_bgcolor": "#E5ECF6",
          "polar": {
           "angularaxis": {
            "gridcolor": "white",
            "linecolor": "white",
            "ticks": ""
           },
           "bgcolor": "#E5ECF6",
           "radialaxis": {
            "gridcolor": "white",
            "linecolor": "white",
            "ticks": ""
           }
          },
          "scene": {
           "xaxis": {
            "backgroundcolor": "#E5ECF6",
            "gridcolor": "white",
            "gridwidth": 2,
            "linecolor": "white",
            "showbackground": true,
            "ticks": "",
            "zerolinecolor": "white"
           },
           "yaxis": {
            "backgroundcolor": "#E5ECF6",
            "gridcolor": "white",
            "gridwidth": 2,
            "linecolor": "white",
            "showbackground": true,
            "ticks": "",
            "zerolinecolor": "white"
           },
           "zaxis": {
            "backgroundcolor": "#E5ECF6",
            "gridcolor": "white",
            "gridwidth": 2,
            "linecolor": "white",
            "showbackground": true,
            "ticks": "",
            "zerolinecolor": "white"
           }
          },
          "shapedefaults": {
           "line": {
            "color": "#2a3f5f"
           }
          },
          "ternary": {
           "aaxis": {
            "gridcolor": "white",
            "linecolor": "white",
            "ticks": ""
           },
           "baxis": {
            "gridcolor": "white",
            "linecolor": "white",
            "ticks": ""
           },
           "bgcolor": "#E5ECF6",
           "caxis": {
            "gridcolor": "white",
            "linecolor": "white",
            "ticks": ""
           }
          },
          "title": {
           "x": 0.05
          },
          "xaxis": {
           "automargin": true,
           "gridcolor": "white",
           "linecolor": "white",
           "ticks": "",
           "title": {
            "standoff": 15
           },
           "zerolinecolor": "white",
           "zerolinewidth": 2
          },
          "yaxis": {
           "automargin": true,
           "gridcolor": "white",
           "linecolor": "white",
           "ticks": "",
           "title": {
            "standoff": 15
           },
           "zerolinecolor": "white",
           "zerolinewidth": 2
          }
         }
        },
        "title": {
         "text": "Accuracy Rates for 3 Class Pneumonia Classification"
        },
        "xaxis": {
         "title": {
          "text": "Epoch"
         }
        },
        "yaxis": {
         "title": {
          "text": "Accuracy Rate"
         }
        }
       }
      },
      "text/html": [
       "<div>\n",
       "        \n",
       "        \n",
       "            <div id=\"5d3b2ef1-b6fa-4a8a-8655-c27cdb9544b1\" class=\"plotly-graph-div\" style=\"height:525px; width:100%;\"></div>\n",
       "            <script type=\"text/javascript\">\n",
       "                require([\"plotly\"], function(Plotly) {\n",
       "                    window.PLOTLYENV=window.PLOTLYENV || {};\n",
       "                    \n",
       "                if (document.getElementById(\"5d3b2ef1-b6fa-4a8a-8655-c27cdb9544b1\")) {\n",
       "                    Plotly.newPlot(\n",
       "                        '5d3b2ef1-b6fa-4a8a-8655-c27cdb9544b1',\n",
       "                        [{\"mode\": \"lines+markers\", \"name\": \"Training\", \"type\": \"scatter\", \"x\": [0, 1, 2, 3, 4, 5, 6, 7, 8, 9, 10, 11, 12, 13, 14, 15, 16, 17, 18, 19, 20, 21, 22, 23, 24, 25, 26, 27, 28, 29, 30, 31, 32, 33, 34, 35, 36, 37, 38, 39, 40, 41, 42, 43, 44, 45, 46, 47, 48, 49], \"y\": [74.82745398773007, 74.65490797546012, 76.95552147239263, 75.4792944785276, 78.1441717791411, 79.54371165644172, 80.98159509202453, 81.17331288343559, 82.32361963190183, 81.74846625766871, 83.18634969325153, 83.9340490797546, 85.54447852760737, 85.83205521472392, 85.60199386503068, 87.11656441717791, 88.09432515337423, 90.77837423312883, 90.39493865030674, 91.46855828220859, 92.8489263803681, 92.69555214723927, 93.3282208588957, 95.72469325153374, 96.83665644171779, 97.08588957055214, 94.36349693251533, 98.37039877300613, 97.16257668711657, 98.1978527607362, 98.77300613496932, 96.12730061349693, 98.38957055214723, 99.29064417177914, 98.29371165644172, 99.23312883435582, 99.5782208588957, 99.27147239263803, 99.38650306748467, 98.06365030674847, 99.5398773006135, 98.84969325153374, 99.44401840490798, 99.5590490797546, 99.71242331288343, 99.48236196319019, 99.92331288343559, 99.96165644171779, 99.94248466257669, 99.88496932515338]}, {\"mode\": \"lines+markers\", \"name\": \"Testing\", \"type\": \"scatter\", \"x\": [0, 1, 2, 3, 4, 5, 6, 7, 8, 9, 10, 11, 12, 13, 14, 15, 16, 17, 18, 19, 20, 21, 22, 23, 24, 25, 26, 27, 28, 29, 30, 31, 32, 33, 34, 35, 36, 37, 38, 39, 40, 41, 42, 43, 44, 45, 46, 47, 48, 49], \"y\": [77.08333333333333, 61.37820512820513, 66.50641025641026, 76.12179487179488, 69.07051282051282, 72.43589743589743, 69.39102564102564, 67.78846153846153, 67.46794871794872, 64.90384615384616, 74.35897435897436, 73.5576923076923, 68.42948717948718, 69.71153846153847, 73.07692307692308, 66.18589743589743, 70.67307692307692, 71.15384615384616, 63.14102564102564, 72.11538461538461, 70.1923076923077, 69.55128205128206, 61.85897435897436, 67.62820512820512, 68.91025641025641, 68.75, 67.1474358974359, 63.94230769230769, 66.02564102564102, 65.38461538461539, 66.02564102564102, 67.3076923076923, 61.53846153846154, 68.91025641025641, 69.71153846153847, 66.18589743589743, 68.26923076923077, 58.17307692307692, 69.71153846153847, 63.46153846153846, 63.62179487179487, 69.23076923076923, 73.07692307692308, 68.10897435897436, 68.58974358974359, 67.1474358974359, 66.82692307692308, 68.75, 68.42948717948718, 70.03205128205128]}],\n",
       "                        {\"template\": {\"data\": {\"bar\": [{\"error_x\": {\"color\": \"#2a3f5f\"}, \"error_y\": {\"color\": \"#2a3f5f\"}, \"marker\": {\"line\": {\"color\": \"#E5ECF6\", \"width\": 0.5}}, \"type\": \"bar\"}], \"barpolar\": [{\"marker\": {\"line\": {\"color\": \"#E5ECF6\", \"width\": 0.5}}, \"type\": \"barpolar\"}], \"carpet\": [{\"aaxis\": {\"endlinecolor\": \"#2a3f5f\", \"gridcolor\": \"white\", \"linecolor\": \"white\", \"minorgridcolor\": \"white\", \"startlinecolor\": \"#2a3f5f\"}, \"baxis\": {\"endlinecolor\": \"#2a3f5f\", \"gridcolor\": \"white\", \"linecolor\": \"white\", \"minorgridcolor\": \"white\", \"startlinecolor\": \"#2a3f5f\"}, \"type\": \"carpet\"}], \"choropleth\": [{\"colorbar\": {\"outlinewidth\": 0, \"ticks\": \"\"}, \"type\": \"choropleth\"}], \"contour\": [{\"colorbar\": {\"outlinewidth\": 0, \"ticks\": \"\"}, \"colorscale\": [[0.0, \"#0d0887\"], [0.1111111111111111, \"#46039f\"], [0.2222222222222222, \"#7201a8\"], [0.3333333333333333, \"#9c179e\"], [0.4444444444444444, \"#bd3786\"], [0.5555555555555556, \"#d8576b\"], [0.6666666666666666, \"#ed7953\"], [0.7777777777777778, \"#fb9f3a\"], [0.8888888888888888, \"#fdca26\"], [1.0, \"#f0f921\"]], \"type\": \"contour\"}], \"contourcarpet\": [{\"colorbar\": {\"outlinewidth\": 0, \"ticks\": \"\"}, \"type\": \"contourcarpet\"}], \"heatmap\": [{\"colorbar\": {\"outlinewidth\": 0, \"ticks\": \"\"}, \"colorscale\": [[0.0, \"#0d0887\"], [0.1111111111111111, \"#46039f\"], [0.2222222222222222, \"#7201a8\"], [0.3333333333333333, \"#9c179e\"], [0.4444444444444444, \"#bd3786\"], [0.5555555555555556, \"#d8576b\"], [0.6666666666666666, \"#ed7953\"], [0.7777777777777778, \"#fb9f3a\"], [0.8888888888888888, \"#fdca26\"], [1.0, \"#f0f921\"]], \"type\": \"heatmap\"}], \"heatmapgl\": [{\"colorbar\": {\"outlinewidth\": 0, \"ticks\": \"\"}, \"colorscale\": [[0.0, \"#0d0887\"], [0.1111111111111111, \"#46039f\"], [0.2222222222222222, \"#7201a8\"], [0.3333333333333333, \"#9c179e\"], [0.4444444444444444, \"#bd3786\"], [0.5555555555555556, \"#d8576b\"], [0.6666666666666666, \"#ed7953\"], [0.7777777777777778, \"#fb9f3a\"], [0.8888888888888888, \"#fdca26\"], [1.0, \"#f0f921\"]], \"type\": \"heatmapgl\"}], \"histogram\": [{\"marker\": {\"colorbar\": {\"outlinewidth\": 0, \"ticks\": \"\"}}, \"type\": \"histogram\"}], \"histogram2d\": [{\"colorbar\": {\"outlinewidth\": 0, \"ticks\": \"\"}, \"colorscale\": [[0.0, \"#0d0887\"], [0.1111111111111111, \"#46039f\"], [0.2222222222222222, \"#7201a8\"], [0.3333333333333333, \"#9c179e\"], [0.4444444444444444, \"#bd3786\"], [0.5555555555555556, \"#d8576b\"], [0.6666666666666666, \"#ed7953\"], [0.7777777777777778, \"#fb9f3a\"], [0.8888888888888888, \"#fdca26\"], [1.0, \"#f0f921\"]], \"type\": \"histogram2d\"}], \"histogram2dcontour\": [{\"colorbar\": {\"outlinewidth\": 0, \"ticks\": \"\"}, \"colorscale\": [[0.0, \"#0d0887\"], [0.1111111111111111, \"#46039f\"], [0.2222222222222222, \"#7201a8\"], [0.3333333333333333, \"#9c179e\"], [0.4444444444444444, \"#bd3786\"], [0.5555555555555556, \"#d8576b\"], [0.6666666666666666, \"#ed7953\"], [0.7777777777777778, \"#fb9f3a\"], [0.8888888888888888, \"#fdca26\"], [1.0, \"#f0f921\"]], \"type\": \"histogram2dcontour\"}], \"mesh3d\": [{\"colorbar\": {\"outlinewidth\": 0, \"ticks\": \"\"}, \"type\": \"mesh3d\"}], \"parcoords\": [{\"line\": {\"colorbar\": {\"outlinewidth\": 0, \"ticks\": \"\"}}, \"type\": \"parcoords\"}], \"pie\": [{\"automargin\": true, \"type\": \"pie\"}], \"scatter\": [{\"marker\": {\"colorbar\": {\"outlinewidth\": 0, \"ticks\": \"\"}}, \"type\": \"scatter\"}], \"scatter3d\": [{\"line\": {\"colorbar\": {\"outlinewidth\": 0, \"ticks\": \"\"}}, \"marker\": {\"colorbar\": {\"outlinewidth\": 0, \"ticks\": \"\"}}, \"type\": \"scatter3d\"}], \"scattercarpet\": [{\"marker\": {\"colorbar\": {\"outlinewidth\": 0, \"ticks\": \"\"}}, \"type\": \"scattercarpet\"}], \"scattergeo\": [{\"marker\": {\"colorbar\": {\"outlinewidth\": 0, \"ticks\": \"\"}}, \"type\": \"scattergeo\"}], \"scattergl\": [{\"marker\": {\"colorbar\": {\"outlinewidth\": 0, \"ticks\": \"\"}}, \"type\": \"scattergl\"}], \"scattermapbox\": [{\"marker\": {\"colorbar\": {\"outlinewidth\": 0, \"ticks\": \"\"}}, \"type\": \"scattermapbox\"}], \"scatterpolar\": [{\"marker\": {\"colorbar\": {\"outlinewidth\": 0, \"ticks\": \"\"}}, \"type\": \"scatterpolar\"}], \"scatterpolargl\": [{\"marker\": {\"colorbar\": {\"outlinewidth\": 0, \"ticks\": \"\"}}, \"type\": \"scatterpolargl\"}], \"scatterternary\": [{\"marker\": {\"colorbar\": {\"outlinewidth\": 0, \"ticks\": \"\"}}, \"type\": \"scatterternary\"}], \"surface\": [{\"colorbar\": {\"outlinewidth\": 0, \"ticks\": \"\"}, \"colorscale\": [[0.0, \"#0d0887\"], [0.1111111111111111, \"#46039f\"], [0.2222222222222222, \"#7201a8\"], [0.3333333333333333, \"#9c179e\"], [0.4444444444444444, \"#bd3786\"], [0.5555555555555556, \"#d8576b\"], [0.6666666666666666, \"#ed7953\"], [0.7777777777777778, \"#fb9f3a\"], [0.8888888888888888, \"#fdca26\"], [1.0, \"#f0f921\"]], \"type\": \"surface\"}], \"table\": [{\"cells\": {\"fill\": {\"color\": \"#EBF0F8\"}, \"line\": {\"color\": \"white\"}}, \"header\": {\"fill\": {\"color\": \"#C8D4E3\"}, \"line\": {\"color\": \"white\"}}, \"type\": \"table\"}]}, \"layout\": {\"annotationdefaults\": {\"arrowcolor\": \"#2a3f5f\", \"arrowhead\": 0, \"arrowwidth\": 1}, \"coloraxis\": {\"colorbar\": {\"outlinewidth\": 0, \"ticks\": \"\"}}, \"colorscale\": {\"diverging\": [[0, \"#8e0152\"], [0.1, \"#c51b7d\"], [0.2, \"#de77ae\"], [0.3, \"#f1b6da\"], [0.4, \"#fde0ef\"], [0.5, \"#f7f7f7\"], [0.6, \"#e6f5d0\"], [0.7, \"#b8e186\"], [0.8, \"#7fbc41\"], [0.9, \"#4d9221\"], [1, \"#276419\"]], \"sequential\": [[0.0, \"#0d0887\"], [0.1111111111111111, \"#46039f\"], [0.2222222222222222, \"#7201a8\"], [0.3333333333333333, \"#9c179e\"], [0.4444444444444444, \"#bd3786\"], [0.5555555555555556, \"#d8576b\"], [0.6666666666666666, \"#ed7953\"], [0.7777777777777778, \"#fb9f3a\"], [0.8888888888888888, \"#fdca26\"], [1.0, \"#f0f921\"]], \"sequentialminus\": [[0.0, \"#0d0887\"], [0.1111111111111111, \"#46039f\"], [0.2222222222222222, \"#7201a8\"], [0.3333333333333333, \"#9c179e\"], [0.4444444444444444, \"#bd3786\"], [0.5555555555555556, \"#d8576b\"], [0.6666666666666666, \"#ed7953\"], [0.7777777777777778, \"#fb9f3a\"], [0.8888888888888888, \"#fdca26\"], [1.0, \"#f0f921\"]]}, \"colorway\": [\"#636efa\", \"#EF553B\", \"#00cc96\", \"#ab63fa\", \"#FFA15A\", \"#19d3f3\", \"#FF6692\", \"#B6E880\", \"#FF97FF\", \"#FECB52\"], \"font\": {\"color\": \"#2a3f5f\"}, \"geo\": {\"bgcolor\": \"white\", \"lakecolor\": \"white\", \"landcolor\": \"#E5ECF6\", \"showlakes\": true, \"showland\": true, \"subunitcolor\": \"white\"}, \"hoverlabel\": {\"align\": \"left\"}, \"hovermode\": \"closest\", \"mapbox\": {\"style\": \"light\"}, \"paper_bgcolor\": \"white\", \"plot_bgcolor\": \"#E5ECF6\", \"polar\": {\"angularaxis\": {\"gridcolor\": \"white\", \"linecolor\": \"white\", \"ticks\": \"\"}, \"bgcolor\": \"#E5ECF6\", \"radialaxis\": {\"gridcolor\": \"white\", \"linecolor\": \"white\", \"ticks\": \"\"}}, \"scene\": {\"xaxis\": {\"backgroundcolor\": \"#E5ECF6\", \"gridcolor\": \"white\", \"gridwidth\": 2, \"linecolor\": \"white\", \"showbackground\": true, \"ticks\": \"\", \"zerolinecolor\": \"white\"}, \"yaxis\": {\"backgroundcolor\": \"#E5ECF6\", \"gridcolor\": \"white\", \"gridwidth\": 2, \"linecolor\": \"white\", \"showbackground\": true, \"ticks\": \"\", \"zerolinecolor\": \"white\"}, \"zaxis\": {\"backgroundcolor\": \"#E5ECF6\", \"gridcolor\": \"white\", \"gridwidth\": 2, \"linecolor\": \"white\", \"showbackground\": true, \"ticks\": \"\", \"zerolinecolor\": \"white\"}}, \"shapedefaults\": {\"line\": {\"color\": \"#2a3f5f\"}}, \"ternary\": {\"aaxis\": {\"gridcolor\": \"white\", \"linecolor\": \"white\", \"ticks\": \"\"}, \"baxis\": {\"gridcolor\": \"white\", \"linecolor\": \"white\", \"ticks\": \"\"}, \"bgcolor\": \"#E5ECF6\", \"caxis\": {\"gridcolor\": \"white\", \"linecolor\": \"white\", \"ticks\": \"\"}}, \"title\": {\"x\": 0.05}, \"xaxis\": {\"automargin\": true, \"gridcolor\": \"white\", \"linecolor\": \"white\", \"ticks\": \"\", \"title\": {\"standoff\": 15}, \"zerolinecolor\": \"white\", \"zerolinewidth\": 2}, \"yaxis\": {\"automargin\": true, \"gridcolor\": \"white\", \"linecolor\": \"white\", \"ticks\": \"\", \"title\": {\"standoff\": 15}, \"zerolinecolor\": \"white\", \"zerolinewidth\": 2}}}, \"title\": {\"text\": \"Accuracy Rates for 3 Class Pneumonia Classification\"}, \"xaxis\": {\"title\": {\"text\": \"Epoch\"}}, \"yaxis\": {\"title\": {\"text\": \"Accuracy Rate\"}}},\n",
       "                        {\"responsive\": true}\n",
       "                    ).then(function(){\n",
       "                            \n",
       "var gd = document.getElementById('5d3b2ef1-b6fa-4a8a-8655-c27cdb9544b1');\n",
       "var x = new MutationObserver(function (mutations, observer) {{\n",
       "        var display = window.getComputedStyle(gd).display;\n",
       "        if (!display || display === 'none') {{\n",
       "            console.log([gd, 'removed!']);\n",
       "            Plotly.purge(gd);\n",
       "            observer.disconnect();\n",
       "        }}\n",
       "}});\n",
       "\n",
       "// Listen for the removal of the full notebook cells\n",
       "var notebookContainer = gd.closest('#notebook-container');\n",
       "if (notebookContainer) {{\n",
       "    x.observe(notebookContainer, {childList: true});\n",
       "}}\n",
       "\n",
       "// Listen for the clearing of the current output cell\n",
       "var outputEl = gd.closest('.output');\n",
       "if (outputEl) {{\n",
       "    x.observe(outputEl, {childList: true});\n",
       "}}\n",
       "\n",
       "                        })\n",
       "                };\n",
       "                });\n",
       "            </script>\n",
       "        </div>"
      ]
     },
     "metadata": {},
     "output_type": "display_data"
    }
   ],
   "source": [
    "#Confusion matrix for 2 classes\n",
    "y_pred_2class = np.argmax(model_2class(x_test_1d).cpu().detach(),axis=1)\n",
    "y_test_cpu_2class = y_test_2class.cpu()\n",
    "\n",
    "cm1 = confusion_matrix(y_pred_2class,y_test_cpu_2class)\n",
    "precision1 = np.diag(cm1)/cm1.sum(axis=1)\n",
    "recall1 = np.diag(cm1)/cm1.sum(axis=0)\n",
    "print('precision:',precision1)\n",
    "print('recall:',recall1)\n",
    "print(cm1)\n",
    "\n",
    "#confusion matrix for 3 classes\n",
    "y_pred_3class = np.argmax(model_3class(x_test_1d).cpu().detach(),axis=1)\n",
    "y_test_cpu_3class = y_test_3class.cpu()\n",
    "\n",
    "cm2 = confusion_matrix(y_pred_3class,y_test_cpu_3class)\n",
    "precision2 = np.diag(cm2)/cm2.sum(axis=1)\n",
    "recall2 = np.diag(cm2)/cm2.sum(axis=0)\n",
    "print('precision:',precision2)\n",
    "print('recall:',recall2)\n",
    "print(cm2)\n",
    "\n",
    "#plots for training and testing accuracy for 2 and 3 class compared\n",
    "x = [x for x in range(0,50)]\n",
    "fig = go.Figure()\n",
    "fig.add_trace(go.Scatter(x =x,y=train_accs_2class,mode = 'lines+markers',name = 'Training'))\n",
    "fig.add_trace(go.Scatter(x =x,y=test_accs_2class,mode = 'lines+markers',name = 'Testing'))\n",
    "fig.update_layout(title_text = 'Accuracy Rates for 2 Class Pneumonia Classification')\n",
    "fig.update_xaxes(title_text = 'Epoch')\n",
    "fig.update_yaxes(title_text = 'Accuracy Rate')\n",
    "fig.show()\n",
    "\n",
    "fig = go.Figure()\n",
    "fig.add_trace(go.Scatter(x =x,y=train_accs_3class,mode = 'lines+markers',name = 'Training'))\n",
    "fig.add_trace(go.Scatter(x =x,y=test_accs_3class,mode = 'lines+markers',name = 'Testing'))\n",
    "fig.update_layout(title_text = 'Accuracy Rates for 3 Class Pneumonia Classification')\n",
    "fig.update_xaxes(title_text = 'Epoch')\n",
    "fig.update_yaxes(title_text = 'Accuracy Rate')\n",
    "fig.show()"
   ]
  },
  {
   "cell_type": "markdown",
   "metadata": {},
   "source": [
    "**CNN Using Dropout and L2 Regularization for 2 Class**"
   ]
  },
  {
   "cell_type": "code",
   "execution_count": 201,
   "metadata": {},
   "outputs": [],
   "source": [
    "#this model is the same as the ones above\n",
    "class Net(nn.Module):\n",
    "    def __init__(self):\n",
    "       \n",
    "        super(Net,self).__init__()\n",
    "        self.conv1= nn.Conv1d(in_channels=1, out_channels=16, kernel_size=3, padding=1)\n",
    "        self.pool1 = nn.MaxPool1d(kernel_size=2, stride=2) \n",
    "\n",
    "        self.conv2 = nn.Conv1d(in_channels=16, out_channels=64, kernel_size=3, padding=1)\n",
    "        self.pool2 = nn.MaxPool1d(kernel_size=2, stride=2)\n",
    "\n",
    "\n",
    "        self.l1 = nn.Linear(40000,128) #128 size of hidden layers\n",
    "        self.l2 = nn.Linear(128,64)\n",
    "        self.l3 = nn.Linear(64,2) # number of classes\n",
    "\n",
    "        self.dropout_1 = nn.Dropout(p=0.2)\n",
    "        self.dropout_2 = nn.Dropout(p=0.5)\n",
    "        self.dropout_3 = nn.Dropout(p=0.2)\n",
    "\n",
    "    def forward(self,x):\n",
    "\n",
    "        a1 = self.conv1(x)\n",
    "        \n",
    "        z1 = torch.relu(a1)\n",
    "        \n",
    "        z1 = self.pool1(z1)\n",
    "                \n",
    "        a2 = self.conv2(z1)\n",
    "        z2 = torch.relu(a2)\n",
    "        z2 = self.pool2(z2)      \n",
    "             \n",
    "        \n",
    "        z_flat = self.dropout_1(torch.reshape(z2,(-1,40000)))\n",
    "        \n",
    "        a3 = self.l1(z_flat)\n",
    "        z3 = self.dropout_2(torch.relu(a3))\n",
    "        \n",
    "        a4 = self.l2(a3)\n",
    "        z4 = self.dropout_3(torch.relu(a4))\n",
    "        \n",
    "        a5 = self.l3(z4)\n",
    "        \n",
    "        return a5"
   ]
  },
  {
   "cell_type": "code",
   "execution_count": 202,
   "metadata": {},
   "outputs": [
    {
     "name": "stdout",
     "output_type": "stream",
     "text": [
      "0 1616792960.0 92.8680981595092 80.76923076923077\n",
      "1 1616792960.0 95.49463190184049 81.73076923076923\n",
      "2 1616792960.0 95.68634969325153 73.5576923076923\n",
      "3 1616792960.0 96.64493865030674 75.16025641025641\n",
      "4 1616792960.0 97.45015337423312 76.6025641025641\n",
      "5 1616792960.0 97.62269938650307 78.2051282051282\n",
      "6 1616792960.0 96.97085889570552 74.03846153846153\n",
      "7 1616792960.0 97.85276073619632 81.41025641025641\n",
      "8 1616792960.0 98.33205521472392 74.83974358974359\n",
      "9 1616792960.0 98.37039877300613 74.35897435897436\n",
      "10 1616792960.0 98.44708588957056 74.67948717948718\n",
      "11 1616792960.0 99.15644171779141 76.92307692307692\n",
      "12 1616792960.0 98.00613496932516 81.73076923076923\n",
      "13 1616792960.0 98.37039877300613 83.33333333333333\n",
      "14 1616792960.0 99.61656441717791 76.12179487179488\n",
      "15 1616792960.0 99.63573619631902 75.96153846153847\n",
      "16 1616792960.0 99.5782208588957 76.92307692307692\n",
      "17 1616792960.0 99.63573619631902 77.72435897435898\n",
      "18 1616792960.0 99.61656441717791 73.5576923076923\n",
      "19 1616792960.0 99.079754601227 80.44871794871794\n",
      "20 1616792960.0 99.75076687116564 76.92307692307692\n",
      "21 1616792960.0 99.5398773006135 74.51923076923077\n",
      "22 1616792960.0 99.76993865030674 76.4423076923077\n",
      "23 1616792960.0 99.69325153374233 79.96794871794872\n",
      "24 1616792960.0 99.94248466257669 78.68589743589743\n",
      "25 1616792960.0 99.76993865030674 78.2051282051282\n",
      "26 1616792960.0 99.46319018404908 73.5576923076923\n",
      "27 1616792960.0 99.82745398773007 78.68589743589743\n",
      "28 1616792960.0 99.96165644171779 75.96153846153847\n",
      "29 1616792960.0 99.82745398773007 75.96153846153847\n",
      "30 1616792960.0 99.96165644171779 79.32692307692308\n",
      "31 1616792960.0 100.0 77.72435897435898\n",
      "32 1616792960.0 99.5207055214724 77.88461538461539\n",
      "33 1616792960.0 99.9808282208589 78.2051282051282\n",
      "34 1616792960.0 99.90414110429448 77.08333333333333\n",
      "35 1616792960.0 99.92331288343559 76.6025641025641\n",
      "36 1616792960.0 99.9808282208589 80.44871794871794\n",
      "37 1616792960.0 99.9808282208589 76.76282051282051\n",
      "38 1616792960.0 100.0 80.92948717948718\n",
      "39 1616792960.0 99.9808282208589 77.24358974358974\n",
      "40 1616792960.0 100.0 79.16666666666667\n",
      "41 1616792960.0 99.96165644171779 80.12820512820512\n",
      "42 1616792960.0 99.9808282208589 80.60897435897436\n",
      "43 1616792960.0 99.96165644171779 77.56410256410257\n",
      "44 1616792960.0 99.82745398773007 74.51923076923077\n",
      "45 1616792960.0 100.0 75.32051282051282\n",
      "46 1616792960.0 99.96165644171779 77.40384615384616\n",
      "47 1616792960.0 99.9808282208589 72.91666666666667\n",
      "48 1616792960.0 100.0 76.6025641025641\n",
      "49 1616792960.0 99.9808282208589 73.23717948717949\n"
     ]
    }
   ],
   "source": [
    "#below will train a model and compare accuracies for data for 2 class data using dropout and L2 regularization\n",
    "model_2class = Net()\n",
    "criterion = torch.nn.CrossEntropyLoss(reduction='mean')\n",
    "\n",
    "optimizer = torch.optim.Adam(model_2class.parameters())\n",
    "\n",
    "train_accs_2class = []\n",
    "test_accs_2class = []\n",
    "\n",
    "gamma = 2e3 #regularization term how much we applify the penalty\n",
    "\n",
    "epochs = 50\n",
    "# Loop over the data\n",
    "for epoch in range(epochs):\n",
    "    model_2class.train()\n",
    "    # Loop over each subset of data\n",
    "    for d,t in train_loader_2class:\n",
    "        # Zero out the optimizer's gradient buffer\n",
    "        optimizer.zero_grad()        \n",
    "        # Make a prediction based on the model\n",
    "        outputs = model_2class(d)        \n",
    "        # Compute the loss\n",
    "        loss = criterion(outputs,t)    \n",
    "        #regularization  \n",
    "        for p in model.parameters():\n",
    "            if p.dim()>1:\n",
    "                loss += gamma/(2*d.shape[0])*(p**2).sum() #formula for the L2 norm will penalize large weights\n",
    "        # Use backpropagation to compute the derivative of the loss with respect to the parameters\n",
    "        loss.backward()   \n",
    "        # Use the derivative information to update the parameters\n",
    "        optimizer.step()\n",
    "        \n",
    "    model_2class.eval()\n",
    "    total_2class=0.\n",
    "    correct_2class=0.\n",
    "    # Loop over all the test examples and accumulate the number of correct results in each batch\n",
    "    for d,t in test_loader_2class:\n",
    "        outputs = model_2class(d)\n",
    "        _, predicted = torch.max(outputs.data,1)\n",
    "        total_2class += float(t.size(0))\n",
    "        correct_2class += float((predicted==t).sum())\n",
    "    total_train_2class = 0\n",
    "    correct_train_2class = 0\n",
    "    for d,t in train_loader_2class:\n",
    "        outputs = model_2class(d)\n",
    "        _, predicted = torch.max(outputs.data,1)\n",
    "        total_train_2class += float(t.size(0))\n",
    "        correct_train_2class += float((predicted==t).sum())\n",
    "    \n",
    "    # Print the epoch, the training loss, and the test set accuracy.\n",
    "    train_accs_2class.append(100.*correct_train_2class/total_train_2class)\n",
    "    test_accs_2class.append(100.*correct_2class/total_2class)\n",
    "    \n",
    "    print(epoch,loss.item(),train_accs_2class[-1],test_accs_2class[-1])\n"
   ]
  },
  {
   "cell_type": "markdown",
   "metadata": {},
   "source": [
    "**CNN Using Dropout and L2 Regularization for 3 Class**"
   ]
  },
  {
   "cell_type": "code",
   "execution_count": 207,
   "metadata": {},
   "outputs": [],
   "source": [
    "#same as models above\n",
    "class Net(nn.Module):\n",
    "    def __init__(self):\n",
    "       \n",
    "        super(Net,self).__init__()\n",
    "        self.conv1= nn.Conv1d(in_channels=1, out_channels=16, kernel_size=3, padding=1)\n",
    "        self.pool1 = nn.MaxPool1d(kernel_size=2, stride=2) \n",
    "\n",
    "        self.conv2 = nn.Conv1d(in_channels=16, out_channels=64, kernel_size=3, padding=1)\n",
    "        self.pool2 = nn.MaxPool1d(kernel_size=2, stride=2)\n",
    "\n",
    "\n",
    "        self.l1 = nn.Linear(40000,128) \n",
    "        self.l2 = nn.Linear(128,64)\n",
    "        self.l3 = nn.Linear(64,3) \n",
    "        \n",
    "        self.dropout_1 = nn.Dropout(p=0.2)\n",
    "        self.dropout_2 = nn.Dropout(p=0.5)\n",
    "        self.dropout_3 = nn.Dropout(p=0.2)\n",
    "\n",
    "    def forward(self,x):\n",
    "\n",
    "        a1 = self.conv1(x)\n",
    "        \n",
    "        z1 = torch.relu(a1)\n",
    "        \n",
    "        z1 = self.pool1(z1)\n",
    "                \n",
    "        a2 = self.conv2(z1)\n",
    "        z2 = torch.relu(a2)\n",
    "        z2 = self.pool2(z2)      \n",
    "             \n",
    "        \n",
    "        z_flat = self.dropout_1(torch.reshape(z2,(-1,40000)))\n",
    "        \n",
    "        a3 = self.l1(z_flat)\n",
    "        z3 = self.dropout_2(torch.relu(a3))\n",
    "        \n",
    "        a4 = self.l2(a3)\n",
    "        z4 = self.dropout_3(torch.relu(a4))\n",
    "        \n",
    "        a5 = self.l3(z4)\n",
    "        \n",
    "        return a5"
   ]
  },
  {
   "cell_type": "code",
   "execution_count": 204,
   "metadata": {},
   "outputs": [
    {
     "name": "stdout",
     "output_type": "stream",
     "text": [
      "0 1616792960.0 65.93174846625767 74.35897435897436\n",
      "1 1616792960.0 75.78604294478528 69.39102564102564\n",
      "2 1616792960.0 78.22085889570552 72.27564102564102\n",
      "3 1616792960.0 79.12193251533742 67.46794871794872\n",
      "4 1616792960.0 79.25613496932516 67.46794871794872\n",
      "5 1616792960.0 77.91411042944786 61.53846153846154\n",
      "6 1616792960.0 79.96549079754601 74.19871794871794\n",
      "7 1616792960.0 80.94325153374233 67.78846153846153\n",
      "8 1616792960.0 81.28834355828221 66.34615384615384\n",
      "9 1616792960.0 76.57208588957056 56.57051282051282\n",
      "10 1616792960.0 81.6909509202454 67.78846153846153\n",
      "11 1616792960.0 82.87960122699387 72.91666666666667\n",
      "12 1616792960.0 84.75843558282209 68.91025641025641\n",
      "13 1616792960.0 85.41027607361963 67.94871794871794\n",
      "14 1616792960.0 84.68174846625767 64.90384615384616\n",
      "15 1616792960.0 86.80981595092024 65.38461538461539\n",
      "16 1616792960.0 85.75536809815951 73.5576923076923\n",
      "17 1616792960.0 86.1579754601227 67.94871794871794\n",
      "18 1616792960.0 88.3627300613497 66.18589743589743\n",
      "19 1616792960.0 89.68558282208589 70.99358974358974\n",
      "20 1616792960.0 89.97315950920246 66.02564102564102\n",
      "21 1616792960.0 91.12346625766871 64.42307692307692\n",
      "22 1616792960.0 92.65720858895706 65.38461538461539\n",
      "23 1616792960.0 91.0659509202454 63.30128205128205\n",
      "24 1616792960.0 93.05981595092024 68.91025641025641\n",
      "25 1616792960.0 93.61579754601227 64.42307692307692\n",
      "26 1616792960.0 95.68634969325153 64.74358974358974\n",
      "27 1616792960.0 95.91641104294479 64.90384615384616\n",
      "28 1616792960.0 94.09509202453988 60.8974358974359\n",
      "29 1616792960.0 96.28067484662577 62.01923076923077\n",
      "30 1616792960.0 96.16564417177914 70.3525641025641\n",
      "31 1616792960.0 97.7760736196319 61.85897435897436\n",
      "32 1616792960.0 96.54907975460122 62.33974358974359\n",
      "33 1616792960.0 97.46932515337423 65.5448717948718\n",
      "34 1616792960.0 98.75383435582822 67.62820512820512\n",
      "35 1616792960.0 98.40874233128834 65.86538461538461\n",
      "36 1616792960.0 98.6579754601227 68.26923076923077\n",
      "37 1616792960.0 97.56518404907976 67.78846153846153\n",
      "38 1616792960.0 99.38650306748467 64.90384615384616\n",
      "39 1616792960.0 97.3159509202454 66.66666666666667\n",
      "40 1616792960.0 99.15644171779141 65.7051282051282\n",
      "41 1616792960.0 99.30981595092024 63.782051282051285\n",
      "42 1616792960.0 99.36733128834356 66.34615384615384\n",
      "43 1616792960.0 99.61656441717791 68.91025641025641\n",
      "44 1616792960.0 99.5207055214724 70.67307692307692\n",
      "45 1616792960.0 99.73159509202453 67.1474358974359\n",
      "46 1616792960.0 99.76993865030674 69.55128205128206\n",
      "47 1616792960.0 99.90414110429448 70.83333333333333\n",
      "48 1616792960.0 99.80828220858896 65.5448717948718\n",
      "49 1616792960.0 99.5398773006135 66.82692307692308\n"
     ]
    }
   ],
   "source": [
    "#model to train for 3 class data\n",
    "#same algorithm we used above for the two class\n",
    "model_3class = Net()\n",
    "criterion = torch.nn.CrossEntropyLoss(reduction='mean')\n",
    "\n",
    "optimizer = torch.optim.Adam(model_3class.parameters())\n",
    "\n",
    "train_accs_3class = []\n",
    "test_accs_3class = []\n",
    "\n",
    "gamma = 2e3\n",
    "\n",
    "epochs = 100\n",
    "for epoch in range(epochs):\n",
    "    model_3class.train()\n",
    "    for d,t in train_loader_3class:\n",
    "        optimizer.zero_grad()        \n",
    "        outputs = model_3class(d)        \n",
    "        loss = criterion(outputs,t)\n",
    "        for p in model.parameters():\n",
    "            if p.dim()>1:\n",
    "                loss += gamma/(2*d.shape[0])*(p**2).sum()\n",
    "        loss.backward()        \n",
    "        optimizer.step()\n",
    "        \n",
    "    model_3class.eval()\n",
    "    total_3class=0.\n",
    "    correct_3class=0.\n",
    "    for d,t in test_loader_3class:\n",
    "        outputs = model_3class(d)\n",
    "        _, predicted = torch.max(outputs.data,1)\n",
    "        total_3class += float(t.size(0))\n",
    "        correct_3class += float((predicted==t).sum())\n",
    "    total_train_3class = 0\n",
    "    correct_train_3class = 0\n",
    "    for d,t in train_loader_3class:\n",
    "        outputs = model_3class(d)\n",
    "        _, predicted = torch.max(outputs.data,1)\n",
    "        total_train_3class += float(t.size(0))\n",
    "        correct_train_3class += float((predicted==t).sum())\n",
    "    train_accs_3class.append(100.*correct_train_3class/total_train_3class)\n",
    "    test_accs_3class.append(100.*correct_3class/total_3class)\n",
    "    \n",
    "    print(epoch,loss.item(),train_accs_3class[-1],test_accs_3class[-1])\n"
   ]
  },
  {
   "cell_type": "markdown",
   "metadata": {},
   "source": [
    "**Evaluation of Model and Summary Stats**"
   ]
  },
  {
   "cell_type": "code",
   "execution_count": 206,
   "metadata": {},
   "outputs": [
    {
     "name": "stdout",
     "output_type": "stream",
     "text": [
      "precision: [0.98550725 0.7009009 ]\n",
      "recall: [0.29059829 0.9974359 ]\n",
      "[[ 68   1]\n",
      " [166 389]]\n",
      "precision: [0.95454545 0.66477273 0.48148148]\n",
      "recall: [0.44871795 0.96694215 0.52702703]\n",
      "[[105   2   3]\n",
      " [ 51 234  67]\n",
      " [ 78   6  78]]\n"
     ]
    },
    {
     "data": {
      "application/vnd.plotly.v1+json": {
       "config": {
        "plotlyServerURL": "https://plot.ly"
       },
       "data": [
        {
         "mode": "lines+markers",
         "name": "Training",
         "type": "scatter",
         "x": [
          0,
          1,
          2,
          3,
          4,
          5,
          6,
          7,
          8,
          9,
          10,
          11,
          12,
          13,
          14,
          15,
          16,
          17,
          18,
          19,
          20,
          21,
          22,
          23,
          24,
          25,
          26,
          27,
          28,
          29,
          30,
          31,
          32,
          33,
          34,
          35,
          36,
          37,
          38,
          39,
          40,
          41,
          42,
          43,
          44,
          45,
          46,
          47,
          48,
          49
         ],
         "y": [
          92.8680981595092,
          95.49463190184049,
          95.68634969325153,
          96.64493865030674,
          97.45015337423312,
          97.62269938650307,
          96.97085889570552,
          97.85276073619632,
          98.33205521472392,
          98.37039877300613,
          98.44708588957056,
          99.15644171779141,
          98.00613496932516,
          98.37039877300613,
          99.61656441717791,
          99.63573619631902,
          99.5782208588957,
          99.63573619631902,
          99.61656441717791,
          99.079754601227,
          99.75076687116564,
          99.5398773006135,
          99.76993865030674,
          99.69325153374233,
          99.94248466257669,
          99.76993865030674,
          99.46319018404908,
          99.82745398773007,
          99.96165644171779,
          99.82745398773007,
          99.96165644171779,
          100,
          99.5207055214724,
          99.9808282208589,
          99.90414110429448,
          99.92331288343559,
          99.9808282208589,
          99.9808282208589,
          100,
          99.9808282208589,
          100,
          99.96165644171779,
          99.9808282208589,
          99.96165644171779,
          99.82745398773007,
          100,
          99.96165644171779,
          99.9808282208589,
          100,
          99.9808282208589
         ]
        },
        {
         "mode": "lines+markers",
         "name": "Testing",
         "type": "scatter",
         "x": [
          0,
          1,
          2,
          3,
          4,
          5,
          6,
          7,
          8,
          9,
          10,
          11,
          12,
          13,
          14,
          15,
          16,
          17,
          18,
          19,
          20,
          21,
          22,
          23,
          24,
          25,
          26,
          27,
          28,
          29,
          30,
          31,
          32,
          33,
          34,
          35,
          36,
          37,
          38,
          39,
          40,
          41,
          42,
          43,
          44,
          45,
          46,
          47,
          48,
          49
         ],
         "y": [
          80.76923076923077,
          81.73076923076923,
          73.5576923076923,
          75.16025641025641,
          76.6025641025641,
          78.2051282051282,
          74.03846153846153,
          81.41025641025641,
          74.83974358974359,
          74.35897435897436,
          74.67948717948718,
          76.92307692307692,
          81.73076923076923,
          83.33333333333333,
          76.12179487179488,
          75.96153846153847,
          76.92307692307692,
          77.72435897435898,
          73.5576923076923,
          80.44871794871794,
          76.92307692307692,
          74.51923076923077,
          76.4423076923077,
          79.96794871794872,
          78.68589743589743,
          78.2051282051282,
          73.5576923076923,
          78.68589743589743,
          75.96153846153847,
          75.96153846153847,
          79.32692307692308,
          77.72435897435898,
          77.88461538461539,
          78.2051282051282,
          77.08333333333333,
          76.6025641025641,
          80.44871794871794,
          76.76282051282051,
          80.92948717948718,
          77.24358974358974,
          79.16666666666667,
          80.12820512820512,
          80.60897435897436,
          77.56410256410257,
          74.51923076923077,
          75.32051282051282,
          77.40384615384616,
          72.91666666666667,
          76.6025641025641,
          73.23717948717949
         ]
        }
       ],
       "layout": {
        "template": {
         "data": {
          "bar": [
           {
            "error_x": {
             "color": "#2a3f5f"
            },
            "error_y": {
             "color": "#2a3f5f"
            },
            "marker": {
             "line": {
              "color": "#E5ECF6",
              "width": 0.5
             }
            },
            "type": "bar"
           }
          ],
          "barpolar": [
           {
            "marker": {
             "line": {
              "color": "#E5ECF6",
              "width": 0.5
             }
            },
            "type": "barpolar"
           }
          ],
          "carpet": [
           {
            "aaxis": {
             "endlinecolor": "#2a3f5f",
             "gridcolor": "white",
             "linecolor": "white",
             "minorgridcolor": "white",
             "startlinecolor": "#2a3f5f"
            },
            "baxis": {
             "endlinecolor": "#2a3f5f",
             "gridcolor": "white",
             "linecolor": "white",
             "minorgridcolor": "white",
             "startlinecolor": "#2a3f5f"
            },
            "type": "carpet"
           }
          ],
          "choropleth": [
           {
            "colorbar": {
             "outlinewidth": 0,
             "ticks": ""
            },
            "type": "choropleth"
           }
          ],
          "contour": [
           {
            "colorbar": {
             "outlinewidth": 0,
             "ticks": ""
            },
            "colorscale": [
             [
              0,
              "#0d0887"
             ],
             [
              0.1111111111111111,
              "#46039f"
             ],
             [
              0.2222222222222222,
              "#7201a8"
             ],
             [
              0.3333333333333333,
              "#9c179e"
             ],
             [
              0.4444444444444444,
              "#bd3786"
             ],
             [
              0.5555555555555556,
              "#d8576b"
             ],
             [
              0.6666666666666666,
              "#ed7953"
             ],
             [
              0.7777777777777778,
              "#fb9f3a"
             ],
             [
              0.8888888888888888,
              "#fdca26"
             ],
             [
              1,
              "#f0f921"
             ]
            ],
            "type": "contour"
           }
          ],
          "contourcarpet": [
           {
            "colorbar": {
             "outlinewidth": 0,
             "ticks": ""
            },
            "type": "contourcarpet"
           }
          ],
          "heatmap": [
           {
            "colorbar": {
             "outlinewidth": 0,
             "ticks": ""
            },
            "colorscale": [
             [
              0,
              "#0d0887"
             ],
             [
              0.1111111111111111,
              "#46039f"
             ],
             [
              0.2222222222222222,
              "#7201a8"
             ],
             [
              0.3333333333333333,
              "#9c179e"
             ],
             [
              0.4444444444444444,
              "#bd3786"
             ],
             [
              0.5555555555555556,
              "#d8576b"
             ],
             [
              0.6666666666666666,
              "#ed7953"
             ],
             [
              0.7777777777777778,
              "#fb9f3a"
             ],
             [
              0.8888888888888888,
              "#fdca26"
             ],
             [
              1,
              "#f0f921"
             ]
            ],
            "type": "heatmap"
           }
          ],
          "heatmapgl": [
           {
            "colorbar": {
             "outlinewidth": 0,
             "ticks": ""
            },
            "colorscale": [
             [
              0,
              "#0d0887"
             ],
             [
              0.1111111111111111,
              "#46039f"
             ],
             [
              0.2222222222222222,
              "#7201a8"
             ],
             [
              0.3333333333333333,
              "#9c179e"
             ],
             [
              0.4444444444444444,
              "#bd3786"
             ],
             [
              0.5555555555555556,
              "#d8576b"
             ],
             [
              0.6666666666666666,
              "#ed7953"
             ],
             [
              0.7777777777777778,
              "#fb9f3a"
             ],
             [
              0.8888888888888888,
              "#fdca26"
             ],
             [
              1,
              "#f0f921"
             ]
            ],
            "type": "heatmapgl"
           }
          ],
          "histogram": [
           {
            "marker": {
             "colorbar": {
              "outlinewidth": 0,
              "ticks": ""
             }
            },
            "type": "histogram"
           }
          ],
          "histogram2d": [
           {
            "colorbar": {
             "outlinewidth": 0,
             "ticks": ""
            },
            "colorscale": [
             [
              0,
              "#0d0887"
             ],
             [
              0.1111111111111111,
              "#46039f"
             ],
             [
              0.2222222222222222,
              "#7201a8"
             ],
             [
              0.3333333333333333,
              "#9c179e"
             ],
             [
              0.4444444444444444,
              "#bd3786"
             ],
             [
              0.5555555555555556,
              "#d8576b"
             ],
             [
              0.6666666666666666,
              "#ed7953"
             ],
             [
              0.7777777777777778,
              "#fb9f3a"
             ],
             [
              0.8888888888888888,
              "#fdca26"
             ],
             [
              1,
              "#f0f921"
             ]
            ],
            "type": "histogram2d"
           }
          ],
          "histogram2dcontour": [
           {
            "colorbar": {
             "outlinewidth": 0,
             "ticks": ""
            },
            "colorscale": [
             [
              0,
              "#0d0887"
             ],
             [
              0.1111111111111111,
              "#46039f"
             ],
             [
              0.2222222222222222,
              "#7201a8"
             ],
             [
              0.3333333333333333,
              "#9c179e"
             ],
             [
              0.4444444444444444,
              "#bd3786"
             ],
             [
              0.5555555555555556,
              "#d8576b"
             ],
             [
              0.6666666666666666,
              "#ed7953"
             ],
             [
              0.7777777777777778,
              "#fb9f3a"
             ],
             [
              0.8888888888888888,
              "#fdca26"
             ],
             [
              1,
              "#f0f921"
             ]
            ],
            "type": "histogram2dcontour"
           }
          ],
          "mesh3d": [
           {
            "colorbar": {
             "outlinewidth": 0,
             "ticks": ""
            },
            "type": "mesh3d"
           }
          ],
          "parcoords": [
           {
            "line": {
             "colorbar": {
              "outlinewidth": 0,
              "ticks": ""
             }
            },
            "type": "parcoords"
           }
          ],
          "pie": [
           {
            "automargin": true,
            "type": "pie"
           }
          ],
          "scatter": [
           {
            "marker": {
             "colorbar": {
              "outlinewidth": 0,
              "ticks": ""
             }
            },
            "type": "scatter"
           }
          ],
          "scatter3d": [
           {
            "line": {
             "colorbar": {
              "outlinewidth": 0,
              "ticks": ""
             }
            },
            "marker": {
             "colorbar": {
              "outlinewidth": 0,
              "ticks": ""
             }
            },
            "type": "scatter3d"
           }
          ],
          "scattercarpet": [
           {
            "marker": {
             "colorbar": {
              "outlinewidth": 0,
              "ticks": ""
             }
            },
            "type": "scattercarpet"
           }
          ],
          "scattergeo": [
           {
            "marker": {
             "colorbar": {
              "outlinewidth": 0,
              "ticks": ""
             }
            },
            "type": "scattergeo"
           }
          ],
          "scattergl": [
           {
            "marker": {
             "colorbar": {
              "outlinewidth": 0,
              "ticks": ""
             }
            },
            "type": "scattergl"
           }
          ],
          "scattermapbox": [
           {
            "marker": {
             "colorbar": {
              "outlinewidth": 0,
              "ticks": ""
             }
            },
            "type": "scattermapbox"
           }
          ],
          "scatterpolar": [
           {
            "marker": {
             "colorbar": {
              "outlinewidth": 0,
              "ticks": ""
             }
            },
            "type": "scatterpolar"
           }
          ],
          "scatterpolargl": [
           {
            "marker": {
             "colorbar": {
              "outlinewidth": 0,
              "ticks": ""
             }
            },
            "type": "scatterpolargl"
           }
          ],
          "scatterternary": [
           {
            "marker": {
             "colorbar": {
              "outlinewidth": 0,
              "ticks": ""
             }
            },
            "type": "scatterternary"
           }
          ],
          "surface": [
           {
            "colorbar": {
             "outlinewidth": 0,
             "ticks": ""
            },
            "colorscale": [
             [
              0,
              "#0d0887"
             ],
             [
              0.1111111111111111,
              "#46039f"
             ],
             [
              0.2222222222222222,
              "#7201a8"
             ],
             [
              0.3333333333333333,
              "#9c179e"
             ],
             [
              0.4444444444444444,
              "#bd3786"
             ],
             [
              0.5555555555555556,
              "#d8576b"
             ],
             [
              0.6666666666666666,
              "#ed7953"
             ],
             [
              0.7777777777777778,
              "#fb9f3a"
             ],
             [
              0.8888888888888888,
              "#fdca26"
             ],
             [
              1,
              "#f0f921"
             ]
            ],
            "type": "surface"
           }
          ],
          "table": [
           {
            "cells": {
             "fill": {
              "color": "#EBF0F8"
             },
             "line": {
              "color": "white"
             }
            },
            "header": {
             "fill": {
              "color": "#C8D4E3"
             },
             "line": {
              "color": "white"
             }
            },
            "type": "table"
           }
          ]
         },
         "layout": {
          "annotationdefaults": {
           "arrowcolor": "#2a3f5f",
           "arrowhead": 0,
           "arrowwidth": 1
          },
          "coloraxis": {
           "colorbar": {
            "outlinewidth": 0,
            "ticks": ""
           }
          },
          "colorscale": {
           "diverging": [
            [
             0,
             "#8e0152"
            ],
            [
             0.1,
             "#c51b7d"
            ],
            [
             0.2,
             "#de77ae"
            ],
            [
             0.3,
             "#f1b6da"
            ],
            [
             0.4,
             "#fde0ef"
            ],
            [
             0.5,
             "#f7f7f7"
            ],
            [
             0.6,
             "#e6f5d0"
            ],
            [
             0.7,
             "#b8e186"
            ],
            [
             0.8,
             "#7fbc41"
            ],
            [
             0.9,
             "#4d9221"
            ],
            [
             1,
             "#276419"
            ]
           ],
           "sequential": [
            [
             0,
             "#0d0887"
            ],
            [
             0.1111111111111111,
             "#46039f"
            ],
            [
             0.2222222222222222,
             "#7201a8"
            ],
            [
             0.3333333333333333,
             "#9c179e"
            ],
            [
             0.4444444444444444,
             "#bd3786"
            ],
            [
             0.5555555555555556,
             "#d8576b"
            ],
            [
             0.6666666666666666,
             "#ed7953"
            ],
            [
             0.7777777777777778,
             "#fb9f3a"
            ],
            [
             0.8888888888888888,
             "#fdca26"
            ],
            [
             1,
             "#f0f921"
            ]
           ],
           "sequentialminus": [
            [
             0,
             "#0d0887"
            ],
            [
             0.1111111111111111,
             "#46039f"
            ],
            [
             0.2222222222222222,
             "#7201a8"
            ],
            [
             0.3333333333333333,
             "#9c179e"
            ],
            [
             0.4444444444444444,
             "#bd3786"
            ],
            [
             0.5555555555555556,
             "#d8576b"
            ],
            [
             0.6666666666666666,
             "#ed7953"
            ],
            [
             0.7777777777777778,
             "#fb9f3a"
            ],
            [
             0.8888888888888888,
             "#fdca26"
            ],
            [
             1,
             "#f0f921"
            ]
           ]
          },
          "colorway": [
           "#636efa",
           "#EF553B",
           "#00cc96",
           "#ab63fa",
           "#FFA15A",
           "#19d3f3",
           "#FF6692",
           "#B6E880",
           "#FF97FF",
           "#FECB52"
          ],
          "font": {
           "color": "#2a3f5f"
          },
          "geo": {
           "bgcolor": "white",
           "lakecolor": "white",
           "landcolor": "#E5ECF6",
           "showlakes": true,
           "showland": true,
           "subunitcolor": "white"
          },
          "hoverlabel": {
           "align": "left"
          },
          "hovermode": "closest",
          "mapbox": {
           "style": "light"
          },
          "paper_bgcolor": "white",
          "plot_bgcolor": "#E5ECF6",
          "polar": {
           "angularaxis": {
            "gridcolor": "white",
            "linecolor": "white",
            "ticks": ""
           },
           "bgcolor": "#E5ECF6",
           "radialaxis": {
            "gridcolor": "white",
            "linecolor": "white",
            "ticks": ""
           }
          },
          "scene": {
           "xaxis": {
            "backgroundcolor": "#E5ECF6",
            "gridcolor": "white",
            "gridwidth": 2,
            "linecolor": "white",
            "showbackground": true,
            "ticks": "",
            "zerolinecolor": "white"
           },
           "yaxis": {
            "backgroundcolor": "#E5ECF6",
            "gridcolor": "white",
            "gridwidth": 2,
            "linecolor": "white",
            "showbackground": true,
            "ticks": "",
            "zerolinecolor": "white"
           },
           "zaxis": {
            "backgroundcolor": "#E5ECF6",
            "gridcolor": "white",
            "gridwidth": 2,
            "linecolor": "white",
            "showbackground": true,
            "ticks": "",
            "zerolinecolor": "white"
           }
          },
          "shapedefaults": {
           "line": {
            "color": "#2a3f5f"
           }
          },
          "ternary": {
           "aaxis": {
            "gridcolor": "white",
            "linecolor": "white",
            "ticks": ""
           },
           "baxis": {
            "gridcolor": "white",
            "linecolor": "white",
            "ticks": ""
           },
           "bgcolor": "#E5ECF6",
           "caxis": {
            "gridcolor": "white",
            "linecolor": "white",
            "ticks": ""
           }
          },
          "title": {
           "x": 0.05
          },
          "xaxis": {
           "automargin": true,
           "gridcolor": "white",
           "linecolor": "white",
           "ticks": "",
           "title": {
            "standoff": 15
           },
           "zerolinecolor": "white",
           "zerolinewidth": 2
          },
          "yaxis": {
           "automargin": true,
           "gridcolor": "white",
           "linecolor": "white",
           "ticks": "",
           "title": {
            "standoff": 15
           },
           "zerolinecolor": "white",
           "zerolinewidth": 2
          }
         }
        },
        "title": {
         "text": "Accuracy Rates for 2 Class Pneumonia Classification"
        },
        "xaxis": {
         "title": {
          "text": "Epoch"
         }
        },
        "yaxis": {
         "title": {
          "text": "Accuracy Rate"
         }
        }
       }
      },
      "text/html": [
       "<div>\n",
       "        \n",
       "        \n",
       "            <div id=\"ff5302fe-b15d-411b-b02d-371fd2ed137f\" class=\"plotly-graph-div\" style=\"height:525px; width:100%;\"></div>\n",
       "            <script type=\"text/javascript\">\n",
       "                require([\"plotly\"], function(Plotly) {\n",
       "                    window.PLOTLYENV=window.PLOTLYENV || {};\n",
       "                    \n",
       "                if (document.getElementById(\"ff5302fe-b15d-411b-b02d-371fd2ed137f\")) {\n",
       "                    Plotly.newPlot(\n",
       "                        'ff5302fe-b15d-411b-b02d-371fd2ed137f',\n",
       "                        [{\"mode\": \"lines+markers\", \"name\": \"Training\", \"type\": \"scatter\", \"x\": [0, 1, 2, 3, 4, 5, 6, 7, 8, 9, 10, 11, 12, 13, 14, 15, 16, 17, 18, 19, 20, 21, 22, 23, 24, 25, 26, 27, 28, 29, 30, 31, 32, 33, 34, 35, 36, 37, 38, 39, 40, 41, 42, 43, 44, 45, 46, 47, 48, 49], \"y\": [92.8680981595092, 95.49463190184049, 95.68634969325153, 96.64493865030674, 97.45015337423312, 97.62269938650307, 96.97085889570552, 97.85276073619632, 98.33205521472392, 98.37039877300613, 98.44708588957056, 99.15644171779141, 98.00613496932516, 98.37039877300613, 99.61656441717791, 99.63573619631902, 99.5782208588957, 99.63573619631902, 99.61656441717791, 99.079754601227, 99.75076687116564, 99.5398773006135, 99.76993865030674, 99.69325153374233, 99.94248466257669, 99.76993865030674, 99.46319018404908, 99.82745398773007, 99.96165644171779, 99.82745398773007, 99.96165644171779, 100.0, 99.5207055214724, 99.9808282208589, 99.90414110429448, 99.92331288343559, 99.9808282208589, 99.9808282208589, 100.0, 99.9808282208589, 100.0, 99.96165644171779, 99.9808282208589, 99.96165644171779, 99.82745398773007, 100.0, 99.96165644171779, 99.9808282208589, 100.0, 99.9808282208589]}, {\"mode\": \"lines+markers\", \"name\": \"Testing\", \"type\": \"scatter\", \"x\": [0, 1, 2, 3, 4, 5, 6, 7, 8, 9, 10, 11, 12, 13, 14, 15, 16, 17, 18, 19, 20, 21, 22, 23, 24, 25, 26, 27, 28, 29, 30, 31, 32, 33, 34, 35, 36, 37, 38, 39, 40, 41, 42, 43, 44, 45, 46, 47, 48, 49], \"y\": [80.76923076923077, 81.73076923076923, 73.5576923076923, 75.16025641025641, 76.6025641025641, 78.2051282051282, 74.03846153846153, 81.41025641025641, 74.83974358974359, 74.35897435897436, 74.67948717948718, 76.92307692307692, 81.73076923076923, 83.33333333333333, 76.12179487179488, 75.96153846153847, 76.92307692307692, 77.72435897435898, 73.5576923076923, 80.44871794871794, 76.92307692307692, 74.51923076923077, 76.4423076923077, 79.96794871794872, 78.68589743589743, 78.2051282051282, 73.5576923076923, 78.68589743589743, 75.96153846153847, 75.96153846153847, 79.32692307692308, 77.72435897435898, 77.88461538461539, 78.2051282051282, 77.08333333333333, 76.6025641025641, 80.44871794871794, 76.76282051282051, 80.92948717948718, 77.24358974358974, 79.16666666666667, 80.12820512820512, 80.60897435897436, 77.56410256410257, 74.51923076923077, 75.32051282051282, 77.40384615384616, 72.91666666666667, 76.6025641025641, 73.23717948717949]}],\n",
       "                        {\"template\": {\"data\": {\"bar\": [{\"error_x\": {\"color\": \"#2a3f5f\"}, \"error_y\": {\"color\": \"#2a3f5f\"}, \"marker\": {\"line\": {\"color\": \"#E5ECF6\", \"width\": 0.5}}, \"type\": \"bar\"}], \"barpolar\": [{\"marker\": {\"line\": {\"color\": \"#E5ECF6\", \"width\": 0.5}}, \"type\": \"barpolar\"}], \"carpet\": [{\"aaxis\": {\"endlinecolor\": \"#2a3f5f\", \"gridcolor\": \"white\", \"linecolor\": \"white\", \"minorgridcolor\": \"white\", \"startlinecolor\": \"#2a3f5f\"}, \"baxis\": {\"endlinecolor\": \"#2a3f5f\", \"gridcolor\": \"white\", \"linecolor\": \"white\", \"minorgridcolor\": \"white\", \"startlinecolor\": \"#2a3f5f\"}, \"type\": \"carpet\"}], \"choropleth\": [{\"colorbar\": {\"outlinewidth\": 0, \"ticks\": \"\"}, \"type\": \"choropleth\"}], \"contour\": [{\"colorbar\": {\"outlinewidth\": 0, \"ticks\": \"\"}, \"colorscale\": [[0.0, \"#0d0887\"], [0.1111111111111111, \"#46039f\"], [0.2222222222222222, \"#7201a8\"], [0.3333333333333333, \"#9c179e\"], [0.4444444444444444, \"#bd3786\"], [0.5555555555555556, \"#d8576b\"], [0.6666666666666666, \"#ed7953\"], [0.7777777777777778, \"#fb9f3a\"], [0.8888888888888888, \"#fdca26\"], [1.0, \"#f0f921\"]], \"type\": \"contour\"}], \"contourcarpet\": [{\"colorbar\": {\"outlinewidth\": 0, \"ticks\": \"\"}, \"type\": \"contourcarpet\"}], \"heatmap\": [{\"colorbar\": {\"outlinewidth\": 0, \"ticks\": \"\"}, \"colorscale\": [[0.0, \"#0d0887\"], [0.1111111111111111, \"#46039f\"], [0.2222222222222222, \"#7201a8\"], [0.3333333333333333, \"#9c179e\"], [0.4444444444444444, \"#bd3786\"], [0.5555555555555556, \"#d8576b\"], [0.6666666666666666, \"#ed7953\"], [0.7777777777777778, \"#fb9f3a\"], [0.8888888888888888, \"#fdca26\"], [1.0, \"#f0f921\"]], \"type\": \"heatmap\"}], \"heatmapgl\": [{\"colorbar\": {\"outlinewidth\": 0, \"ticks\": \"\"}, \"colorscale\": [[0.0, \"#0d0887\"], [0.1111111111111111, \"#46039f\"], [0.2222222222222222, \"#7201a8\"], [0.3333333333333333, \"#9c179e\"], [0.4444444444444444, \"#bd3786\"], [0.5555555555555556, \"#d8576b\"], [0.6666666666666666, \"#ed7953\"], [0.7777777777777778, \"#fb9f3a\"], [0.8888888888888888, \"#fdca26\"], [1.0, \"#f0f921\"]], \"type\": \"heatmapgl\"}], \"histogram\": [{\"marker\": {\"colorbar\": {\"outlinewidth\": 0, \"ticks\": \"\"}}, \"type\": \"histogram\"}], \"histogram2d\": [{\"colorbar\": {\"outlinewidth\": 0, \"ticks\": \"\"}, \"colorscale\": [[0.0, \"#0d0887\"], [0.1111111111111111, \"#46039f\"], [0.2222222222222222, \"#7201a8\"], [0.3333333333333333, \"#9c179e\"], [0.4444444444444444, \"#bd3786\"], [0.5555555555555556, \"#d8576b\"], [0.6666666666666666, \"#ed7953\"], [0.7777777777777778, \"#fb9f3a\"], [0.8888888888888888, \"#fdca26\"], [1.0, \"#f0f921\"]], \"type\": \"histogram2d\"}], \"histogram2dcontour\": [{\"colorbar\": {\"outlinewidth\": 0, \"ticks\": \"\"}, \"colorscale\": [[0.0, \"#0d0887\"], [0.1111111111111111, \"#46039f\"], [0.2222222222222222, \"#7201a8\"], [0.3333333333333333, \"#9c179e\"], [0.4444444444444444, \"#bd3786\"], [0.5555555555555556, \"#d8576b\"], [0.6666666666666666, \"#ed7953\"], [0.7777777777777778, \"#fb9f3a\"], [0.8888888888888888, \"#fdca26\"], [1.0, \"#f0f921\"]], \"type\": \"histogram2dcontour\"}], \"mesh3d\": [{\"colorbar\": {\"outlinewidth\": 0, \"ticks\": \"\"}, \"type\": \"mesh3d\"}], \"parcoords\": [{\"line\": {\"colorbar\": {\"outlinewidth\": 0, \"ticks\": \"\"}}, \"type\": \"parcoords\"}], \"pie\": [{\"automargin\": true, \"type\": \"pie\"}], \"scatter\": [{\"marker\": {\"colorbar\": {\"outlinewidth\": 0, \"ticks\": \"\"}}, \"type\": \"scatter\"}], \"scatter3d\": [{\"line\": {\"colorbar\": {\"outlinewidth\": 0, \"ticks\": \"\"}}, \"marker\": {\"colorbar\": {\"outlinewidth\": 0, \"ticks\": \"\"}}, \"type\": \"scatter3d\"}], \"scattercarpet\": [{\"marker\": {\"colorbar\": {\"outlinewidth\": 0, \"ticks\": \"\"}}, \"type\": \"scattercarpet\"}], \"scattergeo\": [{\"marker\": {\"colorbar\": {\"outlinewidth\": 0, \"ticks\": \"\"}}, \"type\": \"scattergeo\"}], \"scattergl\": [{\"marker\": {\"colorbar\": {\"outlinewidth\": 0, \"ticks\": \"\"}}, \"type\": \"scattergl\"}], \"scattermapbox\": [{\"marker\": {\"colorbar\": {\"outlinewidth\": 0, \"ticks\": \"\"}}, \"type\": \"scattermapbox\"}], \"scatterpolar\": [{\"marker\": {\"colorbar\": {\"outlinewidth\": 0, \"ticks\": \"\"}}, \"type\": \"scatterpolar\"}], \"scatterpolargl\": [{\"marker\": {\"colorbar\": {\"outlinewidth\": 0, \"ticks\": \"\"}}, \"type\": \"scatterpolargl\"}], \"scatterternary\": [{\"marker\": {\"colorbar\": {\"outlinewidth\": 0, \"ticks\": \"\"}}, \"type\": \"scatterternary\"}], \"surface\": [{\"colorbar\": {\"outlinewidth\": 0, \"ticks\": \"\"}, \"colorscale\": [[0.0, \"#0d0887\"], [0.1111111111111111, \"#46039f\"], [0.2222222222222222, \"#7201a8\"], [0.3333333333333333, \"#9c179e\"], [0.4444444444444444, \"#bd3786\"], [0.5555555555555556, \"#d8576b\"], [0.6666666666666666, \"#ed7953\"], [0.7777777777777778, \"#fb9f3a\"], [0.8888888888888888, \"#fdca26\"], [1.0, \"#f0f921\"]], \"type\": \"surface\"}], \"table\": [{\"cells\": {\"fill\": {\"color\": \"#EBF0F8\"}, \"line\": {\"color\": \"white\"}}, \"header\": {\"fill\": {\"color\": \"#C8D4E3\"}, \"line\": {\"color\": \"white\"}}, \"type\": \"table\"}]}, \"layout\": {\"annotationdefaults\": {\"arrowcolor\": \"#2a3f5f\", \"arrowhead\": 0, \"arrowwidth\": 1}, \"coloraxis\": {\"colorbar\": {\"outlinewidth\": 0, \"ticks\": \"\"}}, \"colorscale\": {\"diverging\": [[0, \"#8e0152\"], [0.1, \"#c51b7d\"], [0.2, \"#de77ae\"], [0.3, \"#f1b6da\"], [0.4, \"#fde0ef\"], [0.5, \"#f7f7f7\"], [0.6, \"#e6f5d0\"], [0.7, \"#b8e186\"], [0.8, \"#7fbc41\"], [0.9, \"#4d9221\"], [1, \"#276419\"]], \"sequential\": [[0.0, \"#0d0887\"], [0.1111111111111111, \"#46039f\"], [0.2222222222222222, \"#7201a8\"], [0.3333333333333333, \"#9c179e\"], [0.4444444444444444, \"#bd3786\"], [0.5555555555555556, \"#d8576b\"], [0.6666666666666666, \"#ed7953\"], [0.7777777777777778, \"#fb9f3a\"], [0.8888888888888888, \"#fdca26\"], [1.0, \"#f0f921\"]], \"sequentialminus\": [[0.0, \"#0d0887\"], [0.1111111111111111, \"#46039f\"], [0.2222222222222222, \"#7201a8\"], [0.3333333333333333, \"#9c179e\"], [0.4444444444444444, \"#bd3786\"], [0.5555555555555556, \"#d8576b\"], [0.6666666666666666, \"#ed7953\"], [0.7777777777777778, \"#fb9f3a\"], [0.8888888888888888, \"#fdca26\"], [1.0, \"#f0f921\"]]}, \"colorway\": [\"#636efa\", \"#EF553B\", \"#00cc96\", \"#ab63fa\", \"#FFA15A\", \"#19d3f3\", \"#FF6692\", \"#B6E880\", \"#FF97FF\", \"#FECB52\"], \"font\": {\"color\": \"#2a3f5f\"}, \"geo\": {\"bgcolor\": \"white\", \"lakecolor\": \"white\", \"landcolor\": \"#E5ECF6\", \"showlakes\": true, \"showland\": true, \"subunitcolor\": \"white\"}, \"hoverlabel\": {\"align\": \"left\"}, \"hovermode\": \"closest\", \"mapbox\": {\"style\": \"light\"}, \"paper_bgcolor\": \"white\", \"plot_bgcolor\": \"#E5ECF6\", \"polar\": {\"angularaxis\": {\"gridcolor\": \"white\", \"linecolor\": \"white\", \"ticks\": \"\"}, \"bgcolor\": \"#E5ECF6\", \"radialaxis\": {\"gridcolor\": \"white\", \"linecolor\": \"white\", \"ticks\": \"\"}}, \"scene\": {\"xaxis\": {\"backgroundcolor\": \"#E5ECF6\", \"gridcolor\": \"white\", \"gridwidth\": 2, \"linecolor\": \"white\", \"showbackground\": true, \"ticks\": \"\", \"zerolinecolor\": \"white\"}, \"yaxis\": {\"backgroundcolor\": \"#E5ECF6\", \"gridcolor\": \"white\", \"gridwidth\": 2, \"linecolor\": \"white\", \"showbackground\": true, \"ticks\": \"\", \"zerolinecolor\": \"white\"}, \"zaxis\": {\"backgroundcolor\": \"#E5ECF6\", \"gridcolor\": \"white\", \"gridwidth\": 2, \"linecolor\": \"white\", \"showbackground\": true, \"ticks\": \"\", \"zerolinecolor\": \"white\"}}, \"shapedefaults\": {\"line\": {\"color\": \"#2a3f5f\"}}, \"ternary\": {\"aaxis\": {\"gridcolor\": \"white\", \"linecolor\": \"white\", \"ticks\": \"\"}, \"baxis\": {\"gridcolor\": \"white\", \"linecolor\": \"white\", \"ticks\": \"\"}, \"bgcolor\": \"#E5ECF6\", \"caxis\": {\"gridcolor\": \"white\", \"linecolor\": \"white\", \"ticks\": \"\"}}, \"title\": {\"x\": 0.05}, \"xaxis\": {\"automargin\": true, \"gridcolor\": \"white\", \"linecolor\": \"white\", \"ticks\": \"\", \"title\": {\"standoff\": 15}, \"zerolinecolor\": \"white\", \"zerolinewidth\": 2}, \"yaxis\": {\"automargin\": true, \"gridcolor\": \"white\", \"linecolor\": \"white\", \"ticks\": \"\", \"title\": {\"standoff\": 15}, \"zerolinecolor\": \"white\", \"zerolinewidth\": 2}}}, \"title\": {\"text\": \"Accuracy Rates for 2 Class Pneumonia Classification\"}, \"xaxis\": {\"title\": {\"text\": \"Epoch\"}}, \"yaxis\": {\"title\": {\"text\": \"Accuracy Rate\"}}},\n",
       "                        {\"responsive\": true}\n",
       "                    ).then(function(){\n",
       "                            \n",
       "var gd = document.getElementById('ff5302fe-b15d-411b-b02d-371fd2ed137f');\n",
       "var x = new MutationObserver(function (mutations, observer) {{\n",
       "        var display = window.getComputedStyle(gd).display;\n",
       "        if (!display || display === 'none') {{\n",
       "            console.log([gd, 'removed!']);\n",
       "            Plotly.purge(gd);\n",
       "            observer.disconnect();\n",
       "        }}\n",
       "}});\n",
       "\n",
       "// Listen for the removal of the full notebook cells\n",
       "var notebookContainer = gd.closest('#notebook-container');\n",
       "if (notebookContainer) {{\n",
       "    x.observe(notebookContainer, {childList: true});\n",
       "}}\n",
       "\n",
       "// Listen for the clearing of the current output cell\n",
       "var outputEl = gd.closest('.output');\n",
       "if (outputEl) {{\n",
       "    x.observe(outputEl, {childList: true});\n",
       "}}\n",
       "\n",
       "                        })\n",
       "                };\n",
       "                });\n",
       "            </script>\n",
       "        </div>"
      ]
     },
     "metadata": {},
     "output_type": "display_data"
    },
    {
     "data": {
      "application/vnd.plotly.v1+json": {
       "config": {
        "plotlyServerURL": "https://plot.ly"
       },
       "data": [
        {
         "mode": "lines+markers",
         "name": "Training",
         "type": "scatter",
         "x": [
          0,
          1,
          2,
          3,
          4,
          5,
          6,
          7,
          8,
          9,
          10,
          11,
          12,
          13,
          14,
          15,
          16,
          17,
          18,
          19,
          20,
          21,
          22,
          23,
          24,
          25,
          26,
          27,
          28,
          29,
          30,
          31,
          32,
          33,
          34,
          35,
          36,
          37,
          38,
          39,
          40,
          41,
          42,
          43,
          44,
          45,
          46,
          47,
          48,
          49
         ],
         "y": [
          65.93174846625767,
          75.78604294478528,
          78.22085889570552,
          79.12193251533742,
          79.25613496932516,
          77.91411042944786,
          79.96549079754601,
          80.94325153374233,
          81.28834355828221,
          76.57208588957056,
          81.6909509202454,
          82.87960122699387,
          84.75843558282209,
          85.41027607361963,
          84.68174846625767,
          86.80981595092024,
          85.75536809815951,
          86.1579754601227,
          88.3627300613497,
          89.68558282208589,
          89.97315950920246,
          91.12346625766871,
          92.65720858895706,
          91.0659509202454,
          93.05981595092024,
          93.61579754601227,
          95.68634969325153,
          95.91641104294479,
          94.09509202453988,
          96.28067484662577,
          96.16564417177914,
          97.7760736196319,
          96.54907975460122,
          97.46932515337423,
          98.75383435582822,
          98.40874233128834,
          98.6579754601227,
          97.56518404907976,
          99.38650306748467,
          97.3159509202454,
          99.15644171779141,
          99.30981595092024,
          99.36733128834356,
          99.61656441717791,
          99.5207055214724,
          99.73159509202453,
          99.76993865030674,
          99.90414110429448,
          99.80828220858896,
          99.5398773006135
         ]
        },
        {
         "mode": "lines+markers",
         "name": "Testing",
         "type": "scatter",
         "x": [
          0,
          1,
          2,
          3,
          4,
          5,
          6,
          7,
          8,
          9,
          10,
          11,
          12,
          13,
          14,
          15,
          16,
          17,
          18,
          19,
          20,
          21,
          22,
          23,
          24,
          25,
          26,
          27,
          28,
          29,
          30,
          31,
          32,
          33,
          34,
          35,
          36,
          37,
          38,
          39,
          40,
          41,
          42,
          43,
          44,
          45,
          46,
          47,
          48,
          49
         ],
         "y": [
          74.35897435897436,
          69.39102564102564,
          72.27564102564102,
          67.46794871794872,
          67.46794871794872,
          61.53846153846154,
          74.19871794871794,
          67.78846153846153,
          66.34615384615384,
          56.57051282051282,
          67.78846153846153,
          72.91666666666667,
          68.91025641025641,
          67.94871794871794,
          64.90384615384616,
          65.38461538461539,
          73.5576923076923,
          67.94871794871794,
          66.18589743589743,
          70.99358974358974,
          66.02564102564102,
          64.42307692307692,
          65.38461538461539,
          63.30128205128205,
          68.91025641025641,
          64.42307692307692,
          64.74358974358974,
          64.90384615384616,
          60.8974358974359,
          62.01923076923077,
          70.3525641025641,
          61.85897435897436,
          62.33974358974359,
          65.5448717948718,
          67.62820512820512,
          65.86538461538461,
          68.26923076923077,
          67.78846153846153,
          64.90384615384616,
          66.66666666666667,
          65.7051282051282,
          63.782051282051285,
          66.34615384615384,
          68.91025641025641,
          70.67307692307692,
          67.1474358974359,
          69.55128205128206,
          70.83333333333333,
          65.5448717948718,
          66.82692307692308
         ]
        }
       ],
       "layout": {
        "template": {
         "data": {
          "bar": [
           {
            "error_x": {
             "color": "#2a3f5f"
            },
            "error_y": {
             "color": "#2a3f5f"
            },
            "marker": {
             "line": {
              "color": "#E5ECF6",
              "width": 0.5
             }
            },
            "type": "bar"
           }
          ],
          "barpolar": [
           {
            "marker": {
             "line": {
              "color": "#E5ECF6",
              "width": 0.5
             }
            },
            "type": "barpolar"
           }
          ],
          "carpet": [
           {
            "aaxis": {
             "endlinecolor": "#2a3f5f",
             "gridcolor": "white",
             "linecolor": "white",
             "minorgridcolor": "white",
             "startlinecolor": "#2a3f5f"
            },
            "baxis": {
             "endlinecolor": "#2a3f5f",
             "gridcolor": "white",
             "linecolor": "white",
             "minorgridcolor": "white",
             "startlinecolor": "#2a3f5f"
            },
            "type": "carpet"
           }
          ],
          "choropleth": [
           {
            "colorbar": {
             "outlinewidth": 0,
             "ticks": ""
            },
            "type": "choropleth"
           }
          ],
          "contour": [
           {
            "colorbar": {
             "outlinewidth": 0,
             "ticks": ""
            },
            "colorscale": [
             [
              0,
              "#0d0887"
             ],
             [
              0.1111111111111111,
              "#46039f"
             ],
             [
              0.2222222222222222,
              "#7201a8"
             ],
             [
              0.3333333333333333,
              "#9c179e"
             ],
             [
              0.4444444444444444,
              "#bd3786"
             ],
             [
              0.5555555555555556,
              "#d8576b"
             ],
             [
              0.6666666666666666,
              "#ed7953"
             ],
             [
              0.7777777777777778,
              "#fb9f3a"
             ],
             [
              0.8888888888888888,
              "#fdca26"
             ],
             [
              1,
              "#f0f921"
             ]
            ],
            "type": "contour"
           }
          ],
          "contourcarpet": [
           {
            "colorbar": {
             "outlinewidth": 0,
             "ticks": ""
            },
            "type": "contourcarpet"
           }
          ],
          "heatmap": [
           {
            "colorbar": {
             "outlinewidth": 0,
             "ticks": ""
            },
            "colorscale": [
             [
              0,
              "#0d0887"
             ],
             [
              0.1111111111111111,
              "#46039f"
             ],
             [
              0.2222222222222222,
              "#7201a8"
             ],
             [
              0.3333333333333333,
              "#9c179e"
             ],
             [
              0.4444444444444444,
              "#bd3786"
             ],
             [
              0.5555555555555556,
              "#d8576b"
             ],
             [
              0.6666666666666666,
              "#ed7953"
             ],
             [
              0.7777777777777778,
              "#fb9f3a"
             ],
             [
              0.8888888888888888,
              "#fdca26"
             ],
             [
              1,
              "#f0f921"
             ]
            ],
            "type": "heatmap"
           }
          ],
          "heatmapgl": [
           {
            "colorbar": {
             "outlinewidth": 0,
             "ticks": ""
            },
            "colorscale": [
             [
              0,
              "#0d0887"
             ],
             [
              0.1111111111111111,
              "#46039f"
             ],
             [
              0.2222222222222222,
              "#7201a8"
             ],
             [
              0.3333333333333333,
              "#9c179e"
             ],
             [
              0.4444444444444444,
              "#bd3786"
             ],
             [
              0.5555555555555556,
              "#d8576b"
             ],
             [
              0.6666666666666666,
              "#ed7953"
             ],
             [
              0.7777777777777778,
              "#fb9f3a"
             ],
             [
              0.8888888888888888,
              "#fdca26"
             ],
             [
              1,
              "#f0f921"
             ]
            ],
            "type": "heatmapgl"
           }
          ],
          "histogram": [
           {
            "marker": {
             "colorbar": {
              "outlinewidth": 0,
              "ticks": ""
             }
            },
            "type": "histogram"
           }
          ],
          "histogram2d": [
           {
            "colorbar": {
             "outlinewidth": 0,
             "ticks": ""
            },
            "colorscale": [
             [
              0,
              "#0d0887"
             ],
             [
              0.1111111111111111,
              "#46039f"
             ],
             [
              0.2222222222222222,
              "#7201a8"
             ],
             [
              0.3333333333333333,
              "#9c179e"
             ],
             [
              0.4444444444444444,
              "#bd3786"
             ],
             [
              0.5555555555555556,
              "#d8576b"
             ],
             [
              0.6666666666666666,
              "#ed7953"
             ],
             [
              0.7777777777777778,
              "#fb9f3a"
             ],
             [
              0.8888888888888888,
              "#fdca26"
             ],
             [
              1,
              "#f0f921"
             ]
            ],
            "type": "histogram2d"
           }
          ],
          "histogram2dcontour": [
           {
            "colorbar": {
             "outlinewidth": 0,
             "ticks": ""
            },
            "colorscale": [
             [
              0,
              "#0d0887"
             ],
             [
              0.1111111111111111,
              "#46039f"
             ],
             [
              0.2222222222222222,
              "#7201a8"
             ],
             [
              0.3333333333333333,
              "#9c179e"
             ],
             [
              0.4444444444444444,
              "#bd3786"
             ],
             [
              0.5555555555555556,
              "#d8576b"
             ],
             [
              0.6666666666666666,
              "#ed7953"
             ],
             [
              0.7777777777777778,
              "#fb9f3a"
             ],
             [
              0.8888888888888888,
              "#fdca26"
             ],
             [
              1,
              "#f0f921"
             ]
            ],
            "type": "histogram2dcontour"
           }
          ],
          "mesh3d": [
           {
            "colorbar": {
             "outlinewidth": 0,
             "ticks": ""
            },
            "type": "mesh3d"
           }
          ],
          "parcoords": [
           {
            "line": {
             "colorbar": {
              "outlinewidth": 0,
              "ticks": ""
             }
            },
            "type": "parcoords"
           }
          ],
          "pie": [
           {
            "automargin": true,
            "type": "pie"
           }
          ],
          "scatter": [
           {
            "marker": {
             "colorbar": {
              "outlinewidth": 0,
              "ticks": ""
             }
            },
            "type": "scatter"
           }
          ],
          "scatter3d": [
           {
            "line": {
             "colorbar": {
              "outlinewidth": 0,
              "ticks": ""
             }
            },
            "marker": {
             "colorbar": {
              "outlinewidth": 0,
              "ticks": ""
             }
            },
            "type": "scatter3d"
           }
          ],
          "scattercarpet": [
           {
            "marker": {
             "colorbar": {
              "outlinewidth": 0,
              "ticks": ""
             }
            },
            "type": "scattercarpet"
           }
          ],
          "scattergeo": [
           {
            "marker": {
             "colorbar": {
              "outlinewidth": 0,
              "ticks": ""
             }
            },
            "type": "scattergeo"
           }
          ],
          "scattergl": [
           {
            "marker": {
             "colorbar": {
              "outlinewidth": 0,
              "ticks": ""
             }
            },
            "type": "scattergl"
           }
          ],
          "scattermapbox": [
           {
            "marker": {
             "colorbar": {
              "outlinewidth": 0,
              "ticks": ""
             }
            },
            "type": "scattermapbox"
           }
          ],
          "scatterpolar": [
           {
            "marker": {
             "colorbar": {
              "outlinewidth": 0,
              "ticks": ""
             }
            },
            "type": "scatterpolar"
           }
          ],
          "scatterpolargl": [
           {
            "marker": {
             "colorbar": {
              "outlinewidth": 0,
              "ticks": ""
             }
            },
            "type": "scatterpolargl"
           }
          ],
          "scatterternary": [
           {
            "marker": {
             "colorbar": {
              "outlinewidth": 0,
              "ticks": ""
             }
            },
            "type": "scatterternary"
           }
          ],
          "surface": [
           {
            "colorbar": {
             "outlinewidth": 0,
             "ticks": ""
            },
            "colorscale": [
             [
              0,
              "#0d0887"
             ],
             [
              0.1111111111111111,
              "#46039f"
             ],
             [
              0.2222222222222222,
              "#7201a8"
             ],
             [
              0.3333333333333333,
              "#9c179e"
             ],
             [
              0.4444444444444444,
              "#bd3786"
             ],
             [
              0.5555555555555556,
              "#d8576b"
             ],
             [
              0.6666666666666666,
              "#ed7953"
             ],
             [
              0.7777777777777778,
              "#fb9f3a"
             ],
             [
              0.8888888888888888,
              "#fdca26"
             ],
             [
              1,
              "#f0f921"
             ]
            ],
            "type": "surface"
           }
          ],
          "table": [
           {
            "cells": {
             "fill": {
              "color": "#EBF0F8"
             },
             "line": {
              "color": "white"
             }
            },
            "header": {
             "fill": {
              "color": "#C8D4E3"
             },
             "line": {
              "color": "white"
             }
            },
            "type": "table"
           }
          ]
         },
         "layout": {
          "annotationdefaults": {
           "arrowcolor": "#2a3f5f",
           "arrowhead": 0,
           "arrowwidth": 1
          },
          "coloraxis": {
           "colorbar": {
            "outlinewidth": 0,
            "ticks": ""
           }
          },
          "colorscale": {
           "diverging": [
            [
             0,
             "#8e0152"
            ],
            [
             0.1,
             "#c51b7d"
            ],
            [
             0.2,
             "#de77ae"
            ],
            [
             0.3,
             "#f1b6da"
            ],
            [
             0.4,
             "#fde0ef"
            ],
            [
             0.5,
             "#f7f7f7"
            ],
            [
             0.6,
             "#e6f5d0"
            ],
            [
             0.7,
             "#b8e186"
            ],
            [
             0.8,
             "#7fbc41"
            ],
            [
             0.9,
             "#4d9221"
            ],
            [
             1,
             "#276419"
            ]
           ],
           "sequential": [
            [
             0,
             "#0d0887"
            ],
            [
             0.1111111111111111,
             "#46039f"
            ],
            [
             0.2222222222222222,
             "#7201a8"
            ],
            [
             0.3333333333333333,
             "#9c179e"
            ],
            [
             0.4444444444444444,
             "#bd3786"
            ],
            [
             0.5555555555555556,
             "#d8576b"
            ],
            [
             0.6666666666666666,
             "#ed7953"
            ],
            [
             0.7777777777777778,
             "#fb9f3a"
            ],
            [
             0.8888888888888888,
             "#fdca26"
            ],
            [
             1,
             "#f0f921"
            ]
           ],
           "sequentialminus": [
            [
             0,
             "#0d0887"
            ],
            [
             0.1111111111111111,
             "#46039f"
            ],
            [
             0.2222222222222222,
             "#7201a8"
            ],
            [
             0.3333333333333333,
             "#9c179e"
            ],
            [
             0.4444444444444444,
             "#bd3786"
            ],
            [
             0.5555555555555556,
             "#d8576b"
            ],
            [
             0.6666666666666666,
             "#ed7953"
            ],
            [
             0.7777777777777778,
             "#fb9f3a"
            ],
            [
             0.8888888888888888,
             "#fdca26"
            ],
            [
             1,
             "#f0f921"
            ]
           ]
          },
          "colorway": [
           "#636efa",
           "#EF553B",
           "#00cc96",
           "#ab63fa",
           "#FFA15A",
           "#19d3f3",
           "#FF6692",
           "#B6E880",
           "#FF97FF",
           "#FECB52"
          ],
          "font": {
           "color": "#2a3f5f"
          },
          "geo": {
           "bgcolor": "white",
           "lakecolor": "white",
           "landcolor": "#E5ECF6",
           "showlakes": true,
           "showland": true,
           "subunitcolor": "white"
          },
          "hoverlabel": {
           "align": "left"
          },
          "hovermode": "closest",
          "mapbox": {
           "style": "light"
          },
          "paper_bgcolor": "white",
          "plot_bgcolor": "#E5ECF6",
          "polar": {
           "angularaxis": {
            "gridcolor": "white",
            "linecolor": "white",
            "ticks": ""
           },
           "bgcolor": "#E5ECF6",
           "radialaxis": {
            "gridcolor": "white",
            "linecolor": "white",
            "ticks": ""
           }
          },
          "scene": {
           "xaxis": {
            "backgroundcolor": "#E5ECF6",
            "gridcolor": "white",
            "gridwidth": 2,
            "linecolor": "white",
            "showbackground": true,
            "ticks": "",
            "zerolinecolor": "white"
           },
           "yaxis": {
            "backgroundcolor": "#E5ECF6",
            "gridcolor": "white",
            "gridwidth": 2,
            "linecolor": "white",
            "showbackground": true,
            "ticks": "",
            "zerolinecolor": "white"
           },
           "zaxis": {
            "backgroundcolor": "#E5ECF6",
            "gridcolor": "white",
            "gridwidth": 2,
            "linecolor": "white",
            "showbackground": true,
            "ticks": "",
            "zerolinecolor": "white"
           }
          },
          "shapedefaults": {
           "line": {
            "color": "#2a3f5f"
           }
          },
          "ternary": {
           "aaxis": {
            "gridcolor": "white",
            "linecolor": "white",
            "ticks": ""
           },
           "baxis": {
            "gridcolor": "white",
            "linecolor": "white",
            "ticks": ""
           },
           "bgcolor": "#E5ECF6",
           "caxis": {
            "gridcolor": "white",
            "linecolor": "white",
            "ticks": ""
           }
          },
          "title": {
           "x": 0.05
          },
          "xaxis": {
           "automargin": true,
           "gridcolor": "white",
           "linecolor": "white",
           "ticks": "",
           "title": {
            "standoff": 15
           },
           "zerolinecolor": "white",
           "zerolinewidth": 2
          },
          "yaxis": {
           "automargin": true,
           "gridcolor": "white",
           "linecolor": "white",
           "ticks": "",
           "title": {
            "standoff": 15
           },
           "zerolinecolor": "white",
           "zerolinewidth": 2
          }
         }
        },
        "title": {
         "text": "Accuracy Rates for 3 Class Pneumonia Classification"
        },
        "xaxis": {
         "title": {
          "text": "Epoch"
         }
        },
        "yaxis": {
         "title": {
          "text": "Accuracy Rate"
         }
        }
       }
      },
      "text/html": [
       "<div>\n",
       "        \n",
       "        \n",
       "            <div id=\"a787bd76-8b1c-4e9f-b18a-8721665baff9\" class=\"plotly-graph-div\" style=\"height:525px; width:100%;\"></div>\n",
       "            <script type=\"text/javascript\">\n",
       "                require([\"plotly\"], function(Plotly) {\n",
       "                    window.PLOTLYENV=window.PLOTLYENV || {};\n",
       "                    \n",
       "                if (document.getElementById(\"a787bd76-8b1c-4e9f-b18a-8721665baff9\")) {\n",
       "                    Plotly.newPlot(\n",
       "                        'a787bd76-8b1c-4e9f-b18a-8721665baff9',\n",
       "                        [{\"mode\": \"lines+markers\", \"name\": \"Training\", \"type\": \"scatter\", \"x\": [0, 1, 2, 3, 4, 5, 6, 7, 8, 9, 10, 11, 12, 13, 14, 15, 16, 17, 18, 19, 20, 21, 22, 23, 24, 25, 26, 27, 28, 29, 30, 31, 32, 33, 34, 35, 36, 37, 38, 39, 40, 41, 42, 43, 44, 45, 46, 47, 48, 49], \"y\": [65.93174846625767, 75.78604294478528, 78.22085889570552, 79.12193251533742, 79.25613496932516, 77.91411042944786, 79.96549079754601, 80.94325153374233, 81.28834355828221, 76.57208588957056, 81.6909509202454, 82.87960122699387, 84.75843558282209, 85.41027607361963, 84.68174846625767, 86.80981595092024, 85.75536809815951, 86.1579754601227, 88.3627300613497, 89.68558282208589, 89.97315950920246, 91.12346625766871, 92.65720858895706, 91.0659509202454, 93.05981595092024, 93.61579754601227, 95.68634969325153, 95.91641104294479, 94.09509202453988, 96.28067484662577, 96.16564417177914, 97.7760736196319, 96.54907975460122, 97.46932515337423, 98.75383435582822, 98.40874233128834, 98.6579754601227, 97.56518404907976, 99.38650306748467, 97.3159509202454, 99.15644171779141, 99.30981595092024, 99.36733128834356, 99.61656441717791, 99.5207055214724, 99.73159509202453, 99.76993865030674, 99.90414110429448, 99.80828220858896, 99.5398773006135]}, {\"mode\": \"lines+markers\", \"name\": \"Testing\", \"type\": \"scatter\", \"x\": [0, 1, 2, 3, 4, 5, 6, 7, 8, 9, 10, 11, 12, 13, 14, 15, 16, 17, 18, 19, 20, 21, 22, 23, 24, 25, 26, 27, 28, 29, 30, 31, 32, 33, 34, 35, 36, 37, 38, 39, 40, 41, 42, 43, 44, 45, 46, 47, 48, 49], \"y\": [74.35897435897436, 69.39102564102564, 72.27564102564102, 67.46794871794872, 67.46794871794872, 61.53846153846154, 74.19871794871794, 67.78846153846153, 66.34615384615384, 56.57051282051282, 67.78846153846153, 72.91666666666667, 68.91025641025641, 67.94871794871794, 64.90384615384616, 65.38461538461539, 73.5576923076923, 67.94871794871794, 66.18589743589743, 70.99358974358974, 66.02564102564102, 64.42307692307692, 65.38461538461539, 63.30128205128205, 68.91025641025641, 64.42307692307692, 64.74358974358974, 64.90384615384616, 60.8974358974359, 62.01923076923077, 70.3525641025641, 61.85897435897436, 62.33974358974359, 65.5448717948718, 67.62820512820512, 65.86538461538461, 68.26923076923077, 67.78846153846153, 64.90384615384616, 66.66666666666667, 65.7051282051282, 63.782051282051285, 66.34615384615384, 68.91025641025641, 70.67307692307692, 67.1474358974359, 69.55128205128206, 70.83333333333333, 65.5448717948718, 66.82692307692308]}],\n",
       "                        {\"template\": {\"data\": {\"bar\": [{\"error_x\": {\"color\": \"#2a3f5f\"}, \"error_y\": {\"color\": \"#2a3f5f\"}, \"marker\": {\"line\": {\"color\": \"#E5ECF6\", \"width\": 0.5}}, \"type\": \"bar\"}], \"barpolar\": [{\"marker\": {\"line\": {\"color\": \"#E5ECF6\", \"width\": 0.5}}, \"type\": \"barpolar\"}], \"carpet\": [{\"aaxis\": {\"endlinecolor\": \"#2a3f5f\", \"gridcolor\": \"white\", \"linecolor\": \"white\", \"minorgridcolor\": \"white\", \"startlinecolor\": \"#2a3f5f\"}, \"baxis\": {\"endlinecolor\": \"#2a3f5f\", \"gridcolor\": \"white\", \"linecolor\": \"white\", \"minorgridcolor\": \"white\", \"startlinecolor\": \"#2a3f5f\"}, \"type\": \"carpet\"}], \"choropleth\": [{\"colorbar\": {\"outlinewidth\": 0, \"ticks\": \"\"}, \"type\": \"choropleth\"}], \"contour\": [{\"colorbar\": {\"outlinewidth\": 0, \"ticks\": \"\"}, \"colorscale\": [[0.0, \"#0d0887\"], [0.1111111111111111, \"#46039f\"], [0.2222222222222222, \"#7201a8\"], [0.3333333333333333, \"#9c179e\"], [0.4444444444444444, \"#bd3786\"], [0.5555555555555556, \"#d8576b\"], [0.6666666666666666, \"#ed7953\"], [0.7777777777777778, \"#fb9f3a\"], [0.8888888888888888, \"#fdca26\"], [1.0, \"#f0f921\"]], \"type\": \"contour\"}], \"contourcarpet\": [{\"colorbar\": {\"outlinewidth\": 0, \"ticks\": \"\"}, \"type\": \"contourcarpet\"}], \"heatmap\": [{\"colorbar\": {\"outlinewidth\": 0, \"ticks\": \"\"}, \"colorscale\": [[0.0, \"#0d0887\"], [0.1111111111111111, \"#46039f\"], [0.2222222222222222, \"#7201a8\"], [0.3333333333333333, \"#9c179e\"], [0.4444444444444444, \"#bd3786\"], [0.5555555555555556, \"#d8576b\"], [0.6666666666666666, \"#ed7953\"], [0.7777777777777778, \"#fb9f3a\"], [0.8888888888888888, \"#fdca26\"], [1.0, \"#f0f921\"]], \"type\": \"heatmap\"}], \"heatmapgl\": [{\"colorbar\": {\"outlinewidth\": 0, \"ticks\": \"\"}, \"colorscale\": [[0.0, \"#0d0887\"], [0.1111111111111111, \"#46039f\"], [0.2222222222222222, \"#7201a8\"], [0.3333333333333333, \"#9c179e\"], [0.4444444444444444, \"#bd3786\"], [0.5555555555555556, \"#d8576b\"], [0.6666666666666666, \"#ed7953\"], [0.7777777777777778, \"#fb9f3a\"], [0.8888888888888888, \"#fdca26\"], [1.0, \"#f0f921\"]], \"type\": \"heatmapgl\"}], \"histogram\": [{\"marker\": {\"colorbar\": {\"outlinewidth\": 0, \"ticks\": \"\"}}, \"type\": \"histogram\"}], \"histogram2d\": [{\"colorbar\": {\"outlinewidth\": 0, \"ticks\": \"\"}, \"colorscale\": [[0.0, \"#0d0887\"], [0.1111111111111111, \"#46039f\"], [0.2222222222222222, \"#7201a8\"], [0.3333333333333333, \"#9c179e\"], [0.4444444444444444, \"#bd3786\"], [0.5555555555555556, \"#d8576b\"], [0.6666666666666666, \"#ed7953\"], [0.7777777777777778, \"#fb9f3a\"], [0.8888888888888888, \"#fdca26\"], [1.0, \"#f0f921\"]], \"type\": \"histogram2d\"}], \"histogram2dcontour\": [{\"colorbar\": {\"outlinewidth\": 0, \"ticks\": \"\"}, \"colorscale\": [[0.0, \"#0d0887\"], [0.1111111111111111, \"#46039f\"], [0.2222222222222222, \"#7201a8\"], [0.3333333333333333, \"#9c179e\"], [0.4444444444444444, \"#bd3786\"], [0.5555555555555556, \"#d8576b\"], [0.6666666666666666, \"#ed7953\"], [0.7777777777777778, \"#fb9f3a\"], [0.8888888888888888, \"#fdca26\"], [1.0, \"#f0f921\"]], \"type\": \"histogram2dcontour\"}], \"mesh3d\": [{\"colorbar\": {\"outlinewidth\": 0, \"ticks\": \"\"}, \"type\": \"mesh3d\"}], \"parcoords\": [{\"line\": {\"colorbar\": {\"outlinewidth\": 0, \"ticks\": \"\"}}, \"type\": \"parcoords\"}], \"pie\": [{\"automargin\": true, \"type\": \"pie\"}], \"scatter\": [{\"marker\": {\"colorbar\": {\"outlinewidth\": 0, \"ticks\": \"\"}}, \"type\": \"scatter\"}], \"scatter3d\": [{\"line\": {\"colorbar\": {\"outlinewidth\": 0, \"ticks\": \"\"}}, \"marker\": {\"colorbar\": {\"outlinewidth\": 0, \"ticks\": \"\"}}, \"type\": \"scatter3d\"}], \"scattercarpet\": [{\"marker\": {\"colorbar\": {\"outlinewidth\": 0, \"ticks\": \"\"}}, \"type\": \"scattercarpet\"}], \"scattergeo\": [{\"marker\": {\"colorbar\": {\"outlinewidth\": 0, \"ticks\": \"\"}}, \"type\": \"scattergeo\"}], \"scattergl\": [{\"marker\": {\"colorbar\": {\"outlinewidth\": 0, \"ticks\": \"\"}}, \"type\": \"scattergl\"}], \"scattermapbox\": [{\"marker\": {\"colorbar\": {\"outlinewidth\": 0, \"ticks\": \"\"}}, \"type\": \"scattermapbox\"}], \"scatterpolar\": [{\"marker\": {\"colorbar\": {\"outlinewidth\": 0, \"ticks\": \"\"}}, \"type\": \"scatterpolar\"}], \"scatterpolargl\": [{\"marker\": {\"colorbar\": {\"outlinewidth\": 0, \"ticks\": \"\"}}, \"type\": \"scatterpolargl\"}], \"scatterternary\": [{\"marker\": {\"colorbar\": {\"outlinewidth\": 0, \"ticks\": \"\"}}, \"type\": \"scatterternary\"}], \"surface\": [{\"colorbar\": {\"outlinewidth\": 0, \"ticks\": \"\"}, \"colorscale\": [[0.0, \"#0d0887\"], [0.1111111111111111, \"#46039f\"], [0.2222222222222222, \"#7201a8\"], [0.3333333333333333, \"#9c179e\"], [0.4444444444444444, \"#bd3786\"], [0.5555555555555556, \"#d8576b\"], [0.6666666666666666, \"#ed7953\"], [0.7777777777777778, \"#fb9f3a\"], [0.8888888888888888, \"#fdca26\"], [1.0, \"#f0f921\"]], \"type\": \"surface\"}], \"table\": [{\"cells\": {\"fill\": {\"color\": \"#EBF0F8\"}, \"line\": {\"color\": \"white\"}}, \"header\": {\"fill\": {\"color\": \"#C8D4E3\"}, \"line\": {\"color\": \"white\"}}, \"type\": \"table\"}]}, \"layout\": {\"annotationdefaults\": {\"arrowcolor\": \"#2a3f5f\", \"arrowhead\": 0, \"arrowwidth\": 1}, \"coloraxis\": {\"colorbar\": {\"outlinewidth\": 0, \"ticks\": \"\"}}, \"colorscale\": {\"diverging\": [[0, \"#8e0152\"], [0.1, \"#c51b7d\"], [0.2, \"#de77ae\"], [0.3, \"#f1b6da\"], [0.4, \"#fde0ef\"], [0.5, \"#f7f7f7\"], [0.6, \"#e6f5d0\"], [0.7, \"#b8e186\"], [0.8, \"#7fbc41\"], [0.9, \"#4d9221\"], [1, \"#276419\"]], \"sequential\": [[0.0, \"#0d0887\"], [0.1111111111111111, \"#46039f\"], [0.2222222222222222, \"#7201a8\"], [0.3333333333333333, \"#9c179e\"], [0.4444444444444444, \"#bd3786\"], [0.5555555555555556, \"#d8576b\"], [0.6666666666666666, \"#ed7953\"], [0.7777777777777778, \"#fb9f3a\"], [0.8888888888888888, \"#fdca26\"], [1.0, \"#f0f921\"]], \"sequentialminus\": [[0.0, \"#0d0887\"], [0.1111111111111111, \"#46039f\"], [0.2222222222222222, \"#7201a8\"], [0.3333333333333333, \"#9c179e\"], [0.4444444444444444, \"#bd3786\"], [0.5555555555555556, \"#d8576b\"], [0.6666666666666666, \"#ed7953\"], [0.7777777777777778, \"#fb9f3a\"], [0.8888888888888888, \"#fdca26\"], [1.0, \"#f0f921\"]]}, \"colorway\": [\"#636efa\", \"#EF553B\", \"#00cc96\", \"#ab63fa\", \"#FFA15A\", \"#19d3f3\", \"#FF6692\", \"#B6E880\", \"#FF97FF\", \"#FECB52\"], \"font\": {\"color\": \"#2a3f5f\"}, \"geo\": {\"bgcolor\": \"white\", \"lakecolor\": \"white\", \"landcolor\": \"#E5ECF6\", \"showlakes\": true, \"showland\": true, \"subunitcolor\": \"white\"}, \"hoverlabel\": {\"align\": \"left\"}, \"hovermode\": \"closest\", \"mapbox\": {\"style\": \"light\"}, \"paper_bgcolor\": \"white\", \"plot_bgcolor\": \"#E5ECF6\", \"polar\": {\"angularaxis\": {\"gridcolor\": \"white\", \"linecolor\": \"white\", \"ticks\": \"\"}, \"bgcolor\": \"#E5ECF6\", \"radialaxis\": {\"gridcolor\": \"white\", \"linecolor\": \"white\", \"ticks\": \"\"}}, \"scene\": {\"xaxis\": {\"backgroundcolor\": \"#E5ECF6\", \"gridcolor\": \"white\", \"gridwidth\": 2, \"linecolor\": \"white\", \"showbackground\": true, \"ticks\": \"\", \"zerolinecolor\": \"white\"}, \"yaxis\": {\"backgroundcolor\": \"#E5ECF6\", \"gridcolor\": \"white\", \"gridwidth\": 2, \"linecolor\": \"white\", \"showbackground\": true, \"ticks\": \"\", \"zerolinecolor\": \"white\"}, \"zaxis\": {\"backgroundcolor\": \"#E5ECF6\", \"gridcolor\": \"white\", \"gridwidth\": 2, \"linecolor\": \"white\", \"showbackground\": true, \"ticks\": \"\", \"zerolinecolor\": \"white\"}}, \"shapedefaults\": {\"line\": {\"color\": \"#2a3f5f\"}}, \"ternary\": {\"aaxis\": {\"gridcolor\": \"white\", \"linecolor\": \"white\", \"ticks\": \"\"}, \"baxis\": {\"gridcolor\": \"white\", \"linecolor\": \"white\", \"ticks\": \"\"}, \"bgcolor\": \"#E5ECF6\", \"caxis\": {\"gridcolor\": \"white\", \"linecolor\": \"white\", \"ticks\": \"\"}}, \"title\": {\"x\": 0.05}, \"xaxis\": {\"automargin\": true, \"gridcolor\": \"white\", \"linecolor\": \"white\", \"ticks\": \"\", \"title\": {\"standoff\": 15}, \"zerolinecolor\": \"white\", \"zerolinewidth\": 2}, \"yaxis\": {\"automargin\": true, \"gridcolor\": \"white\", \"linecolor\": \"white\", \"ticks\": \"\", \"title\": {\"standoff\": 15}, \"zerolinecolor\": \"white\", \"zerolinewidth\": 2}}}, \"title\": {\"text\": \"Accuracy Rates for 3 Class Pneumonia Classification\"}, \"xaxis\": {\"title\": {\"text\": \"Epoch\"}}, \"yaxis\": {\"title\": {\"text\": \"Accuracy Rate\"}}},\n",
       "                        {\"responsive\": true}\n",
       "                    ).then(function(){\n",
       "                            \n",
       "var gd = document.getElementById('a787bd76-8b1c-4e9f-b18a-8721665baff9');\n",
       "var x = new MutationObserver(function (mutations, observer) {{\n",
       "        var display = window.getComputedStyle(gd).display;\n",
       "        if (!display || display === 'none') {{\n",
       "            console.log([gd, 'removed!']);\n",
       "            Plotly.purge(gd);\n",
       "            observer.disconnect();\n",
       "        }}\n",
       "}});\n",
       "\n",
       "// Listen for the removal of the full notebook cells\n",
       "var notebookContainer = gd.closest('#notebook-container');\n",
       "if (notebookContainer) {{\n",
       "    x.observe(notebookContainer, {childList: true});\n",
       "}}\n",
       "\n",
       "// Listen for the clearing of the current output cell\n",
       "var outputEl = gd.closest('.output');\n",
       "if (outputEl) {{\n",
       "    x.observe(outputEl, {childList: true});\n",
       "}}\n",
       "\n",
       "                        })\n",
       "                };\n",
       "                });\n",
       "            </script>\n",
       "        </div>"
      ]
     },
     "metadata": {},
     "output_type": "display_data"
    }
   ],
   "source": [
    "#Confusion matrix for 2 classes\n",
    "y_pred_2class = np.argmax(model_2class(x_test_1d).cpu().detach(),axis=1)\n",
    "y_test_cpu_2class = y_test_2class.cpu()\n",
    "\n",
    "cm1 = confusion_matrix(y_pred_2class,y_test_cpu_2class)\n",
    "precision1 = np.diag(cm1)/cm1.sum(axis=1)\n",
    "recall1 = np.diag(cm1)/cm1.sum(axis=0)\n",
    "print('precision:',precision1)\n",
    "print('recall:',recall1)\n",
    "print(cm1)\n",
    "\n",
    "#confusion matrix for 3 classes\n",
    "y_pred_3class = np.argmax(model_3class(x_test_1d).cpu().detach(),axis=1)\n",
    "y_test_cpu_3class = y_test_3class.cpu()\n",
    "\n",
    "cm2 = confusion_matrix(y_pred_3class,y_test_cpu_3class)\n",
    "precision2 = np.diag(cm2)/cm2.sum(axis=1)\n",
    "recall2 = np.diag(cm2)/cm2.sum(axis=0)\n",
    "print('precision:',precision2)\n",
    "print('recall:',recall2)\n",
    "print(cm2)\n",
    "\n",
    "#plots for training and testing accuracy for 2 and 3 class compared\n",
    "x = [x for x in range(0,50)]\n",
    "fig = go.Figure()\n",
    "fig.add_trace(go.Scatter(x =x,y=train_accs_2class,mode = 'lines+markers',name = 'Training'))\n",
    "fig.add_trace(go.Scatter(x =x,y=test_accs_2class,mode = 'lines+markers',name = 'Testing'))\n",
    "fig.update_layout(title_text = 'Accuracy Rates for 2 Class Pneumonia Classification')\n",
    "fig.update_xaxes(title_text = 'Epoch')\n",
    "fig.update_yaxes(title_text = 'Accuracy Rate')\n",
    "fig.show()\n",
    "\n",
    "fig = go.Figure()\n",
    "fig.add_trace(go.Scatter(x =x,y=train_accs_3class,mode = 'lines+markers',name = 'Training'))\n",
    "fig.add_trace(go.Scatter(x =x,y=test_accs_3class,mode = 'lines+markers',name = 'Testing'))\n",
    "fig.update_layout(title_text = 'Accuracy Rates for 3 Class Pneumonia Classification')\n",
    "fig.update_xaxes(title_text = 'Epoch')\n",
    "fig.update_yaxes(title_text = 'Accuracy Rate')\n",
    "fig.show()"
   ]
  },
  {
   "cell_type": "markdown",
   "metadata": {},
   "source": [
    "**Data Augmentation**"
   ]
  },
  {
   "cell_type": "code",
   "execution_count": 180,
   "metadata": {},
   "outputs": [],
   "source": [
    "# scaling between 90% and 110%, and a 10 degree shear over the x-axis) \n",
    "#20 defines bound of rotation\n",
    "#translate takes relative sizes to which we shift\n",
    "#scale provides bounds on degree to which zoom in or out\n",
    "#this function will be used when we define batch sizes\n",
    "transform = transforms.RandomAffine(20,translate=(0.1,0.1),scale=(0.8,1.1),shear=10)\n",
    "\n",
    "# Custom dataset object\n",
    "class CustomTensorDataset(Dataset):\n",
    "    \"\"\"TensorDataset with support of transforms.\n",
    "    \"\"\"\n",
    "    def __init__(self, tensors, transform=None):\n",
    "        assert all(tensors[0].size(0) == tensor.size(0) for tensor in tensors)\n",
    "        self.tensors = tensors\n",
    "        self.transform = transform\n",
    "\n",
    "    def __getitem__(self, index):\n",
    "        #will pass in the transform argument when we want to produce transformed data\n",
    "\n",
    "        x = self.tensors[0][index]\n",
    "\n",
    "        if self.transform:\n",
    "            # reshape data, apply transform\n",
    "            x = x.reshape((50,50))\n",
    "            x = transforms.ToPILImage()(x)\n",
    "            x = self.transform(x)\n",
    "            x = transforms.ToTensor()(x)         \n",
    "\n",
    "        y = self.tensors[1][index]\n",
    "\n",
    "        return x, y\n",
    "\n",
    "    def __len__(self):\n",
    "        return self.tensors[0].size(0)\n"
   ]
  },
  {
   "cell_type": "code",
   "execution_count": 181,
   "metadata": {},
   "outputs": [],
   "source": [
    "#create batches for the model, this time we apply transformations to help with overfitting\n",
    "training_data_2class = CustomTensorDataset([x_train_2d,y_train_2class],transform=transform)\n",
    "test_data_2class = CustomTensorDataset([x_test_2d,y_test_2class])\n",
    "training_data_3class = CustomTensorDataset([x_train_2d,y_train_3class],transform=transform)\n",
    "test_data_3class = CustomTensorDataset([x_test_2d,y_test_3class])\n",
    "\n",
    "batch_size = 64\n",
    "train_loader_2class = torch.utils.data.DataLoader(dataset=training_data_2class,\n",
    "                                           batch_size=batch_size, \n",
    "                                           shuffle=True)\n",
    "\n",
    "batch_size = 64\n",
    "test_loader_2class = torch.utils.data.DataLoader(dataset=test_data_2class,\n",
    "                                           batch_size=batch_size, \n",
    "                                           shuffle=False)\n",
    "\n",
    "batch_size = 64\n",
    "train_loader_3class = torch.utils.data.DataLoader(dataset=training_data_3class,\n",
    "                                           batch_size=batch_size, \n",
    "                                           shuffle=True) \n",
    "\n",
    "batch_size = 64\n",
    "test_loader_3class = torch.utils.data.DataLoader(dataset=test_data_3class,\n",
    "                                           batch_size=batch_size, \n",
    "                                           shuffle=False)"
   ]
  },
  {
   "cell_type": "markdown",
   "metadata": {},
   "source": [
    "**CNN Using Dropout, L2 Regularization and Data Augmentation for 2 Class**"
   ]
  },
  {
   "cell_type": "code",
   "execution_count": 194,
   "metadata": {},
   "outputs": [],
   "source": [
    "#using a 2D cnn because applying the transform changed the nature of data\n",
    "#I tried using 1D but there were dimension issues, 2D fixed the problem\n",
    "class Net(nn.Module):\n",
    "    def __init__(self):\n",
    "        \"\"\"\n",
    "        This method is where you'll want to instantiate parameters and functions.\n",
    "        Here, we instantiate 2 2D convolution layers and 2 max pooling layers\n",
    "        \"\"\"\n",
    "        super(Net,self).__init__()\n",
    "        self.conv1= nn.Conv2d(in_channels=1, out_channels=16, kernel_size=3, padding=1) #takes 1 channel input and outputs \n",
    "        #16 features, kernel width of 3 takes moving average, padding adds zeros to the boundary\n",
    "        self.pool1 = nn.MaxPool2d(kernel_size=2, stride=2) #2x2 kernel skips two pixels everytime\n",
    "\n",
    "        self.conv2 = nn.Conv2d(in_channels=16, out_channels=64, kernel_size=3, padding=1)#takes 16 inputs(outputs from \n",
    "        #previous layer) outputs 64 features\n",
    "        self.pool2 = nn.MaxPool2d(kernel_size=2, stride=2)\n",
    "\n",
    "\n",
    "        self.l1 = nn.Linear(9216,128) #created 9216 features from convolution\n",
    "        self.l2 = nn.Linear(128,64) #128 and 64 nodes in each hidden layer, respectively\n",
    "        self.l3 = nn.Linear(64,2) # number of classes\n",
    "\n",
    "        self.dropout_1 = nn.Dropout(p=0.2)\n",
    "        self.dropout_2 = nn.Dropout(p=0.5)\n",
    "        self.dropout_3 = nn.Dropout(p=0.2)\n",
    "\n",
    "    def forward(self,x):\n",
    "        \"\"\"\n",
    "        This method runs the feedforward neural network.  \n",
    "        \"\"\"\n",
    "        \n",
    "        # Apply convolution\n",
    "        a1 = self.conv1(x)\n",
    "        \n",
    "        # Apply activation function\n",
    "        z1 = torch.relu(a1)\n",
    "        \n",
    "        # Apply max pooling\n",
    "        z1 = self.pool1(z1)\n",
    "                \n",
    "        a2 = self.conv2(z1)\n",
    "        z2 = torch.relu(a2)\n",
    "        z2 = self.pool2(z2)      \n",
    "             \n",
    "        \n",
    "        # Flatten the array to the 9216 features we created from convolution\n",
    "        z_flat = self.dropout_1(torch.reshape(z2,(-1,9216)))\n",
    "        \n",
    "        # Apply linear transformation\n",
    "        a3 = self.l1(z_flat)\n",
    "        z3 = self.dropout_2(torch.relu(a3)) #applying dropout\n",
    "        \n",
    "        a4 = self.l2(a3)\n",
    "        z4 = self.dropout_3(torch.relu(a4))\n",
    "        \n",
    "        a5 = self.l3(z4)\n",
    "        \n",
    "        return a5"
   ]
  },
  {
   "cell_type": "code",
   "execution_count": 195,
   "metadata": {},
   "outputs": [
    {
     "name": "stdout",
     "output_type": "stream",
     "text": [
      "0 1616792960.0 82.5728527607362 81.89102564102564\n",
      "1 1616792960.0 89.35966257668711 86.21794871794872\n",
      "2 1616792960.0 90.08819018404908 86.85897435897436\n",
      "3 1616792960.0 92.52300613496932 84.2948717948718\n",
      "4 1616792960.0 91.69861963190183 83.17307692307692\n",
      "5 1616792960.0 92.54217791411043 79.32692307692308\n",
      "6 1616792960.0 91.12346625766871 85.25641025641026\n",
      "7 1616792960.0 93.98006134969326 83.01282051282051\n",
      "8 1616792960.0 93.92254601226993 83.17307692307692\n",
      "9 1616792960.0 93.3090490797546 84.4551282051282\n",
      "10 1616792960.0 93.69248466257669 82.8525641025641\n",
      "11 1616792960.0 93.51993865030674 87.01923076923077\n",
      "12 1616792960.0 93.65414110429448 80.92948717948718\n",
      "13 1616792960.0 94.82361963190183 85.25641025641026\n",
      "14 1616792960.0 94.40184049079754 84.13461538461539\n",
      "15 1616792960.0 94.93865030674847 82.53205128205128\n",
      "16 1616792960.0 95.01533742331289 83.01282051282051\n",
      "17 1616792960.0 95.83972392638037 83.17307692307692\n",
      "18 1616792960.0 94.78527607361963 80.92948717948718\n",
      "19 1616792960.0 95.5521472392638 82.05128205128206\n",
      "20 1616792960.0 95.60966257668711 85.09615384615384\n",
      "21 1616792960.0 95.5713190184049 87.17948717948718\n",
      "22 1616792960.0 95.5138036809816 78.52564102564102\n",
      "23 1616792960.0 96.20398773006134 83.81410256410257\n",
      "24 1616792960.0 95.47546012269939 87.01923076923077\n",
      "25 1616792960.0 93.57745398773007 88.78205128205128\n",
      "26 1616792960.0 96.33819018404908 87.5\n",
      "27 1616792960.0 95.74386503067484 85.73717948717949\n",
      "28 1616792960.0 96.26150306748467 82.8525641025641\n",
      "29 1616792960.0 96.05061349693251 82.21153846153847\n",
      "30 1616792960.0 96.60659509202453 85.73717948717949\n",
      "31 1616792960.0 96.52990797546012 84.61538461538461\n",
      "32 1616792960.0 96.79831288343559 86.21794871794872\n",
      "33 1616792960.0 96.79831288343559 83.97435897435898\n",
      "34 1616792960.0 96.4148773006135 83.65384615384616\n",
      "35 1616792960.0 97.00920245398773 85.57692307692308\n",
      "36 1616792960.0 96.8941717791411 85.09615384615384\n",
      "37 1616792960.0 96.70245398773007 84.4551282051282\n",
      "38 1616792960.0 96.81748466257669 87.5\n",
      "39 1616792960.0 96.77914110429448 87.82051282051282\n",
      "40 1616792960.0 96.83665644171779 82.6923076923077\n",
      "41 1616792960.0 96.77914110429448 82.6923076923077\n",
      "42 1616792960.0 96.93251533742331 80.44871794871794\n",
      "43 1616792960.0 96.4148773006135 83.17307692307692\n",
      "44 1616792960.0 95.954754601227 78.84615384615384\n",
      "45 1616792960.0 97.02837423312883 84.77564102564102\n",
      "46 1616792960.0 97.10506134969326 84.13461538461539\n",
      "47 1616792960.0 97.02837423312883 84.13461538461539\n",
      "48 1616792960.0 96.97085889570552 82.37179487179488\n",
      "49 1616792960.0 97.00920245398773 81.57051282051282\n"
     ]
    }
   ],
   "source": [
    "#below will train a model and compare accuracies for data for 2 class data using dropout and L2 regularization and data aug\n",
    "#the algorithm is the same as the one above, the nature of the data is the only thing that has changed\n",
    "model_2class = Net()\n",
    "criterion = torch.nn.CrossEntropyLoss(reduction='mean')\n",
    "\n",
    "optimizer = torch.optim.Adam(model_2class.parameters())\n",
    "\n",
    "train_accs_2class = []\n",
    "test_accs_2class = []\n",
    "\n",
    "gamma = 2e3\n",
    "\n",
    "epochs = 50\n",
    "for epoch in range(epochs):\n",
    "    model_2class.train()\n",
    "    for d,t in train_loader_2class:\n",
    "        optimizer.zero_grad()        \n",
    "        outputs = model_2class(d)        \n",
    "        loss = criterion(outputs,t)    \n",
    "        for p in model.parameters():\n",
    "            if p.dim()>1:\n",
    "                loss += gamma/(2*d.shape[0])*(p**2).sum()\n",
    "        loss.backward()   \n",
    "        optimizer.step()\n",
    "        \n",
    "    model_2class.eval()\n",
    "    total_2class=0.\n",
    "    correct_2class=0.\n",
    "    for d,t in test_loader_2class:\n",
    "        outputs = model_2class(d)\n",
    "        _, predicted = torch.max(outputs.data,1)\n",
    "        total_2class += float(t.size(0))\n",
    "        correct_2class += float((predicted==t).sum())\n",
    "    total_train_2class = 0\n",
    "    correct_train_2class = 0\n",
    "    for d,t in train_loader_2class:\n",
    "        outputs = model_2class(d)\n",
    "        _, predicted = torch.max(outputs.data,1)\n",
    "        total_train_2class += float(t.size(0))\n",
    "        correct_train_2class += float((predicted==t).sum())\n",
    "    \n",
    "    train_accs_2class.append(100.*correct_train_2class/total_train_2class)\n",
    "    test_accs_2class.append(100.*correct_2class/total_2class)\n",
    "    \n",
    "    print(epoch,loss.item(),train_accs_2class[-1],test_accs_2class[-1])\n"
   ]
  },
  {
   "cell_type": "markdown",
   "metadata": {},
   "source": [
    "**CNN Using Dropout, L2 Regularization and Data Augmentation for 3 Class**"
   ]
  },
  {
   "cell_type": "code",
   "execution_count": 197,
   "metadata": {},
   "outputs": [],
   "source": [
    "#same as the model defined above, now we have 3 output nodes\n",
    "class Net(nn.Module):\n",
    "    def __init__(self):\n",
    "       \n",
    "        super(Net,self).__init__()\n",
    "        self.conv1= nn.Conv2d(in_channels=1, out_channels=16, kernel_size=3, padding=1)\n",
    "        self.pool1 = nn.MaxPool2d(kernel_size=2, stride=2) \n",
    "\n",
    "        self.conv2 = nn.Conv2d(in_channels=16, out_channels=64, kernel_size=3, padding=1)\n",
    "        self.pool2 = nn.MaxPool2d(kernel_size=2, stride=2)\n",
    "\n",
    "\n",
    "        self.l1 = nn.Linear(9216,128) \n",
    "        self.l2 = nn.Linear(128,64)\n",
    "        self.l3 = nn.Linear(64,3) \n",
    "\n",
    "        self.dropout_1 = nn.Dropout(p=0.2)\n",
    "        self.dropout_2 = nn.Dropout(p=0.5)\n",
    "        self.dropout_3 = nn.Dropout(p=0.2)\n",
    "\n",
    "    def forward(self,x):\n",
    "\n",
    "        a1 = self.conv1(x)\n",
    "        \n",
    "        z1 = torch.relu(a1)\n",
    "        \n",
    "        z1 = self.pool1(z1)\n",
    "                \n",
    "        a2 = self.conv2(z1)\n",
    "        z2 = torch.relu(a2)\n",
    "        z2 = self.pool2(z2)      \n",
    "             \n",
    "        \n",
    "        z_flat = self.dropout_1(torch.reshape(z2,(-1,9216)))\n",
    "        \n",
    "        a3 = self.l1(z_flat)\n",
    "        z3 = self.dropout_2(torch.relu(a3)) \n",
    "        \n",
    "        a4 = self.l2(a3)\n",
    "        z4 = self.dropout_3(torch.relu(a4))\n",
    "        \n",
    "        a5 = self.l3(z4)\n",
    "        \n",
    "        return a5"
   ]
  },
  {
   "cell_type": "code",
   "execution_count": 198,
   "metadata": {},
   "outputs": [
    {
     "name": "stdout",
     "output_type": "stream",
     "text": [
      "0 1616792960.0 57.80291411042945 68.91025641025641\n",
      "1 1616792960.0 64.37883435582822 70.51282051282051\n",
      "2 1616792960.0 66.00843558282209 68.75\n",
      "3 1616792960.0 68.7308282208589 62.82051282051282\n",
      "4 1616792960.0 71.875 75.16025641025641\n",
      "5 1616792960.0 69.05674846625767 67.94871794871794\n",
      "6 1616792960.0 71.83665644171779 68.26923076923077\n",
      "7 1616792960.0 71.31901840490798 67.62820512820512\n",
      "8 1616792960.0 74.21395705521472 77.08333333333333\n",
      "9 1616792960.0 75.0 77.88461538461539\n",
      "10 1616792960.0 75.4217791411043 78.68589743589743\n",
      "11 1616792960.0 74.25230061349693 71.9551282051282\n",
      "12 1616792960.0 75.80521472392638 76.12179487179488\n",
      "13 1616792960.0 76.15030674846626 70.99358974358974\n",
      "14 1616792960.0 75.8819018404908 78.84615384615384\n",
      "15 1616792960.0 75.8627300613497 78.52564102564102\n",
      "16 1616792960.0 76.26533742331289 77.56410256410257\n",
      "17 1616792960.0 76.3420245398773 77.08333333333333\n",
      "18 1616792960.0 76.85966257668711 80.12820512820512\n",
      "19 1616792960.0 75.55598159509202 80.28846153846153\n",
      "20 1616792960.0 76.95552147239263 80.76923076923077\n",
      "21 1616792960.0 77.6840490797546 79.32692307692308\n",
      "22 1616792960.0 78.31671779141104 78.36538461538461\n",
      "23 1616792960.0 76.53374233128834 83.49358974358974\n",
      "24 1616792960.0 78.24003067484662 75.16025641025641\n",
      "25 1616792960.0 76.87883435582822 82.05128205128206\n",
      "26 1616792960.0 77.93328220858896 76.6025641025641\n",
      "27 1616792960.0 78.18251533742331 79.00641025641026\n",
      "28 1616792960.0 76.16947852760737 71.63461538461539\n",
      "29 1616792960.0 78.24003067484662 79.00641025641026\n",
      "30 1616792960.0 78.50843558282209 81.25\n",
      "31 1616792960.0 77.74156441717791 81.89102564102564\n",
      "32 1616792960.0 78.73849693251533 79.96794871794872\n",
      "33 1616792960.0 78.45092024539878 80.92948717948718\n",
      "34 1616792960.0 78.77684049079754 83.17307692307692\n",
      "35 1616792960.0 76.13113496932516 82.6923076923077\n",
      "36 1616792960.0 78.91104294478528 78.84615384615384\n",
      "37 1616792960.0 79.27530674846626 79.8076923076923\n",
      "38 1616792960.0 78.75766871165644 82.05128205128206\n",
      "39 1616792960.0 79.14110429447852 79.8076923076923\n",
      "40 1616792960.0 79.31365030674847 78.52564102564102\n",
      "41 1616792960.0 79.4670245398773 80.92948717948718\n",
      "42 1616792960.0 79.21779141104294 82.37179487179488\n",
      "43 1616792960.0 78.89187116564418 82.53205128205128\n",
      "44 1616792960.0 79.56288343558282 81.41025641025641\n",
      "45 1616792960.0 79.21779141104294 77.72435897435898\n",
      "46 1616792960.0 79.12193251533742 79.8076923076923\n",
      "47 1616792960.0 79.63957055214723 80.28846153846153\n",
      "48 1616792960.0 79.31365030674847 77.24358974358974\n",
      "49 1616792960.0 79.85046012269939 77.56410256410257\n"
     ]
    }
   ],
   "source": [
    "#model to train for 3 class data \n",
    "#same as the algorithm above\n",
    "model_3class = Net()\n",
    "criterion = torch.nn.CrossEntropyLoss(reduction='mean')\n",
    "\n",
    "optimizer = torch.optim.Adam(model_3class.parameters())\n",
    "\n",
    "train_accs_3class = []\n",
    "test_accs_3class = []\n",
    "\n",
    "gamma = 2e3\n",
    "\n",
    "epochs = 50\n",
    "for epoch in range(epochs):\n",
    "    model_3class.train()\n",
    "    for d,t in train_loader_3class:\n",
    "        optimizer.zero_grad()        \n",
    "        outputs = model_3class(d)        \n",
    "        loss = criterion(outputs,t)\n",
    "        for p in model.parameters():\n",
    "            if p.dim()>1:\n",
    "                loss += gamma/(2*d.shape[0])*(p**2).sum()\n",
    "        loss.backward()        \n",
    "        optimizer.step()\n",
    "        \n",
    "    model_3class.eval()\n",
    "    total_3class=0.\n",
    "    correct_3class=0.\n",
    "    for d,t in test_loader_3class:\n",
    "        outputs = model_3class(d)\n",
    "        _, predicted = torch.max(outputs.data,1)\n",
    "        total_3class += float(t.size(0))\n",
    "        correct_3class += float((predicted==t).sum())\n",
    "    total_train_3class = 0\n",
    "    correct_train_3class = 0\n",
    "    for d,t in train_loader_3class:\n",
    "        outputs = model_3class(d)\n",
    "        _, predicted = torch.max(outputs.data,1)\n",
    "        total_train_3class += float(t.size(0))\n",
    "        correct_train_3class += float((predicted==t).sum())\n",
    "    train_accs_3class.append(100.*correct_train_3class/total_train_3class)\n",
    "    test_accs_3class.append(100.*correct_3class/total_3class)\n",
    "    \n",
    "    print(epoch,loss.item(),train_accs_3class[-1],test_accs_3class[-1])\n"
   ]
  },
  {
   "cell_type": "code",
   "execution_count": 199,
   "metadata": {},
   "outputs": [
    {
     "name": "stdout",
     "output_type": "stream",
     "text": [
      "precision: [0.98373984 0.7744511 ]\n",
      "recall: [0.51709402 0.99487179]\n",
      "[[121   2]\n",
      " [113 388]]\n",
      "precision: [0.97902098 0.75       0.64848485]\n",
      "recall: [0.5982906  0.97933884 0.72297297]\n",
      "[[140   2   1]\n",
      " [ 39 237  40]\n",
      " [ 55   3 107]]\n"
     ]
    },
    {
     "data": {
      "application/vnd.plotly.v1+json": {
       "config": {
        "plotlyServerURL": "https://plot.ly"
       },
       "data": [
        {
         "mode": "lines+markers",
         "name": "Training accuracy 2 Class",
         "type": "scatter",
         "x": [
          0,
          1,
          2,
          3,
          4,
          5,
          6,
          7,
          8,
          9,
          10,
          11,
          12,
          13,
          14,
          15,
          16,
          17,
          18,
          19,
          20,
          21,
          22,
          23,
          24,
          25,
          26,
          27,
          28,
          29,
          30,
          31,
          32,
          33,
          34,
          35,
          36,
          37,
          38,
          39,
          40,
          41,
          42,
          43,
          44,
          45,
          46,
          47,
          48,
          49
         ],
         "y": [
          82.5728527607362,
          89.35966257668711,
          90.08819018404908,
          92.52300613496932,
          91.69861963190183,
          92.54217791411043,
          91.12346625766871,
          93.98006134969326,
          93.92254601226993,
          93.3090490797546,
          93.69248466257669,
          93.51993865030674,
          93.65414110429448,
          94.82361963190183,
          94.40184049079754,
          94.93865030674847,
          95.01533742331289,
          95.83972392638037,
          94.78527607361963,
          95.5521472392638,
          95.60966257668711,
          95.5713190184049,
          95.5138036809816,
          96.20398773006134,
          95.47546012269939,
          93.57745398773007,
          96.33819018404908,
          95.74386503067484,
          96.26150306748467,
          96.05061349693251,
          96.60659509202453,
          96.52990797546012,
          96.79831288343559,
          96.79831288343559,
          96.4148773006135,
          97.00920245398773,
          96.8941717791411,
          96.70245398773007,
          96.81748466257669,
          96.77914110429448,
          96.83665644171779,
          96.77914110429448,
          96.93251533742331,
          96.4148773006135,
          95.954754601227,
          97.02837423312883,
          97.10506134969326,
          97.02837423312883,
          96.97085889570552,
          97.00920245398773
         ]
        },
        {
         "mode": "lines+markers",
         "name": "Test accuracy 2 Class",
         "type": "scatter",
         "x": [
          0,
          1,
          2,
          3,
          4,
          5,
          6,
          7,
          8,
          9,
          10,
          11,
          12,
          13,
          14,
          15,
          16,
          17,
          18,
          19,
          20,
          21,
          22,
          23,
          24,
          25,
          26,
          27,
          28,
          29,
          30,
          31,
          32,
          33,
          34,
          35,
          36,
          37,
          38,
          39,
          40,
          41,
          42,
          43,
          44,
          45,
          46,
          47,
          48,
          49
         ],
         "y": [
          81.89102564102564,
          86.21794871794872,
          86.85897435897436,
          84.2948717948718,
          83.17307692307692,
          79.32692307692308,
          85.25641025641026,
          83.01282051282051,
          83.17307692307692,
          84.4551282051282,
          82.8525641025641,
          87.01923076923077,
          80.92948717948718,
          85.25641025641026,
          84.13461538461539,
          82.53205128205128,
          83.01282051282051,
          83.17307692307692,
          80.92948717948718,
          82.05128205128206,
          85.09615384615384,
          87.17948717948718,
          78.52564102564102,
          83.81410256410257,
          87.01923076923077,
          88.78205128205128,
          87.5,
          85.73717948717949,
          82.8525641025641,
          82.21153846153847,
          85.73717948717949,
          84.61538461538461,
          86.21794871794872,
          83.97435897435898,
          83.65384615384616,
          85.57692307692308,
          85.09615384615384,
          84.4551282051282,
          87.5,
          87.82051282051282,
          82.6923076923077,
          82.6923076923077,
          80.44871794871794,
          83.17307692307692,
          78.84615384615384,
          84.77564102564102,
          84.13461538461539,
          84.13461538461539,
          82.37179487179488,
          81.57051282051282
         ]
        }
       ],
       "layout": {
        "template": {
         "data": {
          "bar": [
           {
            "error_x": {
             "color": "#2a3f5f"
            },
            "error_y": {
             "color": "#2a3f5f"
            },
            "marker": {
             "line": {
              "color": "#E5ECF6",
              "width": 0.5
             }
            },
            "type": "bar"
           }
          ],
          "barpolar": [
           {
            "marker": {
             "line": {
              "color": "#E5ECF6",
              "width": 0.5
             }
            },
            "type": "barpolar"
           }
          ],
          "carpet": [
           {
            "aaxis": {
             "endlinecolor": "#2a3f5f",
             "gridcolor": "white",
             "linecolor": "white",
             "minorgridcolor": "white",
             "startlinecolor": "#2a3f5f"
            },
            "baxis": {
             "endlinecolor": "#2a3f5f",
             "gridcolor": "white",
             "linecolor": "white",
             "minorgridcolor": "white",
             "startlinecolor": "#2a3f5f"
            },
            "type": "carpet"
           }
          ],
          "choropleth": [
           {
            "colorbar": {
             "outlinewidth": 0,
             "ticks": ""
            },
            "type": "choropleth"
           }
          ],
          "contour": [
           {
            "colorbar": {
             "outlinewidth": 0,
             "ticks": ""
            },
            "colorscale": [
             [
              0,
              "#0d0887"
             ],
             [
              0.1111111111111111,
              "#46039f"
             ],
             [
              0.2222222222222222,
              "#7201a8"
             ],
             [
              0.3333333333333333,
              "#9c179e"
             ],
             [
              0.4444444444444444,
              "#bd3786"
             ],
             [
              0.5555555555555556,
              "#d8576b"
             ],
             [
              0.6666666666666666,
              "#ed7953"
             ],
             [
              0.7777777777777778,
              "#fb9f3a"
             ],
             [
              0.8888888888888888,
              "#fdca26"
             ],
             [
              1,
              "#f0f921"
             ]
            ],
            "type": "contour"
           }
          ],
          "contourcarpet": [
           {
            "colorbar": {
             "outlinewidth": 0,
             "ticks": ""
            },
            "type": "contourcarpet"
           }
          ],
          "heatmap": [
           {
            "colorbar": {
             "outlinewidth": 0,
             "ticks": ""
            },
            "colorscale": [
             [
              0,
              "#0d0887"
             ],
             [
              0.1111111111111111,
              "#46039f"
             ],
             [
              0.2222222222222222,
              "#7201a8"
             ],
             [
              0.3333333333333333,
              "#9c179e"
             ],
             [
              0.4444444444444444,
              "#bd3786"
             ],
             [
              0.5555555555555556,
              "#d8576b"
             ],
             [
              0.6666666666666666,
              "#ed7953"
             ],
             [
              0.7777777777777778,
              "#fb9f3a"
             ],
             [
              0.8888888888888888,
              "#fdca26"
             ],
             [
              1,
              "#f0f921"
             ]
            ],
            "type": "heatmap"
           }
          ],
          "heatmapgl": [
           {
            "colorbar": {
             "outlinewidth": 0,
             "ticks": ""
            },
            "colorscale": [
             [
              0,
              "#0d0887"
             ],
             [
              0.1111111111111111,
              "#46039f"
             ],
             [
              0.2222222222222222,
              "#7201a8"
             ],
             [
              0.3333333333333333,
              "#9c179e"
             ],
             [
              0.4444444444444444,
              "#bd3786"
             ],
             [
              0.5555555555555556,
              "#d8576b"
             ],
             [
              0.6666666666666666,
              "#ed7953"
             ],
             [
              0.7777777777777778,
              "#fb9f3a"
             ],
             [
              0.8888888888888888,
              "#fdca26"
             ],
             [
              1,
              "#f0f921"
             ]
            ],
            "type": "heatmapgl"
           }
          ],
          "histogram": [
           {
            "marker": {
             "colorbar": {
              "outlinewidth": 0,
              "ticks": ""
             }
            },
            "type": "histogram"
           }
          ],
          "histogram2d": [
           {
            "colorbar": {
             "outlinewidth": 0,
             "ticks": ""
            },
            "colorscale": [
             [
              0,
              "#0d0887"
             ],
             [
              0.1111111111111111,
              "#46039f"
             ],
             [
              0.2222222222222222,
              "#7201a8"
             ],
             [
              0.3333333333333333,
              "#9c179e"
             ],
             [
              0.4444444444444444,
              "#bd3786"
             ],
             [
              0.5555555555555556,
              "#d8576b"
             ],
             [
              0.6666666666666666,
              "#ed7953"
             ],
             [
              0.7777777777777778,
              "#fb9f3a"
             ],
             [
              0.8888888888888888,
              "#fdca26"
             ],
             [
              1,
              "#f0f921"
             ]
            ],
            "type": "histogram2d"
           }
          ],
          "histogram2dcontour": [
           {
            "colorbar": {
             "outlinewidth": 0,
             "ticks": ""
            },
            "colorscale": [
             [
              0,
              "#0d0887"
             ],
             [
              0.1111111111111111,
              "#46039f"
             ],
             [
              0.2222222222222222,
              "#7201a8"
             ],
             [
              0.3333333333333333,
              "#9c179e"
             ],
             [
              0.4444444444444444,
              "#bd3786"
             ],
             [
              0.5555555555555556,
              "#d8576b"
             ],
             [
              0.6666666666666666,
              "#ed7953"
             ],
             [
              0.7777777777777778,
              "#fb9f3a"
             ],
             [
              0.8888888888888888,
              "#fdca26"
             ],
             [
              1,
              "#f0f921"
             ]
            ],
            "type": "histogram2dcontour"
           }
          ],
          "mesh3d": [
           {
            "colorbar": {
             "outlinewidth": 0,
             "ticks": ""
            },
            "type": "mesh3d"
           }
          ],
          "parcoords": [
           {
            "line": {
             "colorbar": {
              "outlinewidth": 0,
              "ticks": ""
             }
            },
            "type": "parcoords"
           }
          ],
          "pie": [
           {
            "automargin": true,
            "type": "pie"
           }
          ],
          "scatter": [
           {
            "marker": {
             "colorbar": {
              "outlinewidth": 0,
              "ticks": ""
             }
            },
            "type": "scatter"
           }
          ],
          "scatter3d": [
           {
            "line": {
             "colorbar": {
              "outlinewidth": 0,
              "ticks": ""
             }
            },
            "marker": {
             "colorbar": {
              "outlinewidth": 0,
              "ticks": ""
             }
            },
            "type": "scatter3d"
           }
          ],
          "scattercarpet": [
           {
            "marker": {
             "colorbar": {
              "outlinewidth": 0,
              "ticks": ""
             }
            },
            "type": "scattercarpet"
           }
          ],
          "scattergeo": [
           {
            "marker": {
             "colorbar": {
              "outlinewidth": 0,
              "ticks": ""
             }
            },
            "type": "scattergeo"
           }
          ],
          "scattergl": [
           {
            "marker": {
             "colorbar": {
              "outlinewidth": 0,
              "ticks": ""
             }
            },
            "type": "scattergl"
           }
          ],
          "scattermapbox": [
           {
            "marker": {
             "colorbar": {
              "outlinewidth": 0,
              "ticks": ""
             }
            },
            "type": "scattermapbox"
           }
          ],
          "scatterpolar": [
           {
            "marker": {
             "colorbar": {
              "outlinewidth": 0,
              "ticks": ""
             }
            },
            "type": "scatterpolar"
           }
          ],
          "scatterpolargl": [
           {
            "marker": {
             "colorbar": {
              "outlinewidth": 0,
              "ticks": ""
             }
            },
            "type": "scatterpolargl"
           }
          ],
          "scatterternary": [
           {
            "marker": {
             "colorbar": {
              "outlinewidth": 0,
              "ticks": ""
             }
            },
            "type": "scatterternary"
           }
          ],
          "surface": [
           {
            "colorbar": {
             "outlinewidth": 0,
             "ticks": ""
            },
            "colorscale": [
             [
              0,
              "#0d0887"
             ],
             [
              0.1111111111111111,
              "#46039f"
             ],
             [
              0.2222222222222222,
              "#7201a8"
             ],
             [
              0.3333333333333333,
              "#9c179e"
             ],
             [
              0.4444444444444444,
              "#bd3786"
             ],
             [
              0.5555555555555556,
              "#d8576b"
             ],
             [
              0.6666666666666666,
              "#ed7953"
             ],
             [
              0.7777777777777778,
              "#fb9f3a"
             ],
             [
              0.8888888888888888,
              "#fdca26"
             ],
             [
              1,
              "#f0f921"
             ]
            ],
            "type": "surface"
           }
          ],
          "table": [
           {
            "cells": {
             "fill": {
              "color": "#EBF0F8"
             },
             "line": {
              "color": "white"
             }
            },
            "header": {
             "fill": {
              "color": "#C8D4E3"
             },
             "line": {
              "color": "white"
             }
            },
            "type": "table"
           }
          ]
         },
         "layout": {
          "annotationdefaults": {
           "arrowcolor": "#2a3f5f",
           "arrowhead": 0,
           "arrowwidth": 1
          },
          "coloraxis": {
           "colorbar": {
            "outlinewidth": 0,
            "ticks": ""
           }
          },
          "colorscale": {
           "diverging": [
            [
             0,
             "#8e0152"
            ],
            [
             0.1,
             "#c51b7d"
            ],
            [
             0.2,
             "#de77ae"
            ],
            [
             0.3,
             "#f1b6da"
            ],
            [
             0.4,
             "#fde0ef"
            ],
            [
             0.5,
             "#f7f7f7"
            ],
            [
             0.6,
             "#e6f5d0"
            ],
            [
             0.7,
             "#b8e186"
            ],
            [
             0.8,
             "#7fbc41"
            ],
            [
             0.9,
             "#4d9221"
            ],
            [
             1,
             "#276419"
            ]
           ],
           "sequential": [
            [
             0,
             "#0d0887"
            ],
            [
             0.1111111111111111,
             "#46039f"
            ],
            [
             0.2222222222222222,
             "#7201a8"
            ],
            [
             0.3333333333333333,
             "#9c179e"
            ],
            [
             0.4444444444444444,
             "#bd3786"
            ],
            [
             0.5555555555555556,
             "#d8576b"
            ],
            [
             0.6666666666666666,
             "#ed7953"
            ],
            [
             0.7777777777777778,
             "#fb9f3a"
            ],
            [
             0.8888888888888888,
             "#fdca26"
            ],
            [
             1,
             "#f0f921"
            ]
           ],
           "sequentialminus": [
            [
             0,
             "#0d0887"
            ],
            [
             0.1111111111111111,
             "#46039f"
            ],
            [
             0.2222222222222222,
             "#7201a8"
            ],
            [
             0.3333333333333333,
             "#9c179e"
            ],
            [
             0.4444444444444444,
             "#bd3786"
            ],
            [
             0.5555555555555556,
             "#d8576b"
            ],
            [
             0.6666666666666666,
             "#ed7953"
            ],
            [
             0.7777777777777778,
             "#fb9f3a"
            ],
            [
             0.8888888888888888,
             "#fdca26"
            ],
            [
             1,
             "#f0f921"
            ]
           ]
          },
          "colorway": [
           "#636efa",
           "#EF553B",
           "#00cc96",
           "#ab63fa",
           "#FFA15A",
           "#19d3f3",
           "#FF6692",
           "#B6E880",
           "#FF97FF",
           "#FECB52"
          ],
          "font": {
           "color": "#2a3f5f"
          },
          "geo": {
           "bgcolor": "white",
           "lakecolor": "white",
           "landcolor": "#E5ECF6",
           "showlakes": true,
           "showland": true,
           "subunitcolor": "white"
          },
          "hoverlabel": {
           "align": "left"
          },
          "hovermode": "closest",
          "mapbox": {
           "style": "light"
          },
          "paper_bgcolor": "white",
          "plot_bgcolor": "#E5ECF6",
          "polar": {
           "angularaxis": {
            "gridcolor": "white",
            "linecolor": "white",
            "ticks": ""
           },
           "bgcolor": "#E5ECF6",
           "radialaxis": {
            "gridcolor": "white",
            "linecolor": "white",
            "ticks": ""
           }
          },
          "scene": {
           "xaxis": {
            "backgroundcolor": "#E5ECF6",
            "gridcolor": "white",
            "gridwidth": 2,
            "linecolor": "white",
            "showbackground": true,
            "ticks": "",
            "zerolinecolor": "white"
           },
           "yaxis": {
            "backgroundcolor": "#E5ECF6",
            "gridcolor": "white",
            "gridwidth": 2,
            "linecolor": "white",
            "showbackground": true,
            "ticks": "",
            "zerolinecolor": "white"
           },
           "zaxis": {
            "backgroundcolor": "#E5ECF6",
            "gridcolor": "white",
            "gridwidth": 2,
            "linecolor": "white",
            "showbackground": true,
            "ticks": "",
            "zerolinecolor": "white"
           }
          },
          "shapedefaults": {
           "line": {
            "color": "#2a3f5f"
           }
          },
          "ternary": {
           "aaxis": {
            "gridcolor": "white",
            "linecolor": "white",
            "ticks": ""
           },
           "baxis": {
            "gridcolor": "white",
            "linecolor": "white",
            "ticks": ""
           },
           "bgcolor": "#E5ECF6",
           "caxis": {
            "gridcolor": "white",
            "linecolor": "white",
            "ticks": ""
           }
          },
          "title": {
           "x": 0.05
          },
          "xaxis": {
           "automargin": true,
           "gridcolor": "white",
           "linecolor": "white",
           "ticks": "",
           "title": {
            "standoff": 15
           },
           "zerolinecolor": "white",
           "zerolinewidth": 2
          },
          "yaxis": {
           "automargin": true,
           "gridcolor": "white",
           "linecolor": "white",
           "ticks": "",
           "title": {
            "standoff": 15
           },
           "zerolinecolor": "white",
           "zerolinewidth": 2
          }
         }
        },
        "title": {
         "text": "Accuracy Rates for 2 Class Pneumonia Classification"
        },
        "xaxis": {
         "title": {
          "text": "Epoch"
         }
        },
        "yaxis": {
         "title": {
          "text": "Accuracy Rate"
         }
        }
       }
      },
      "text/html": [
       "<div>\n",
       "        \n",
       "        \n",
       "            <div id=\"031a03bd-b6c7-4460-a5eb-1e7290da792d\" class=\"plotly-graph-div\" style=\"height:525px; width:100%;\"></div>\n",
       "            <script type=\"text/javascript\">\n",
       "                require([\"plotly\"], function(Plotly) {\n",
       "                    window.PLOTLYENV=window.PLOTLYENV || {};\n",
       "                    \n",
       "                if (document.getElementById(\"031a03bd-b6c7-4460-a5eb-1e7290da792d\")) {\n",
       "                    Plotly.newPlot(\n",
       "                        '031a03bd-b6c7-4460-a5eb-1e7290da792d',\n",
       "                        [{\"mode\": \"lines+markers\", \"name\": \"Training accuracy 2 Class\", \"type\": \"scatter\", \"x\": [0, 1, 2, 3, 4, 5, 6, 7, 8, 9, 10, 11, 12, 13, 14, 15, 16, 17, 18, 19, 20, 21, 22, 23, 24, 25, 26, 27, 28, 29, 30, 31, 32, 33, 34, 35, 36, 37, 38, 39, 40, 41, 42, 43, 44, 45, 46, 47, 48, 49], \"y\": [82.5728527607362, 89.35966257668711, 90.08819018404908, 92.52300613496932, 91.69861963190183, 92.54217791411043, 91.12346625766871, 93.98006134969326, 93.92254601226993, 93.3090490797546, 93.69248466257669, 93.51993865030674, 93.65414110429448, 94.82361963190183, 94.40184049079754, 94.93865030674847, 95.01533742331289, 95.83972392638037, 94.78527607361963, 95.5521472392638, 95.60966257668711, 95.5713190184049, 95.5138036809816, 96.20398773006134, 95.47546012269939, 93.57745398773007, 96.33819018404908, 95.74386503067484, 96.26150306748467, 96.05061349693251, 96.60659509202453, 96.52990797546012, 96.79831288343559, 96.79831288343559, 96.4148773006135, 97.00920245398773, 96.8941717791411, 96.70245398773007, 96.81748466257669, 96.77914110429448, 96.83665644171779, 96.77914110429448, 96.93251533742331, 96.4148773006135, 95.954754601227, 97.02837423312883, 97.10506134969326, 97.02837423312883, 96.97085889570552, 97.00920245398773]}, {\"mode\": \"lines+markers\", \"name\": \"Test accuracy 2 Class\", \"type\": \"scatter\", \"x\": [0, 1, 2, 3, 4, 5, 6, 7, 8, 9, 10, 11, 12, 13, 14, 15, 16, 17, 18, 19, 20, 21, 22, 23, 24, 25, 26, 27, 28, 29, 30, 31, 32, 33, 34, 35, 36, 37, 38, 39, 40, 41, 42, 43, 44, 45, 46, 47, 48, 49], \"y\": [81.89102564102564, 86.21794871794872, 86.85897435897436, 84.2948717948718, 83.17307692307692, 79.32692307692308, 85.25641025641026, 83.01282051282051, 83.17307692307692, 84.4551282051282, 82.8525641025641, 87.01923076923077, 80.92948717948718, 85.25641025641026, 84.13461538461539, 82.53205128205128, 83.01282051282051, 83.17307692307692, 80.92948717948718, 82.05128205128206, 85.09615384615384, 87.17948717948718, 78.52564102564102, 83.81410256410257, 87.01923076923077, 88.78205128205128, 87.5, 85.73717948717949, 82.8525641025641, 82.21153846153847, 85.73717948717949, 84.61538461538461, 86.21794871794872, 83.97435897435898, 83.65384615384616, 85.57692307692308, 85.09615384615384, 84.4551282051282, 87.5, 87.82051282051282, 82.6923076923077, 82.6923076923077, 80.44871794871794, 83.17307692307692, 78.84615384615384, 84.77564102564102, 84.13461538461539, 84.13461538461539, 82.37179487179488, 81.57051282051282]}],\n",
       "                        {\"template\": {\"data\": {\"bar\": [{\"error_x\": {\"color\": \"#2a3f5f\"}, \"error_y\": {\"color\": \"#2a3f5f\"}, \"marker\": {\"line\": {\"color\": \"#E5ECF6\", \"width\": 0.5}}, \"type\": \"bar\"}], \"barpolar\": [{\"marker\": {\"line\": {\"color\": \"#E5ECF6\", \"width\": 0.5}}, \"type\": \"barpolar\"}], \"carpet\": [{\"aaxis\": {\"endlinecolor\": \"#2a3f5f\", \"gridcolor\": \"white\", \"linecolor\": \"white\", \"minorgridcolor\": \"white\", \"startlinecolor\": \"#2a3f5f\"}, \"baxis\": {\"endlinecolor\": \"#2a3f5f\", \"gridcolor\": \"white\", \"linecolor\": \"white\", \"minorgridcolor\": \"white\", \"startlinecolor\": \"#2a3f5f\"}, \"type\": \"carpet\"}], \"choropleth\": [{\"colorbar\": {\"outlinewidth\": 0, \"ticks\": \"\"}, \"type\": \"choropleth\"}], \"contour\": [{\"colorbar\": {\"outlinewidth\": 0, \"ticks\": \"\"}, \"colorscale\": [[0.0, \"#0d0887\"], [0.1111111111111111, \"#46039f\"], [0.2222222222222222, \"#7201a8\"], [0.3333333333333333, \"#9c179e\"], [0.4444444444444444, \"#bd3786\"], [0.5555555555555556, \"#d8576b\"], [0.6666666666666666, \"#ed7953\"], [0.7777777777777778, \"#fb9f3a\"], [0.8888888888888888, \"#fdca26\"], [1.0, \"#f0f921\"]], \"type\": \"contour\"}], \"contourcarpet\": [{\"colorbar\": {\"outlinewidth\": 0, \"ticks\": \"\"}, \"type\": \"contourcarpet\"}], \"heatmap\": [{\"colorbar\": {\"outlinewidth\": 0, \"ticks\": \"\"}, \"colorscale\": [[0.0, \"#0d0887\"], [0.1111111111111111, \"#46039f\"], [0.2222222222222222, \"#7201a8\"], [0.3333333333333333, \"#9c179e\"], [0.4444444444444444, \"#bd3786\"], [0.5555555555555556, \"#d8576b\"], [0.6666666666666666, \"#ed7953\"], [0.7777777777777778, \"#fb9f3a\"], [0.8888888888888888, \"#fdca26\"], [1.0, \"#f0f921\"]], \"type\": \"heatmap\"}], \"heatmapgl\": [{\"colorbar\": {\"outlinewidth\": 0, \"ticks\": \"\"}, \"colorscale\": [[0.0, \"#0d0887\"], [0.1111111111111111, \"#46039f\"], [0.2222222222222222, \"#7201a8\"], [0.3333333333333333, \"#9c179e\"], [0.4444444444444444, \"#bd3786\"], [0.5555555555555556, \"#d8576b\"], [0.6666666666666666, \"#ed7953\"], [0.7777777777777778, \"#fb9f3a\"], [0.8888888888888888, \"#fdca26\"], [1.0, \"#f0f921\"]], \"type\": \"heatmapgl\"}], \"histogram\": [{\"marker\": {\"colorbar\": {\"outlinewidth\": 0, \"ticks\": \"\"}}, \"type\": \"histogram\"}], \"histogram2d\": [{\"colorbar\": {\"outlinewidth\": 0, \"ticks\": \"\"}, \"colorscale\": [[0.0, \"#0d0887\"], [0.1111111111111111, \"#46039f\"], [0.2222222222222222, \"#7201a8\"], [0.3333333333333333, \"#9c179e\"], [0.4444444444444444, \"#bd3786\"], [0.5555555555555556, \"#d8576b\"], [0.6666666666666666, \"#ed7953\"], [0.7777777777777778, \"#fb9f3a\"], [0.8888888888888888, \"#fdca26\"], [1.0, \"#f0f921\"]], \"type\": \"histogram2d\"}], \"histogram2dcontour\": [{\"colorbar\": {\"outlinewidth\": 0, \"ticks\": \"\"}, \"colorscale\": [[0.0, \"#0d0887\"], [0.1111111111111111, \"#46039f\"], [0.2222222222222222, \"#7201a8\"], [0.3333333333333333, \"#9c179e\"], [0.4444444444444444, \"#bd3786\"], [0.5555555555555556, \"#d8576b\"], [0.6666666666666666, \"#ed7953\"], [0.7777777777777778, \"#fb9f3a\"], [0.8888888888888888, \"#fdca26\"], [1.0, \"#f0f921\"]], \"type\": \"histogram2dcontour\"}], \"mesh3d\": [{\"colorbar\": {\"outlinewidth\": 0, \"ticks\": \"\"}, \"type\": \"mesh3d\"}], \"parcoords\": [{\"line\": {\"colorbar\": {\"outlinewidth\": 0, \"ticks\": \"\"}}, \"type\": \"parcoords\"}], \"pie\": [{\"automargin\": true, \"type\": \"pie\"}], \"scatter\": [{\"marker\": {\"colorbar\": {\"outlinewidth\": 0, \"ticks\": \"\"}}, \"type\": \"scatter\"}], \"scatter3d\": [{\"line\": {\"colorbar\": {\"outlinewidth\": 0, \"ticks\": \"\"}}, \"marker\": {\"colorbar\": {\"outlinewidth\": 0, \"ticks\": \"\"}}, \"type\": \"scatter3d\"}], \"scattercarpet\": [{\"marker\": {\"colorbar\": {\"outlinewidth\": 0, \"ticks\": \"\"}}, \"type\": \"scattercarpet\"}], \"scattergeo\": [{\"marker\": {\"colorbar\": {\"outlinewidth\": 0, \"ticks\": \"\"}}, \"type\": \"scattergeo\"}], \"scattergl\": [{\"marker\": {\"colorbar\": {\"outlinewidth\": 0, \"ticks\": \"\"}}, \"type\": \"scattergl\"}], \"scattermapbox\": [{\"marker\": {\"colorbar\": {\"outlinewidth\": 0, \"ticks\": \"\"}}, \"type\": \"scattermapbox\"}], \"scatterpolar\": [{\"marker\": {\"colorbar\": {\"outlinewidth\": 0, \"ticks\": \"\"}}, \"type\": \"scatterpolar\"}], \"scatterpolargl\": [{\"marker\": {\"colorbar\": {\"outlinewidth\": 0, \"ticks\": \"\"}}, \"type\": \"scatterpolargl\"}], \"scatterternary\": [{\"marker\": {\"colorbar\": {\"outlinewidth\": 0, \"ticks\": \"\"}}, \"type\": \"scatterternary\"}], \"surface\": [{\"colorbar\": {\"outlinewidth\": 0, \"ticks\": \"\"}, \"colorscale\": [[0.0, \"#0d0887\"], [0.1111111111111111, \"#46039f\"], [0.2222222222222222, \"#7201a8\"], [0.3333333333333333, \"#9c179e\"], [0.4444444444444444, \"#bd3786\"], [0.5555555555555556, \"#d8576b\"], [0.6666666666666666, \"#ed7953\"], [0.7777777777777778, \"#fb9f3a\"], [0.8888888888888888, \"#fdca26\"], [1.0, \"#f0f921\"]], \"type\": \"surface\"}], \"table\": [{\"cells\": {\"fill\": {\"color\": \"#EBF0F8\"}, \"line\": {\"color\": \"white\"}}, \"header\": {\"fill\": {\"color\": \"#C8D4E3\"}, \"line\": {\"color\": \"white\"}}, \"type\": \"table\"}]}, \"layout\": {\"annotationdefaults\": {\"arrowcolor\": \"#2a3f5f\", \"arrowhead\": 0, \"arrowwidth\": 1}, \"coloraxis\": {\"colorbar\": {\"outlinewidth\": 0, \"ticks\": \"\"}}, \"colorscale\": {\"diverging\": [[0, \"#8e0152\"], [0.1, \"#c51b7d\"], [0.2, \"#de77ae\"], [0.3, \"#f1b6da\"], [0.4, \"#fde0ef\"], [0.5, \"#f7f7f7\"], [0.6, \"#e6f5d0\"], [0.7, \"#b8e186\"], [0.8, \"#7fbc41\"], [0.9, \"#4d9221\"], [1, \"#276419\"]], \"sequential\": [[0.0, \"#0d0887\"], [0.1111111111111111, \"#46039f\"], [0.2222222222222222, \"#7201a8\"], [0.3333333333333333, \"#9c179e\"], [0.4444444444444444, \"#bd3786\"], [0.5555555555555556, \"#d8576b\"], [0.6666666666666666, \"#ed7953\"], [0.7777777777777778, \"#fb9f3a\"], [0.8888888888888888, \"#fdca26\"], [1.0, \"#f0f921\"]], \"sequentialminus\": [[0.0, \"#0d0887\"], [0.1111111111111111, \"#46039f\"], [0.2222222222222222, \"#7201a8\"], [0.3333333333333333, \"#9c179e\"], [0.4444444444444444, \"#bd3786\"], [0.5555555555555556, \"#d8576b\"], [0.6666666666666666, \"#ed7953\"], [0.7777777777777778, \"#fb9f3a\"], [0.8888888888888888, \"#fdca26\"], [1.0, \"#f0f921\"]]}, \"colorway\": [\"#636efa\", \"#EF553B\", \"#00cc96\", \"#ab63fa\", \"#FFA15A\", \"#19d3f3\", \"#FF6692\", \"#B6E880\", \"#FF97FF\", \"#FECB52\"], \"font\": {\"color\": \"#2a3f5f\"}, \"geo\": {\"bgcolor\": \"white\", \"lakecolor\": \"white\", \"landcolor\": \"#E5ECF6\", \"showlakes\": true, \"showland\": true, \"subunitcolor\": \"white\"}, \"hoverlabel\": {\"align\": \"left\"}, \"hovermode\": \"closest\", \"mapbox\": {\"style\": \"light\"}, \"paper_bgcolor\": \"white\", \"plot_bgcolor\": \"#E5ECF6\", \"polar\": {\"angularaxis\": {\"gridcolor\": \"white\", \"linecolor\": \"white\", \"ticks\": \"\"}, \"bgcolor\": \"#E5ECF6\", \"radialaxis\": {\"gridcolor\": \"white\", \"linecolor\": \"white\", \"ticks\": \"\"}}, \"scene\": {\"xaxis\": {\"backgroundcolor\": \"#E5ECF6\", \"gridcolor\": \"white\", \"gridwidth\": 2, \"linecolor\": \"white\", \"showbackground\": true, \"ticks\": \"\", \"zerolinecolor\": \"white\"}, \"yaxis\": {\"backgroundcolor\": \"#E5ECF6\", \"gridcolor\": \"white\", \"gridwidth\": 2, \"linecolor\": \"white\", \"showbackground\": true, \"ticks\": \"\", \"zerolinecolor\": \"white\"}, \"zaxis\": {\"backgroundcolor\": \"#E5ECF6\", \"gridcolor\": \"white\", \"gridwidth\": 2, \"linecolor\": \"white\", \"showbackground\": true, \"ticks\": \"\", \"zerolinecolor\": \"white\"}}, \"shapedefaults\": {\"line\": {\"color\": \"#2a3f5f\"}}, \"ternary\": {\"aaxis\": {\"gridcolor\": \"white\", \"linecolor\": \"white\", \"ticks\": \"\"}, \"baxis\": {\"gridcolor\": \"white\", \"linecolor\": \"white\", \"ticks\": \"\"}, \"bgcolor\": \"#E5ECF6\", \"caxis\": {\"gridcolor\": \"white\", \"linecolor\": \"white\", \"ticks\": \"\"}}, \"title\": {\"x\": 0.05}, \"xaxis\": {\"automargin\": true, \"gridcolor\": \"white\", \"linecolor\": \"white\", \"ticks\": \"\", \"title\": {\"standoff\": 15}, \"zerolinecolor\": \"white\", \"zerolinewidth\": 2}, \"yaxis\": {\"automargin\": true, \"gridcolor\": \"white\", \"linecolor\": \"white\", \"ticks\": \"\", \"title\": {\"standoff\": 15}, \"zerolinecolor\": \"white\", \"zerolinewidth\": 2}}}, \"title\": {\"text\": \"Accuracy Rates for 2 Class Pneumonia Classification\"}, \"xaxis\": {\"title\": {\"text\": \"Epoch\"}}, \"yaxis\": {\"title\": {\"text\": \"Accuracy Rate\"}}},\n",
       "                        {\"responsive\": true}\n",
       "                    ).then(function(){\n",
       "                            \n",
       "var gd = document.getElementById('031a03bd-b6c7-4460-a5eb-1e7290da792d');\n",
       "var x = new MutationObserver(function (mutations, observer) {{\n",
       "        var display = window.getComputedStyle(gd).display;\n",
       "        if (!display || display === 'none') {{\n",
       "            console.log([gd, 'removed!']);\n",
       "            Plotly.purge(gd);\n",
       "            observer.disconnect();\n",
       "        }}\n",
       "}});\n",
       "\n",
       "// Listen for the removal of the full notebook cells\n",
       "var notebookContainer = gd.closest('#notebook-container');\n",
       "if (notebookContainer) {{\n",
       "    x.observe(notebookContainer, {childList: true});\n",
       "}}\n",
       "\n",
       "// Listen for the clearing of the current output cell\n",
       "var outputEl = gd.closest('.output');\n",
       "if (outputEl) {{\n",
       "    x.observe(outputEl, {childList: true});\n",
       "}}\n",
       "\n",
       "                        })\n",
       "                };\n",
       "                });\n",
       "            </script>\n",
       "        </div>"
      ]
     },
     "metadata": {},
     "output_type": "display_data"
    },
    {
     "data": {
      "application/vnd.plotly.v1+json": {
       "config": {
        "plotlyServerURL": "https://plot.ly"
       },
       "data": [
        {
         "mode": "lines+markers",
         "name": "Training accuracy 3 Class",
         "type": "scatter",
         "x": [
          0,
          1,
          2,
          3,
          4,
          5,
          6,
          7,
          8,
          9,
          10,
          11,
          12,
          13,
          14,
          15,
          16,
          17,
          18,
          19,
          20,
          21,
          22,
          23,
          24,
          25,
          26,
          27,
          28,
          29,
          30,
          31,
          32,
          33,
          34,
          35,
          36,
          37,
          38,
          39,
          40,
          41,
          42,
          43,
          44,
          45,
          46,
          47,
          48,
          49
         ],
         "y": [
          57.80291411042945,
          64.37883435582822,
          66.00843558282209,
          68.7308282208589,
          71.875,
          69.05674846625767,
          71.83665644171779,
          71.31901840490798,
          74.21395705521472,
          75,
          75.4217791411043,
          74.25230061349693,
          75.80521472392638,
          76.15030674846626,
          75.8819018404908,
          75.8627300613497,
          76.26533742331289,
          76.3420245398773,
          76.85966257668711,
          75.55598159509202,
          76.95552147239263,
          77.6840490797546,
          78.31671779141104,
          76.53374233128834,
          78.24003067484662,
          76.87883435582822,
          77.93328220858896,
          78.18251533742331,
          76.16947852760737,
          78.24003067484662,
          78.50843558282209,
          77.74156441717791,
          78.73849693251533,
          78.45092024539878,
          78.77684049079754,
          76.13113496932516,
          78.91104294478528,
          79.27530674846626,
          78.75766871165644,
          79.14110429447852,
          79.31365030674847,
          79.4670245398773,
          79.21779141104294,
          78.89187116564418,
          79.56288343558282,
          79.21779141104294,
          79.12193251533742,
          79.63957055214723,
          79.31365030674847,
          79.85046012269939
         ]
        },
        {
         "mode": "lines+markers",
         "name": "Test accuracy 3 Class",
         "type": "scatter",
         "x": [
          0,
          1,
          2,
          3,
          4,
          5,
          6,
          7,
          8,
          9,
          10,
          11,
          12,
          13,
          14,
          15,
          16,
          17,
          18,
          19,
          20,
          21,
          22,
          23,
          24,
          25,
          26,
          27,
          28,
          29,
          30,
          31,
          32,
          33,
          34,
          35,
          36,
          37,
          38,
          39,
          40,
          41,
          42,
          43,
          44,
          45,
          46,
          47,
          48,
          49
         ],
         "y": [
          68.91025641025641,
          70.51282051282051,
          68.75,
          62.82051282051282,
          75.16025641025641,
          67.94871794871794,
          68.26923076923077,
          67.62820512820512,
          77.08333333333333,
          77.88461538461539,
          78.68589743589743,
          71.9551282051282,
          76.12179487179488,
          70.99358974358974,
          78.84615384615384,
          78.52564102564102,
          77.56410256410257,
          77.08333333333333,
          80.12820512820512,
          80.28846153846153,
          80.76923076923077,
          79.32692307692308,
          78.36538461538461,
          83.49358974358974,
          75.16025641025641,
          82.05128205128206,
          76.6025641025641,
          79.00641025641026,
          71.63461538461539,
          79.00641025641026,
          81.25,
          81.89102564102564,
          79.96794871794872,
          80.92948717948718,
          83.17307692307692,
          82.6923076923077,
          78.84615384615384,
          79.8076923076923,
          82.05128205128206,
          79.8076923076923,
          78.52564102564102,
          80.92948717948718,
          82.37179487179488,
          82.53205128205128,
          81.41025641025641,
          77.72435897435898,
          79.8076923076923,
          80.28846153846153,
          77.24358974358974,
          77.56410256410257
         ]
        }
       ],
       "layout": {
        "template": {
         "data": {
          "bar": [
           {
            "error_x": {
             "color": "#2a3f5f"
            },
            "error_y": {
             "color": "#2a3f5f"
            },
            "marker": {
             "line": {
              "color": "#E5ECF6",
              "width": 0.5
             }
            },
            "type": "bar"
           }
          ],
          "barpolar": [
           {
            "marker": {
             "line": {
              "color": "#E5ECF6",
              "width": 0.5
             }
            },
            "type": "barpolar"
           }
          ],
          "carpet": [
           {
            "aaxis": {
             "endlinecolor": "#2a3f5f",
             "gridcolor": "white",
             "linecolor": "white",
             "minorgridcolor": "white",
             "startlinecolor": "#2a3f5f"
            },
            "baxis": {
             "endlinecolor": "#2a3f5f",
             "gridcolor": "white",
             "linecolor": "white",
             "minorgridcolor": "white",
             "startlinecolor": "#2a3f5f"
            },
            "type": "carpet"
           }
          ],
          "choropleth": [
           {
            "colorbar": {
             "outlinewidth": 0,
             "ticks": ""
            },
            "type": "choropleth"
           }
          ],
          "contour": [
           {
            "colorbar": {
             "outlinewidth": 0,
             "ticks": ""
            },
            "colorscale": [
             [
              0,
              "#0d0887"
             ],
             [
              0.1111111111111111,
              "#46039f"
             ],
             [
              0.2222222222222222,
              "#7201a8"
             ],
             [
              0.3333333333333333,
              "#9c179e"
             ],
             [
              0.4444444444444444,
              "#bd3786"
             ],
             [
              0.5555555555555556,
              "#d8576b"
             ],
             [
              0.6666666666666666,
              "#ed7953"
             ],
             [
              0.7777777777777778,
              "#fb9f3a"
             ],
             [
              0.8888888888888888,
              "#fdca26"
             ],
             [
              1,
              "#f0f921"
             ]
            ],
            "type": "contour"
           }
          ],
          "contourcarpet": [
           {
            "colorbar": {
             "outlinewidth": 0,
             "ticks": ""
            },
            "type": "contourcarpet"
           }
          ],
          "heatmap": [
           {
            "colorbar": {
             "outlinewidth": 0,
             "ticks": ""
            },
            "colorscale": [
             [
              0,
              "#0d0887"
             ],
             [
              0.1111111111111111,
              "#46039f"
             ],
             [
              0.2222222222222222,
              "#7201a8"
             ],
             [
              0.3333333333333333,
              "#9c179e"
             ],
             [
              0.4444444444444444,
              "#bd3786"
             ],
             [
              0.5555555555555556,
              "#d8576b"
             ],
             [
              0.6666666666666666,
              "#ed7953"
             ],
             [
              0.7777777777777778,
              "#fb9f3a"
             ],
             [
              0.8888888888888888,
              "#fdca26"
             ],
             [
              1,
              "#f0f921"
             ]
            ],
            "type": "heatmap"
           }
          ],
          "heatmapgl": [
           {
            "colorbar": {
             "outlinewidth": 0,
             "ticks": ""
            },
            "colorscale": [
             [
              0,
              "#0d0887"
             ],
             [
              0.1111111111111111,
              "#46039f"
             ],
             [
              0.2222222222222222,
              "#7201a8"
             ],
             [
              0.3333333333333333,
              "#9c179e"
             ],
             [
              0.4444444444444444,
              "#bd3786"
             ],
             [
              0.5555555555555556,
              "#d8576b"
             ],
             [
              0.6666666666666666,
              "#ed7953"
             ],
             [
              0.7777777777777778,
              "#fb9f3a"
             ],
             [
              0.8888888888888888,
              "#fdca26"
             ],
             [
              1,
              "#f0f921"
             ]
            ],
            "type": "heatmapgl"
           }
          ],
          "histogram": [
           {
            "marker": {
             "colorbar": {
              "outlinewidth": 0,
              "ticks": ""
             }
            },
            "type": "histogram"
           }
          ],
          "histogram2d": [
           {
            "colorbar": {
             "outlinewidth": 0,
             "ticks": ""
            },
            "colorscale": [
             [
              0,
              "#0d0887"
             ],
             [
              0.1111111111111111,
              "#46039f"
             ],
             [
              0.2222222222222222,
              "#7201a8"
             ],
             [
              0.3333333333333333,
              "#9c179e"
             ],
             [
              0.4444444444444444,
              "#bd3786"
             ],
             [
              0.5555555555555556,
              "#d8576b"
             ],
             [
              0.6666666666666666,
              "#ed7953"
             ],
             [
              0.7777777777777778,
              "#fb9f3a"
             ],
             [
              0.8888888888888888,
              "#fdca26"
             ],
             [
              1,
              "#f0f921"
             ]
            ],
            "type": "histogram2d"
           }
          ],
          "histogram2dcontour": [
           {
            "colorbar": {
             "outlinewidth": 0,
             "ticks": ""
            },
            "colorscale": [
             [
              0,
              "#0d0887"
             ],
             [
              0.1111111111111111,
              "#46039f"
             ],
             [
              0.2222222222222222,
              "#7201a8"
             ],
             [
              0.3333333333333333,
              "#9c179e"
             ],
             [
              0.4444444444444444,
              "#bd3786"
             ],
             [
              0.5555555555555556,
              "#d8576b"
             ],
             [
              0.6666666666666666,
              "#ed7953"
             ],
             [
              0.7777777777777778,
              "#fb9f3a"
             ],
             [
              0.8888888888888888,
              "#fdca26"
             ],
             [
              1,
              "#f0f921"
             ]
            ],
            "type": "histogram2dcontour"
           }
          ],
          "mesh3d": [
           {
            "colorbar": {
             "outlinewidth": 0,
             "ticks": ""
            },
            "type": "mesh3d"
           }
          ],
          "parcoords": [
           {
            "line": {
             "colorbar": {
              "outlinewidth": 0,
              "ticks": ""
             }
            },
            "type": "parcoords"
           }
          ],
          "pie": [
           {
            "automargin": true,
            "type": "pie"
           }
          ],
          "scatter": [
           {
            "marker": {
             "colorbar": {
              "outlinewidth": 0,
              "ticks": ""
             }
            },
            "type": "scatter"
           }
          ],
          "scatter3d": [
           {
            "line": {
             "colorbar": {
              "outlinewidth": 0,
              "ticks": ""
             }
            },
            "marker": {
             "colorbar": {
              "outlinewidth": 0,
              "ticks": ""
             }
            },
            "type": "scatter3d"
           }
          ],
          "scattercarpet": [
           {
            "marker": {
             "colorbar": {
              "outlinewidth": 0,
              "ticks": ""
             }
            },
            "type": "scattercarpet"
           }
          ],
          "scattergeo": [
           {
            "marker": {
             "colorbar": {
              "outlinewidth": 0,
              "ticks": ""
             }
            },
            "type": "scattergeo"
           }
          ],
          "scattergl": [
           {
            "marker": {
             "colorbar": {
              "outlinewidth": 0,
              "ticks": ""
             }
            },
            "type": "scattergl"
           }
          ],
          "scattermapbox": [
           {
            "marker": {
             "colorbar": {
              "outlinewidth": 0,
              "ticks": ""
             }
            },
            "type": "scattermapbox"
           }
          ],
          "scatterpolar": [
           {
            "marker": {
             "colorbar": {
              "outlinewidth": 0,
              "ticks": ""
             }
            },
            "type": "scatterpolar"
           }
          ],
          "scatterpolargl": [
           {
            "marker": {
             "colorbar": {
              "outlinewidth": 0,
              "ticks": ""
             }
            },
            "type": "scatterpolargl"
           }
          ],
          "scatterternary": [
           {
            "marker": {
             "colorbar": {
              "outlinewidth": 0,
              "ticks": ""
             }
            },
            "type": "scatterternary"
           }
          ],
          "surface": [
           {
            "colorbar": {
             "outlinewidth": 0,
             "ticks": ""
            },
            "colorscale": [
             [
              0,
              "#0d0887"
             ],
             [
              0.1111111111111111,
              "#46039f"
             ],
             [
              0.2222222222222222,
              "#7201a8"
             ],
             [
              0.3333333333333333,
              "#9c179e"
             ],
             [
              0.4444444444444444,
              "#bd3786"
             ],
             [
              0.5555555555555556,
              "#d8576b"
             ],
             [
              0.6666666666666666,
              "#ed7953"
             ],
             [
              0.7777777777777778,
              "#fb9f3a"
             ],
             [
              0.8888888888888888,
              "#fdca26"
             ],
             [
              1,
              "#f0f921"
             ]
            ],
            "type": "surface"
           }
          ],
          "table": [
           {
            "cells": {
             "fill": {
              "color": "#EBF0F8"
             },
             "line": {
              "color": "white"
             }
            },
            "header": {
             "fill": {
              "color": "#C8D4E3"
             },
             "line": {
              "color": "white"
             }
            },
            "type": "table"
           }
          ]
         },
         "layout": {
          "annotationdefaults": {
           "arrowcolor": "#2a3f5f",
           "arrowhead": 0,
           "arrowwidth": 1
          },
          "coloraxis": {
           "colorbar": {
            "outlinewidth": 0,
            "ticks": ""
           }
          },
          "colorscale": {
           "diverging": [
            [
             0,
             "#8e0152"
            ],
            [
             0.1,
             "#c51b7d"
            ],
            [
             0.2,
             "#de77ae"
            ],
            [
             0.3,
             "#f1b6da"
            ],
            [
             0.4,
             "#fde0ef"
            ],
            [
             0.5,
             "#f7f7f7"
            ],
            [
             0.6,
             "#e6f5d0"
            ],
            [
             0.7,
             "#b8e186"
            ],
            [
             0.8,
             "#7fbc41"
            ],
            [
             0.9,
             "#4d9221"
            ],
            [
             1,
             "#276419"
            ]
           ],
           "sequential": [
            [
             0,
             "#0d0887"
            ],
            [
             0.1111111111111111,
             "#46039f"
            ],
            [
             0.2222222222222222,
             "#7201a8"
            ],
            [
             0.3333333333333333,
             "#9c179e"
            ],
            [
             0.4444444444444444,
             "#bd3786"
            ],
            [
             0.5555555555555556,
             "#d8576b"
            ],
            [
             0.6666666666666666,
             "#ed7953"
            ],
            [
             0.7777777777777778,
             "#fb9f3a"
            ],
            [
             0.8888888888888888,
             "#fdca26"
            ],
            [
             1,
             "#f0f921"
            ]
           ],
           "sequentialminus": [
            [
             0,
             "#0d0887"
            ],
            [
             0.1111111111111111,
             "#46039f"
            ],
            [
             0.2222222222222222,
             "#7201a8"
            ],
            [
             0.3333333333333333,
             "#9c179e"
            ],
            [
             0.4444444444444444,
             "#bd3786"
            ],
            [
             0.5555555555555556,
             "#d8576b"
            ],
            [
             0.6666666666666666,
             "#ed7953"
            ],
            [
             0.7777777777777778,
             "#fb9f3a"
            ],
            [
             0.8888888888888888,
             "#fdca26"
            ],
            [
             1,
             "#f0f921"
            ]
           ]
          },
          "colorway": [
           "#636efa",
           "#EF553B",
           "#00cc96",
           "#ab63fa",
           "#FFA15A",
           "#19d3f3",
           "#FF6692",
           "#B6E880",
           "#FF97FF",
           "#FECB52"
          ],
          "font": {
           "color": "#2a3f5f"
          },
          "geo": {
           "bgcolor": "white",
           "lakecolor": "white",
           "landcolor": "#E5ECF6",
           "showlakes": true,
           "showland": true,
           "subunitcolor": "white"
          },
          "hoverlabel": {
           "align": "left"
          },
          "hovermode": "closest",
          "mapbox": {
           "style": "light"
          },
          "paper_bgcolor": "white",
          "plot_bgcolor": "#E5ECF6",
          "polar": {
           "angularaxis": {
            "gridcolor": "white",
            "linecolor": "white",
            "ticks": ""
           },
           "bgcolor": "#E5ECF6",
           "radialaxis": {
            "gridcolor": "white",
            "linecolor": "white",
            "ticks": ""
           }
          },
          "scene": {
           "xaxis": {
            "backgroundcolor": "#E5ECF6",
            "gridcolor": "white",
            "gridwidth": 2,
            "linecolor": "white",
            "showbackground": true,
            "ticks": "",
            "zerolinecolor": "white"
           },
           "yaxis": {
            "backgroundcolor": "#E5ECF6",
            "gridcolor": "white",
            "gridwidth": 2,
            "linecolor": "white",
            "showbackground": true,
            "ticks": "",
            "zerolinecolor": "white"
           },
           "zaxis": {
            "backgroundcolor": "#E5ECF6",
            "gridcolor": "white",
            "gridwidth": 2,
            "linecolor": "white",
            "showbackground": true,
            "ticks": "",
            "zerolinecolor": "white"
           }
          },
          "shapedefaults": {
           "line": {
            "color": "#2a3f5f"
           }
          },
          "ternary": {
           "aaxis": {
            "gridcolor": "white",
            "linecolor": "white",
            "ticks": ""
           },
           "baxis": {
            "gridcolor": "white",
            "linecolor": "white",
            "ticks": ""
           },
           "bgcolor": "#E5ECF6",
           "caxis": {
            "gridcolor": "white",
            "linecolor": "white",
            "ticks": ""
           }
          },
          "title": {
           "x": 0.05
          },
          "xaxis": {
           "automargin": true,
           "gridcolor": "white",
           "linecolor": "white",
           "ticks": "",
           "title": {
            "standoff": 15
           },
           "zerolinecolor": "white",
           "zerolinewidth": 2
          },
          "yaxis": {
           "automargin": true,
           "gridcolor": "white",
           "linecolor": "white",
           "ticks": "",
           "title": {
            "standoff": 15
           },
           "zerolinecolor": "white",
           "zerolinewidth": 2
          }
         }
        },
        "title": {
         "text": "Accuracy Rates for 3 Class Pneumonia Classification"
        },
        "xaxis": {
         "title": {
          "text": "Epoch"
         }
        },
        "yaxis": {
         "title": {
          "text": "Accuracy Rate"
         }
        }
       }
      },
      "text/html": [
       "<div>\n",
       "        \n",
       "        \n",
       "            <div id=\"8730e0e3-82ba-4da3-8ef0-febd86c329f5\" class=\"plotly-graph-div\" style=\"height:525px; width:100%;\"></div>\n",
       "            <script type=\"text/javascript\">\n",
       "                require([\"plotly\"], function(Plotly) {\n",
       "                    window.PLOTLYENV=window.PLOTLYENV || {};\n",
       "                    \n",
       "                if (document.getElementById(\"8730e0e3-82ba-4da3-8ef0-febd86c329f5\")) {\n",
       "                    Plotly.newPlot(\n",
       "                        '8730e0e3-82ba-4da3-8ef0-febd86c329f5',\n",
       "                        [{\"mode\": \"lines+markers\", \"name\": \"Training accuracy 3 Class\", \"type\": \"scatter\", \"x\": [0, 1, 2, 3, 4, 5, 6, 7, 8, 9, 10, 11, 12, 13, 14, 15, 16, 17, 18, 19, 20, 21, 22, 23, 24, 25, 26, 27, 28, 29, 30, 31, 32, 33, 34, 35, 36, 37, 38, 39, 40, 41, 42, 43, 44, 45, 46, 47, 48, 49], \"y\": [57.80291411042945, 64.37883435582822, 66.00843558282209, 68.7308282208589, 71.875, 69.05674846625767, 71.83665644171779, 71.31901840490798, 74.21395705521472, 75.0, 75.4217791411043, 74.25230061349693, 75.80521472392638, 76.15030674846626, 75.8819018404908, 75.8627300613497, 76.26533742331289, 76.3420245398773, 76.85966257668711, 75.55598159509202, 76.95552147239263, 77.6840490797546, 78.31671779141104, 76.53374233128834, 78.24003067484662, 76.87883435582822, 77.93328220858896, 78.18251533742331, 76.16947852760737, 78.24003067484662, 78.50843558282209, 77.74156441717791, 78.73849693251533, 78.45092024539878, 78.77684049079754, 76.13113496932516, 78.91104294478528, 79.27530674846626, 78.75766871165644, 79.14110429447852, 79.31365030674847, 79.4670245398773, 79.21779141104294, 78.89187116564418, 79.56288343558282, 79.21779141104294, 79.12193251533742, 79.63957055214723, 79.31365030674847, 79.85046012269939]}, {\"mode\": \"lines+markers\", \"name\": \"Test accuracy 3 Class\", \"type\": \"scatter\", \"x\": [0, 1, 2, 3, 4, 5, 6, 7, 8, 9, 10, 11, 12, 13, 14, 15, 16, 17, 18, 19, 20, 21, 22, 23, 24, 25, 26, 27, 28, 29, 30, 31, 32, 33, 34, 35, 36, 37, 38, 39, 40, 41, 42, 43, 44, 45, 46, 47, 48, 49], \"y\": [68.91025641025641, 70.51282051282051, 68.75, 62.82051282051282, 75.16025641025641, 67.94871794871794, 68.26923076923077, 67.62820512820512, 77.08333333333333, 77.88461538461539, 78.68589743589743, 71.9551282051282, 76.12179487179488, 70.99358974358974, 78.84615384615384, 78.52564102564102, 77.56410256410257, 77.08333333333333, 80.12820512820512, 80.28846153846153, 80.76923076923077, 79.32692307692308, 78.36538461538461, 83.49358974358974, 75.16025641025641, 82.05128205128206, 76.6025641025641, 79.00641025641026, 71.63461538461539, 79.00641025641026, 81.25, 81.89102564102564, 79.96794871794872, 80.92948717948718, 83.17307692307692, 82.6923076923077, 78.84615384615384, 79.8076923076923, 82.05128205128206, 79.8076923076923, 78.52564102564102, 80.92948717948718, 82.37179487179488, 82.53205128205128, 81.41025641025641, 77.72435897435898, 79.8076923076923, 80.28846153846153, 77.24358974358974, 77.56410256410257]}],\n",
       "                        {\"template\": {\"data\": {\"bar\": [{\"error_x\": {\"color\": \"#2a3f5f\"}, \"error_y\": {\"color\": \"#2a3f5f\"}, \"marker\": {\"line\": {\"color\": \"#E5ECF6\", \"width\": 0.5}}, \"type\": \"bar\"}], \"barpolar\": [{\"marker\": {\"line\": {\"color\": \"#E5ECF6\", \"width\": 0.5}}, \"type\": \"barpolar\"}], \"carpet\": [{\"aaxis\": {\"endlinecolor\": \"#2a3f5f\", \"gridcolor\": \"white\", \"linecolor\": \"white\", \"minorgridcolor\": \"white\", \"startlinecolor\": \"#2a3f5f\"}, \"baxis\": {\"endlinecolor\": \"#2a3f5f\", \"gridcolor\": \"white\", \"linecolor\": \"white\", \"minorgridcolor\": \"white\", \"startlinecolor\": \"#2a3f5f\"}, \"type\": \"carpet\"}], \"choropleth\": [{\"colorbar\": {\"outlinewidth\": 0, \"ticks\": \"\"}, \"type\": \"choropleth\"}], \"contour\": [{\"colorbar\": {\"outlinewidth\": 0, \"ticks\": \"\"}, \"colorscale\": [[0.0, \"#0d0887\"], [0.1111111111111111, \"#46039f\"], [0.2222222222222222, \"#7201a8\"], [0.3333333333333333, \"#9c179e\"], [0.4444444444444444, \"#bd3786\"], [0.5555555555555556, \"#d8576b\"], [0.6666666666666666, \"#ed7953\"], [0.7777777777777778, \"#fb9f3a\"], [0.8888888888888888, \"#fdca26\"], [1.0, \"#f0f921\"]], \"type\": \"contour\"}], \"contourcarpet\": [{\"colorbar\": {\"outlinewidth\": 0, \"ticks\": \"\"}, \"type\": \"contourcarpet\"}], \"heatmap\": [{\"colorbar\": {\"outlinewidth\": 0, \"ticks\": \"\"}, \"colorscale\": [[0.0, \"#0d0887\"], [0.1111111111111111, \"#46039f\"], [0.2222222222222222, \"#7201a8\"], [0.3333333333333333, \"#9c179e\"], [0.4444444444444444, \"#bd3786\"], [0.5555555555555556, \"#d8576b\"], [0.6666666666666666, \"#ed7953\"], [0.7777777777777778, \"#fb9f3a\"], [0.8888888888888888, \"#fdca26\"], [1.0, \"#f0f921\"]], \"type\": \"heatmap\"}], \"heatmapgl\": [{\"colorbar\": {\"outlinewidth\": 0, \"ticks\": \"\"}, \"colorscale\": [[0.0, \"#0d0887\"], [0.1111111111111111, \"#46039f\"], [0.2222222222222222, \"#7201a8\"], [0.3333333333333333, \"#9c179e\"], [0.4444444444444444, \"#bd3786\"], [0.5555555555555556, \"#d8576b\"], [0.6666666666666666, \"#ed7953\"], [0.7777777777777778, \"#fb9f3a\"], [0.8888888888888888, \"#fdca26\"], [1.0, \"#f0f921\"]], \"type\": \"heatmapgl\"}], \"histogram\": [{\"marker\": {\"colorbar\": {\"outlinewidth\": 0, \"ticks\": \"\"}}, \"type\": \"histogram\"}], \"histogram2d\": [{\"colorbar\": {\"outlinewidth\": 0, \"ticks\": \"\"}, \"colorscale\": [[0.0, \"#0d0887\"], [0.1111111111111111, \"#46039f\"], [0.2222222222222222, \"#7201a8\"], [0.3333333333333333, \"#9c179e\"], [0.4444444444444444, \"#bd3786\"], [0.5555555555555556, \"#d8576b\"], [0.6666666666666666, \"#ed7953\"], [0.7777777777777778, \"#fb9f3a\"], [0.8888888888888888, \"#fdca26\"], [1.0, \"#f0f921\"]], \"type\": \"histogram2d\"}], \"histogram2dcontour\": [{\"colorbar\": {\"outlinewidth\": 0, \"ticks\": \"\"}, \"colorscale\": [[0.0, \"#0d0887\"], [0.1111111111111111, \"#46039f\"], [0.2222222222222222, \"#7201a8\"], [0.3333333333333333, \"#9c179e\"], [0.4444444444444444, \"#bd3786\"], [0.5555555555555556, \"#d8576b\"], [0.6666666666666666, \"#ed7953\"], [0.7777777777777778, \"#fb9f3a\"], [0.8888888888888888, \"#fdca26\"], [1.0, \"#f0f921\"]], \"type\": \"histogram2dcontour\"}], \"mesh3d\": [{\"colorbar\": {\"outlinewidth\": 0, \"ticks\": \"\"}, \"type\": \"mesh3d\"}], \"parcoords\": [{\"line\": {\"colorbar\": {\"outlinewidth\": 0, \"ticks\": \"\"}}, \"type\": \"parcoords\"}], \"pie\": [{\"automargin\": true, \"type\": \"pie\"}], \"scatter\": [{\"marker\": {\"colorbar\": {\"outlinewidth\": 0, \"ticks\": \"\"}}, \"type\": \"scatter\"}], \"scatter3d\": [{\"line\": {\"colorbar\": {\"outlinewidth\": 0, \"ticks\": \"\"}}, \"marker\": {\"colorbar\": {\"outlinewidth\": 0, \"ticks\": \"\"}}, \"type\": \"scatter3d\"}], \"scattercarpet\": [{\"marker\": {\"colorbar\": {\"outlinewidth\": 0, \"ticks\": \"\"}}, \"type\": \"scattercarpet\"}], \"scattergeo\": [{\"marker\": {\"colorbar\": {\"outlinewidth\": 0, \"ticks\": \"\"}}, \"type\": \"scattergeo\"}], \"scattergl\": [{\"marker\": {\"colorbar\": {\"outlinewidth\": 0, \"ticks\": \"\"}}, \"type\": \"scattergl\"}], \"scattermapbox\": [{\"marker\": {\"colorbar\": {\"outlinewidth\": 0, \"ticks\": \"\"}}, \"type\": \"scattermapbox\"}], \"scatterpolar\": [{\"marker\": {\"colorbar\": {\"outlinewidth\": 0, \"ticks\": \"\"}}, \"type\": \"scatterpolar\"}], \"scatterpolargl\": [{\"marker\": {\"colorbar\": {\"outlinewidth\": 0, \"ticks\": \"\"}}, \"type\": \"scatterpolargl\"}], \"scatterternary\": [{\"marker\": {\"colorbar\": {\"outlinewidth\": 0, \"ticks\": \"\"}}, \"type\": \"scatterternary\"}], \"surface\": [{\"colorbar\": {\"outlinewidth\": 0, \"ticks\": \"\"}, \"colorscale\": [[0.0, \"#0d0887\"], [0.1111111111111111, \"#46039f\"], [0.2222222222222222, \"#7201a8\"], [0.3333333333333333, \"#9c179e\"], [0.4444444444444444, \"#bd3786\"], [0.5555555555555556, \"#d8576b\"], [0.6666666666666666, \"#ed7953\"], [0.7777777777777778, \"#fb9f3a\"], [0.8888888888888888, \"#fdca26\"], [1.0, \"#f0f921\"]], \"type\": \"surface\"}], \"table\": [{\"cells\": {\"fill\": {\"color\": \"#EBF0F8\"}, \"line\": {\"color\": \"white\"}}, \"header\": {\"fill\": {\"color\": \"#C8D4E3\"}, \"line\": {\"color\": \"white\"}}, \"type\": \"table\"}]}, \"layout\": {\"annotationdefaults\": {\"arrowcolor\": \"#2a3f5f\", \"arrowhead\": 0, \"arrowwidth\": 1}, \"coloraxis\": {\"colorbar\": {\"outlinewidth\": 0, \"ticks\": \"\"}}, \"colorscale\": {\"diverging\": [[0, \"#8e0152\"], [0.1, \"#c51b7d\"], [0.2, \"#de77ae\"], [0.3, \"#f1b6da\"], [0.4, \"#fde0ef\"], [0.5, \"#f7f7f7\"], [0.6, \"#e6f5d0\"], [0.7, \"#b8e186\"], [0.8, \"#7fbc41\"], [0.9, \"#4d9221\"], [1, \"#276419\"]], \"sequential\": [[0.0, \"#0d0887\"], [0.1111111111111111, \"#46039f\"], [0.2222222222222222, \"#7201a8\"], [0.3333333333333333, \"#9c179e\"], [0.4444444444444444, \"#bd3786\"], [0.5555555555555556, \"#d8576b\"], [0.6666666666666666, \"#ed7953\"], [0.7777777777777778, \"#fb9f3a\"], [0.8888888888888888, \"#fdca26\"], [1.0, \"#f0f921\"]], \"sequentialminus\": [[0.0, \"#0d0887\"], [0.1111111111111111, \"#46039f\"], [0.2222222222222222, \"#7201a8\"], [0.3333333333333333, \"#9c179e\"], [0.4444444444444444, \"#bd3786\"], [0.5555555555555556, \"#d8576b\"], [0.6666666666666666, \"#ed7953\"], [0.7777777777777778, \"#fb9f3a\"], [0.8888888888888888, \"#fdca26\"], [1.0, \"#f0f921\"]]}, \"colorway\": [\"#636efa\", \"#EF553B\", \"#00cc96\", \"#ab63fa\", \"#FFA15A\", \"#19d3f3\", \"#FF6692\", \"#B6E880\", \"#FF97FF\", \"#FECB52\"], \"font\": {\"color\": \"#2a3f5f\"}, \"geo\": {\"bgcolor\": \"white\", \"lakecolor\": \"white\", \"landcolor\": \"#E5ECF6\", \"showlakes\": true, \"showland\": true, \"subunitcolor\": \"white\"}, \"hoverlabel\": {\"align\": \"left\"}, \"hovermode\": \"closest\", \"mapbox\": {\"style\": \"light\"}, \"paper_bgcolor\": \"white\", \"plot_bgcolor\": \"#E5ECF6\", \"polar\": {\"angularaxis\": {\"gridcolor\": \"white\", \"linecolor\": \"white\", \"ticks\": \"\"}, \"bgcolor\": \"#E5ECF6\", \"radialaxis\": {\"gridcolor\": \"white\", \"linecolor\": \"white\", \"ticks\": \"\"}}, \"scene\": {\"xaxis\": {\"backgroundcolor\": \"#E5ECF6\", \"gridcolor\": \"white\", \"gridwidth\": 2, \"linecolor\": \"white\", \"showbackground\": true, \"ticks\": \"\", \"zerolinecolor\": \"white\"}, \"yaxis\": {\"backgroundcolor\": \"#E5ECF6\", \"gridcolor\": \"white\", \"gridwidth\": 2, \"linecolor\": \"white\", \"showbackground\": true, \"ticks\": \"\", \"zerolinecolor\": \"white\"}, \"zaxis\": {\"backgroundcolor\": \"#E5ECF6\", \"gridcolor\": \"white\", \"gridwidth\": 2, \"linecolor\": \"white\", \"showbackground\": true, \"ticks\": \"\", \"zerolinecolor\": \"white\"}}, \"shapedefaults\": {\"line\": {\"color\": \"#2a3f5f\"}}, \"ternary\": {\"aaxis\": {\"gridcolor\": \"white\", \"linecolor\": \"white\", \"ticks\": \"\"}, \"baxis\": {\"gridcolor\": \"white\", \"linecolor\": \"white\", \"ticks\": \"\"}, \"bgcolor\": \"#E5ECF6\", \"caxis\": {\"gridcolor\": \"white\", \"linecolor\": \"white\", \"ticks\": \"\"}}, \"title\": {\"x\": 0.05}, \"xaxis\": {\"automargin\": true, \"gridcolor\": \"white\", \"linecolor\": \"white\", \"ticks\": \"\", \"title\": {\"standoff\": 15}, \"zerolinecolor\": \"white\", \"zerolinewidth\": 2}, \"yaxis\": {\"automargin\": true, \"gridcolor\": \"white\", \"linecolor\": \"white\", \"ticks\": \"\", \"title\": {\"standoff\": 15}, \"zerolinecolor\": \"white\", \"zerolinewidth\": 2}}}, \"title\": {\"text\": \"Accuracy Rates for 3 Class Pneumonia Classification\"}, \"xaxis\": {\"title\": {\"text\": \"Epoch\"}}, \"yaxis\": {\"title\": {\"text\": \"Accuracy Rate\"}}},\n",
       "                        {\"responsive\": true}\n",
       "                    ).then(function(){\n",
       "                            \n",
       "var gd = document.getElementById('8730e0e3-82ba-4da3-8ef0-febd86c329f5');\n",
       "var x = new MutationObserver(function (mutations, observer) {{\n",
       "        var display = window.getComputedStyle(gd).display;\n",
       "        if (!display || display === 'none') {{\n",
       "            console.log([gd, 'removed!']);\n",
       "            Plotly.purge(gd);\n",
       "            observer.disconnect();\n",
       "        }}\n",
       "}});\n",
       "\n",
       "// Listen for the removal of the full notebook cells\n",
       "var notebookContainer = gd.closest('#notebook-container');\n",
       "if (notebookContainer) {{\n",
       "    x.observe(notebookContainer, {childList: true});\n",
       "}}\n",
       "\n",
       "// Listen for the clearing of the current output cell\n",
       "var outputEl = gd.closest('.output');\n",
       "if (outputEl) {{\n",
       "    x.observe(outputEl, {childList: true});\n",
       "}}\n",
       "\n",
       "                        })\n",
       "                };\n",
       "                });\n",
       "            </script>\n",
       "        </div>"
      ]
     },
     "metadata": {},
     "output_type": "display_data"
    }
   ],
   "source": [
    "#Confusion matrix for 2 classes\n",
    "y_pred_2class = np.argmax(model_2class(x_test_2d).cpu().detach(),axis=1)\n",
    "y_test_cpu_2class = y_test_2class.cpu()\n",
    "\n",
    "cm1 = confusion_matrix(y_pred_2class,y_test_cpu_2class)\n",
    "precision1 = np.diag(cm1)/cm1.sum(axis=1)\n",
    "recall1 = np.diag(cm1)/cm1.sum(axis=0)\n",
    "print('precision:',precision1)\n",
    "print('recall:',recall1)\n",
    "print(cm1)\n",
    "\n",
    "#confusion matrix for 3 classes\n",
    "y_pred_3class = np.argmax(model_3class(x_test_2d).cpu().detach(),axis=1)\n",
    "y_test_cpu_3class = y_test_3class.cpu()\n",
    "\n",
    "cm2 = confusion_matrix(y_pred_3class,y_test_cpu_3class)\n",
    "precision2 = np.diag(cm2)/cm2.sum(axis=1)\n",
    "recall2 = np.diag(cm2)/cm2.sum(axis=0)\n",
    "print('precision:',precision2)\n",
    "print('recall:',recall2)\n",
    "print(cm2)\n",
    "\n",
    "#plots for training and testing accuracy for 2 and 3 class compared\n",
    "x = [x for x in range(0,50)]\n",
    "fig = go.Figure()\n",
    "fig.add_trace(go.Scatter(x =x,y=train_accs_2class,mode = 'lines+markers',name = 'Training accuracy 2 Class'))\n",
    "fig.add_trace(go.Scatter(x =x,y=test_accs_2class,mode = 'lines+markers',name = 'Test accuracy 2 Class'))\n",
    "fig.update_layout(title_text = 'Accuracy Rates for 2 Class Pneumonia Classification')\n",
    "fig.update_xaxes(title_text = 'Epoch')\n",
    "fig.update_yaxes(title_text = 'Accuracy Rate')\n",
    "fig.show()\n",
    "\n",
    "fig = go.Figure()\n",
    "fig.add_trace(go.Scatter(x =x,y=train_accs_3class,mode = 'lines+markers',name = 'Training accuracy 3 Class'))\n",
    "fig.add_trace(go.Scatter(x =x,y=test_accs_3class,mode = 'lines+markers',name = 'Test accuracy 3 Class'))\n",
    "fig.update_layout(title_text = 'Accuracy Rates for 3 Class Pneumonia Classification')\n",
    "fig.update_xaxes(title_text = 'Epoch')\n",
    "fig.update_yaxes(title_text = 'Accuracy Rate')\n",
    "fig.show()\n"
   ]
  }
 ],
 "metadata": {
  "kernelspec": {
   "display_name": "Python 3",
   "language": "python",
   "name": "python3"
  },
  "language_info": {
   "codemirror_mode": {
    "name": "ipython",
    "version": 3
   },
   "file_extension": ".py",
   "mimetype": "text/x-python",
   "name": "python",
   "nbconvert_exporter": "python",
   "pygments_lexer": "ipython3",
   "version": "3.7.4"
  }
 },
 "nbformat": 4,
 "nbformat_minor": 2
}
